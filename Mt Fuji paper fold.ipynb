{
 "cells": [
  {
   "cell_type": "code",
   "execution_count": 13,
   "id": "7ed9d716",
   "metadata": {},
   "outputs": [
    {
     "name": "stdout",
     "output_type": "stream",
     "text": [
      "It will take 27 folds to exceed the height of Mt Fuji.\n"
     ]
    }
   ],
   "source": [
    "import math\n",
    "\n",
    "#to calculate the number of times a paper will be folded to exceed Mt Fuji\n",
    "#Thickness=tk\n",
    "#folded_thickness=ftk\n",
    "#height_of_fuji= hof\n",
    "#paperThickness=pt\n",
    "\n",
    "\"\"\"\n",
    "Units are in meters\n",
    "\"\"\"\n",
    "def fold_paper(numOfFolds):\n",
    "    #Folds  paper (numOfFolds) number of times n and returns the thickness\n",
    "    tk = 0.00008\n",
    "    ftk = 0\n",
    "\n",
    "    for x in range(numOfFolds):\n",
    "        ftk = tk*(2**x)\n",
    "    return ftk\n",
    "\n",
    "x = 1\n",
    "while True:\n",
    "    hof = 3776\n",
    "    \n",
    "    pt = fold_paper(x)\n",
    "    if pt >= hof:\n",
    "        break\n",
    "    x+=1\n",
    "    \n",
    "print(\"It will take {} folds to exceed the height of Mt Fuji.\".format(x))\n",
    "    "
   ]
  },
  {
   "cell_type": "code",
   "execution_count": 23,
   "id": "7b617072",
   "metadata": {},
   "outputs": [
    {
     "name": "stdout",
     "output_type": "stream",
     "text": [
      "It would take 27 folds to exceed 3776 m\n",
      "It would take 70 folds to exceed 4.0175e+16 m\n",
      "It would take 35 folds to exceed 703687.44 m\n"
     ]
    }
   ],
   "source": [
    "#Calculates number of times a paper would need to be folded to get to reach the nearest non-sun star.\n",
    "#paperThickness=pt\n",
    "\n",
    "def foldheight2ce(height):\n",
    "    x = 1\n",
    "    while True:\n",
    "        pt = fold_paper(x)\n",
    "        if pt >= height:\n",
    "            break\n",
    "        x+=1\n",
    "    print(f\"It would take {x} folds to exceed {height} m\")\n",
    "    return x\n",
    "\n",
    "fuji = foldheight2ce (3776) # no. of folds to exceed Mt Fuji\n",
    "\n",
    "proxima = foldheight2ce(4.0175e16)  # no. of folds to exceed the Proxima Centauri\n",
    "\n",
    "moon = foldheight2ce(703687.44) # no. of folds to exceed the moon"
   ]
  },
  {
   "cell_type": "code",
   "execution_count": 26,
   "id": "97b52984",
   "metadata": {},
   "outputs": [
    {
     "name": "stdout",
     "output_type": "stream",
     "text": [
      "You will need 5.838321440440139e+37 meters of paper to reach the Proxima Centauri\n",
      "You will need 4.945250617145761e+16 meters of paper to reach the moon\n",
      "You will need 754585377082.66 meters of paper to reach the Mt Fuji\n"
     ]
    }
   ],
   "source": [
    "def req_paper_len(n):\n",
    "    #Returns the length of paper needed to get n folds of paper\n",
    "    #Unit is in meters\n",
    "    #Thickness=tk\n",
    "   \n",
    "    tk = 8e-5\n",
    "    b = (pow(2, n) + 4) * (pow(2, n) - 1)\n",
    "    a = (math.pi * tk)/6\n",
    "\n",
    "    return round(a * b, 2)\n",
    "\n",
    "print(f\"You will need {req_paper_len(proxima)} meters of paper to reach the Proxima Centauri\")\n",
    "\n",
    "print(f\"You will need {req_paper_len(moon)} meters of paper to reach the moon\")\n",
    "\n",
    "print(f\"You will need {req_paper_len(fuji)} meters of paper to reach the Mt Fuji\")"
   ]
  },
  {
   "cell_type": "code",
   "execution_count": null,
   "id": "31179492",
   "metadata": {},
   "outputs": [],
   "source": []
  },
  {
   "cell_type": "code",
   "execution_count": null,
   "id": "67a8d2c9",
   "metadata": {},
   "outputs": [],
   "source": []
  }
 ],
 "metadata": {
  "kernelspec": {
   "display_name": "Python 3 (ipykernel)",
   "language": "python",
   "name": "python3"
  },
  "language_info": {
   "codemirror_mode": {
    "name": "ipython",
    "version": 3
   },
   "file_extension": ".py",
   "mimetype": "text/x-python",
   "name": "python",
   "nbconvert_exporter": "python",
   "pygments_lexer": "ipython3",
   "version": "3.11.5"
  }
 },
 "nbformat": 4,
 "nbformat_minor": 5
}
