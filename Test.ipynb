{
 "cells": [
  {
   "cell_type": "markdown",
   "id": "dc9ae120",
   "metadata": {},
   "source": [
    "print(1+1)\n"
   ]
  },
  {
   "cell_type": "markdown",
   "id": "839fa87b",
   "metadata": {},
   "source": [
    "print(1+2)"
   ]
  },
  {
   "cell_type": "markdown",
   "id": "fbf209f4",
   "metadata": {},
   "source": [
    "# Markdownとは\n",
    "\n",
    "## ゴール\n",
    "- **MarkDownとはなにかを理解し、記述できるようになる**\n",
    "\n",
    "## Markdownとはなにか\n",
    "\n",
    "Markdown（マークダウン）とは、文書を記述するためのマークアップ言語の1つです。\n",
    "マークアップ言語とは、テキストを構造化するための言語のことです。タグや記号を使ってテキストに目印をつけることによって、人間だけでなくコンピュータでもテキストの構造を認識できるようにします。\n",
    "\n",
    "身近なマークアップ言語の1つとしてHTMLがありますが、HTMLのマークアップはタグの種類も多く覚えるまでにある程度の時間を要します。それに対し、MarkdownはHTMLをさらに簡略化したマークアップ言語であることから、覚えやすく手軽に利用できます。\n",
    "\n",
    "## なぜMarkdownを学ぶのか\n",
    "\n",
    "Markdownは、元々テキスト形式で書いた文書からHTMLを生成するために開発されました。しかし、近年ではHTMLに留まらず、PDFやその他さまざまなファイル形式への変換にも対応しています。また、GitHubやStackOverFlowなど多くのサービスにおいてもMarkdownが採用されています。\n",
    "\n",
    "Markdownはプログラミングに限らずさまざまな場面で利用されているため、是非この機会に身に付けておきましょう。ディープロにおいてもMarkdownが利用できる機能が豊富に用意されていますので、利用する際は積極的にMarkdownを活用しましょう。"
   ]
  },
  {
   "cell_type": "code",
   "execution_count": 10,
   "id": "02817f95",
   "metadata": {},
   "outputs": [
    {
     "ename": "SyntaxError",
     "evalue": "invalid decimal literal (2590558046.py, line 1)",
     "output_type": "error",
     "traceback": [
      "\u001b[1;36m  Cell \u001b[1;32mIn[10], line 1\u001b[1;36m\u001b[0m\n\u001b[1;33m    sample text 2samplstext 2\u001b[0m\n\u001b[1;37m                ^\u001b[0m\n\u001b[1;31mSyntaxError\u001b[0m\u001b[1;31m:\u001b[0m invalid decimal literal\n"
     ]
    }
   ],
   "source": [
    "sample text 2samplstext 2"
   ]
  },
  {
   "cell_type": "code",
   "execution_count": null,
   "id": "a360542b",
   "metadata": {},
   "outputs": [],
   "source": [
    "sample text 3  sample text 4\n"
   ]
  },
  {
   "cell_type": "code",
   "execution_count": null,
   "id": "b32e3867",
   "metadata": {},
   "outputs": [],
   "source": [
    "sample text 3 \n",
    "sample text 4"
   ]
  },
  {
   "cell_type": "markdown",
   "id": "2f028aa2",
   "metadata": {},
   "source": [
    "sample text 3 sample text 4\n"
   ]
  },
  {
   "cell_type": "markdown",
   "id": "3d7e1024",
   "metadata": {},
   "source": []
  },
  {
   "cell_type": "code",
   "execution_count": null,
   "id": "64a3aa9a",
   "metadata": {},
   "outputs": [],
   "source": [
    "sample text 1sample text 2\n"
   ]
  },
  {
   "cell_type": "code",
   "execution_count": null,
   "id": "309dcfbc",
   "metadata": {},
   "outputs": [],
   "source": [
    "sample text1\n",
    "sample text2"
   ]
  },
  {
   "cell_type": "code",
   "execution_count": null,
   "id": "605e6a95",
   "metadata": {},
   "outputs": [],
   "source": [
    "sample text 1 \n",
    "sample text 2\n"
   ]
  },
  {
   "cell_type": "markdown",
   "id": "e0101a54",
   "metadata": {},
   "source": []
  },
  {
   "cell_type": "code",
   "execution_count": null,
   "id": "b6e9b66f",
   "metadata": {
    "scrolled": true
   },
   "outputs": [],
   "source": []
  },
  {
   "cell_type": "markdown",
   "id": "644217f5",
   "metadata": {},
   "source": []
  },
  {
   "cell_type": "code",
   "execution_count": null,
   "id": "ee79306f",
   "metadata": {},
   "outputs": [],
   "source": [
    ">sample"
   ]
  },
  {
   "cell_type": "code",
   "execution_count": null,
   "id": "7b2c55d4",
   "metadata": {},
   "outputs": [],
   "source": [
    "m"
   ]
  },
  {
   "cell_type": "markdown",
   "id": "538bdcfb",
   "metadata": {},
   "source": []
  },
  {
   "cell_type": "code",
   "execution_count": null,
   "id": "1a6d32c4",
   "metadata": {},
   "outputs": [],
   "source": [
    "_my elie_"
   ]
  },
  {
   "cell_type": "markdown",
   "id": "a1c38fb0",
   "metadata": {},
   "source": []
  },
  {
   "cell_type": "code",
   "execution_count": null,
   "id": "99a97918",
   "metadata": {},
   "outputs": [],
   "source": [
    "** markdown **"
   ]
  },
  {
   "cell_type": "code",
   "execution_count": null,
   "id": "38938688",
   "metadata": {},
   "outputs": [],
   "source": [
    "**markdown**"
   ]
  },
  {
   "cell_type": "markdown",
   "id": "1bebd1ff",
   "metadata": {},
   "source": []
  },
  {
   "cell_type": "code",
   "execution_count": 11,
   "id": "f1344eeb",
   "metadata": {},
   "outputs": [
    {
     "ename": "SyntaxError",
     "evalue": "invalid syntax (3730760620.py, line 1)",
     "output_type": "error",
     "traceback": [
      "\u001b[1;36m  Cell \u001b[1;32mIn[11], line 1\u001b[1;36m\u001b[0m\n\u001b[1;33m    1. Apple\u001b[0m\n\u001b[1;37m       ^\u001b[0m\n\u001b[1;31mSyntaxError\u001b[0m\u001b[1;31m:\u001b[0m invalid syntax\n"
     ]
    }
   ],
   "source": [
    "1. Apple\n",
    "1. oranges\n",
    "1.  vegetables\n",
    "1. carrots"
   ]
  },
  {
   "cell_type": "markdown",
   "id": "db85c403",
   "metadata": {},
   "source": []
  },
  {
   "cell_type": "code",
   "execution_count": 12,
   "id": "367aad12",
   "metadata": {
    "scrolled": true
   },
   "outputs": [
    {
     "data": {
      "text/plain": [
       "'@'"
      ]
     },
     "execution_count": 12,
     "metadata": {},
     "output_type": "execute_result"
    }
   ],
   "source": [
    "\"@\""
   ]
  },
  {
   "cell_type": "code",
   "execution_count": 13,
   "id": "67106750",
   "metadata": {},
   "outputs": [
    {
     "ename": "SyntaxError",
     "evalue": "invalid syntax (2713441802.py, line 1)",
     "output_type": "error",
     "traceback": [
      "\u001b[1;36m  Cell \u001b[1;32mIn[13], line 1\u001b[1;36m\u001b[0m\n\u001b[1;33m    `<h1>Saple Code</h1>`\u001b[0m\n\u001b[1;37m    ^\u001b[0m\n\u001b[1;31mSyntaxError\u001b[0m\u001b[1;31m:\u001b[0m invalid syntax\n"
     ]
    }
   ],
   "source": [
    "`<h1>Saple Code</h1>`"
   ]
  },
  {
   "cell_type": "code",
   "execution_count": 14,
   "id": "5125ef14",
   "metadata": {},
   "outputs": [
    {
     "name": "stdout",
     "output_type": "stream",
     "text": [
      "3\n"
     ]
    }
   ],
   "source": [
    "print(1+2)"
   ]
  },
  {
   "cell_type": "markdown",
   "id": "999fadce",
   "metadata": {},
   "source": []
  },
  {
   "cell_type": "markdown",
   "id": "0060f4b1",
   "metadata": {},
   "source": [
    "print(1+2)"
   ]
  },
  {
   "cell_type": "code",
   "execution_count": 16,
   "id": "08b57700",
   "metadata": {},
   "outputs": [
    {
     "ename": "SyntaxError",
     "evalue": "invalid syntax (4003210852.py, line 1)",
     "output_type": "error",
     "traceback": [
      "\u001b[1;36m  Cell \u001b[1;32mIn[16], line 1\u001b[1;36m\u001b[0m\n\u001b[1;33m    1. Fruits\u001b[0m\n\u001b[1;37m       ^\u001b[0m\n\u001b[1;31mSyntaxError\u001b[0m\u001b[1;31m:\u001b[0m invalid syntax\n"
     ]
    }
   ],
   "source": [
    "1. Fruits\n",
    "1. Apple\n",
    "1. Banana\n",
    "1. Orange\n",
    "1. Vegetables\n",
    "1. tomato\n",
    "1. potato\n",
    "1. onion"
   ]
  },
  {
   "cell_type": "markdown",
   "id": "671acfc3",
   "metadata": {},
   "source": [
    "1. Fruits\n",
    "1. Apple\n",
    "1. Banana\n",
    "1. Orange\n",
    "1. Vegetables\n",
    "1. tomato\n",
    "1. potato\n",
    "1. onion"
   ]
  },
  {
   "cell_type": "markdown",
   "id": "2821ad33",
   "metadata": {},
   "source": [
    "- Apple\n",
    "- Banana\n",
    "- Orange"
   ]
  },
  {
   "cell_type": "markdown",
   "id": "fe4bb9a3",
   "metadata": {},
   "source": [
    "> Sample5\n",
    "Sample6\n",
    "Sample7"
   ]
  },
  {
   "cell_type": "markdown",
   "id": "d1900611",
   "metadata": {},
   "source": [
    "> Sample1  \n",
    "> Sample2\n",
    "\n",
    "> Sample3\n",
    ">> Sample4"
   ]
  },
  {
   "cell_type": "markdown",
   "id": "f1b9e115",
   "metadata": {},
   "source": [
    "# Title1\n",
    "## Title2\n",
    "### Title3\n",
    "#### Title4\n",
    "##### Title5\n",
    "###### Title6"
   ]
  },
  {
   "cell_type": "markdown",
   "id": "388c83c4",
   "metadata": {},
   "source": [
    "1.  Fruits\n",
    "1. Apple\n",
    "1. Banana\n",
    "1. Orange\n",
    "1.  Vegetables\n",
    "1. tomato\n",
    "1. potato\n",
    "1. onion"
   ]
  },
  {
   "cell_type": "markdown",
   "id": "52b2f283",
   "metadata": {},
   "source": [
    "1. Fruits\n",
    "1. Apple\n",
    "1. Banana\n",
    "1. Orange\n",
    "\n",
    "1. Vegetables\n",
    "1. tomato\n",
    "1. potato\n",
    "1. onion"
   ]
  },
  {
   "cell_type": "markdown",
   "id": "4e632268",
   "metadata": {},
   "source": [
    "`<h1>Saple Code</h1>`"
   ]
  },
  {
   "cell_type": "markdown",
   "id": "99f0f5e7",
   "metadata": {},
   "source": [
    "To display the heading of a page in HTML, use the `<h1>` tag like this: `<h1>Heading</h1>"
   ]
  },
  {
   "cell_type": "markdown",
   "id": "6a2ff0c2",
   "metadata": {},
   "source": [
    "'<h1>'"
   ]
  },
  {
   "cell_type": "markdown",
   "id": "b6211fbb",
   "metadata": {},
   "source": [
    "'''\n",
    "def add(n, y)\n",
    "if n == 0\n",
    "return n\n",
    "end\n",
    "n + y\n",
    "end\n",
    "puts add(0, 3)\n",
    "'''"
   ]
  },
  {
   "cell_type": "markdown",
   "id": "ddf9f097",
   "metadata": {},
   "source": [
    "'''\n",
    "def add (n,y)\n",
    "  if n==0\n",
    "  end\n",
    "  n+y\n",
    "  end\n",
    "put add (o, 31)\n",
    "'''"
   ]
  },
  {
   "cell_type": "code",
   "execution_count": 17,
   "id": "58dd7e46",
   "metadata": {
    "scrolled": true
   },
   "outputs": [
    {
     "data": {
      "text/plain": [
       "' def add (n,y) if n==0 end n+y end put add (o, 31) '"
      ]
     },
     "execution_count": 17,
     "metadata": {},
     "output_type": "execute_result"
    }
   ],
   "source": [
    "''' def add (n,y) if n==0 end n+y end put add (o, 31) '''"
   ]
  },
  {
   "cell_type": "markdown",
   "id": "8174c2bc",
   "metadata": {},
   "source": [
    "''' def add (n,y) if n==0 end n+y end put add (o, 31) '''"
   ]
  },
  {
   "cell_type": "code",
   "execution_count": 18,
   "id": "069c7562",
   "metadata": {},
   "outputs": [
    {
     "ename": "ZeroDivisionError",
     "evalue": "division by zero",
     "output_type": "error",
     "traceback": [
      "\u001b[1;31m---------------------------------------------------------------------------\u001b[0m",
      "\u001b[1;31mZeroDivisionError\u001b[0m                         Traceback (most recent call last)",
      "Cell \u001b[1;32mIn[18], line 1\u001b[0m\n\u001b[1;32m----> 1\u001b[0m \u001b[38;5;241m10\u001b[39m\u001b[38;5;241m/\u001b[39m\u001b[38;5;241m0\u001b[39m\n",
      "\u001b[1;31mZeroDivisionError\u001b[0m: division by zero"
     ]
    }
   ],
   "source": [
    "10/0"
   ]
  },
  {
   "cell_type": "code",
   "execution_count": 1,
   "id": "64627afe",
   "metadata": {},
   "outputs": [
    {
     "name": "stdout",
     "output_type": "stream",
     "text": [
      "100\n"
     ]
    }
   ],
   "source": [
    "print(20+30+50)"
   ]
  },
  {
   "cell_type": "code",
   "execution_count": 1,
   "id": "3e71b822",
   "metadata": {},
   "outputs": [
    {
     "name": "stdout",
     "output_type": "stream",
     "text": [
      "<class 'int'>\n"
     ]
    }
   ],
   "source": [
    "print(type(7*9))"
   ]
  },
  {
   "cell_type": "code",
   "execution_count": 2,
   "id": "6d5a3b18",
   "metadata": {},
   "outputs": [
    {
     "name": "stdout",
     "output_type": "stream",
     "text": [
      "<class 'float'>\n"
     ]
    }
   ],
   "source": [
    "print(type(5/2))"
   ]
  },
  {
   "cell_type": "code",
   "execution_count": 3,
   "id": "ed56648c",
   "metadata": {},
   "outputs": [
    {
     "ename": "NameError",
     "evalue": "name 'john' is not defined",
     "output_type": "error",
     "traceback": [
      "\u001b[1;31m---------------------------------------------------------------------------\u001b[0m",
      "\u001b[1;31mNameError\u001b[0m                                 Traceback (most recent call last)",
      "Cell \u001b[1;32mIn[3], line 1\u001b[0m\n\u001b[1;32m----> 1\u001b[0m \u001b[38;5;28mprint\u001b[39m(\u001b[38;5;28mtype\u001b[39m(john))\n",
      "\u001b[1;31mNameError\u001b[0m: name 'john' is not defined"
     ]
    }
   ],
   "source": [
    "print(type(john))"
   ]
  },
  {
   "cell_type": "code",
   "execution_count": 4,
   "id": "c5487ca9",
   "metadata": {},
   "outputs": [
    {
     "name": "stdout",
     "output_type": "stream",
     "text": [
      "25.0\n"
     ]
    }
   ],
   "source": [
    "print(50/2)"
   ]
  },
  {
   "cell_type": "code",
   "execution_count": 5,
   "id": "4e5fdc35",
   "metadata": {},
   "outputs": [
    {
     "name": "stdout",
     "output_type": "stream",
     "text": [
      "<class 'float'>\n"
     ]
    }
   ],
   "source": [
    "print(type(50/2))"
   ]
  },
  {
   "cell_type": "code",
   "execution_count": 6,
   "id": "1d26b667",
   "metadata": {},
   "outputs": [
    {
     "name": "stdout",
     "output_type": "stream",
     "text": [
      "2.0\n",
      "2.0\n",
      "0.5\n",
      "0.5\n"
     ]
    }
   ],
   "source": [
    "print(2.0)\n",
    "print(2.)\n",
    "print(0.5)\n",
    "print(.5)"
   ]
  },
  {
   "cell_type": "code",
   "execution_count": 7,
   "id": "1e5bf077",
   "metadata": {},
   "outputs": [
    {
     "name": "stdout",
     "output_type": "stream",
     "text": [
      "4.0\n"
     ]
    }
   ],
   "source": [
    "print(float(4))"
   ]
  },
  {
   "cell_type": "code",
   "execution_count": 8,
   "id": "155d5cb0",
   "metadata": {},
   "outputs": [
    {
     "name": "stdout",
     "output_type": "stream",
     "text": [
      "3\n"
     ]
    }
   ],
   "source": [
    "print(int(3.9))"
   ]
  },
  {
   "cell_type": "code",
   "execution_count": 9,
   "id": "a5881e00",
   "metadata": {},
   "outputs": [
    {
     "name": "stdout",
     "output_type": "stream",
     "text": [
      "3\n"
     ]
    }
   ],
   "source": [
    "print(int(3.0))"
   ]
  },
  {
   "cell_type": "code",
   "execution_count": 10,
   "id": "32ed1bcf",
   "metadata": {},
   "outputs": [
    {
     "name": "stdout",
     "output_type": "stream",
     "text": [
      "0\n"
     ]
    }
   ],
   "source": [
    "print(int(0.9))"
   ]
  },
  {
   "cell_type": "code",
   "execution_count": 11,
   "id": "ea74702d",
   "metadata": {},
   "outputs": [
    {
     "name": "stdout",
     "output_type": "stream",
     "text": [
      "2.0\n"
     ]
    }
   ],
   "source": [
    "print(float(2.0))"
   ]
  },
  {
   "cell_type": "code",
   "execution_count": 12,
   "id": "9c793d69",
   "metadata": {},
   "outputs": [
    {
     "name": "stdout",
     "output_type": "stream",
     "text": [
      "<class 'float'>\n"
     ]
    }
   ],
   "source": [
    "print(type(float(2.0)))"
   ]
  },
  {
   "cell_type": "code",
   "execution_count": 13,
   "id": "cca93b50",
   "metadata": {},
   "outputs": [
    {
     "name": "stdout",
     "output_type": "stream",
     "text": [
      "2.0\n",
      "<class 'float'>\n"
     ]
    }
   ],
   "source": [
    "print(float(2.0))\n",
    "print(type(float(2.0)))"
   ]
  },
  {
   "cell_type": "code",
   "execution_count": 14,
   "id": "2d5a8680",
   "metadata": {},
   "outputs": [
    {
     "name": "stdout",
     "output_type": "stream",
     "text": [
      "18.0\n"
     ]
    }
   ],
   "source": [
    "print(3 + 5*4 - 10/2)"
   ]
  },
  {
   "cell_type": "code",
   "execution_count": 15,
   "id": "74974484",
   "metadata": {},
   "outputs": [
    {
     "ename": "SyntaxError",
     "evalue": "invalid syntax. Perhaps you forgot a comma? (3065163523.py, line 1)",
     "output_type": "error",
     "traceback": [
      "\u001b[1;36m  Cell \u001b[1;32mIn[15], line 1\u001b[1;36m\u001b[0m\n\u001b[1;33m    print( 5*4 3 +- 10/2)\u001b[0m\n\u001b[1;37m           ^\u001b[0m\n\u001b[1;31mSyntaxError\u001b[0m\u001b[1;31m:\u001b[0m invalid syntax. Perhaps you forgot a comma?\n"
     ]
    }
   ],
   "source": [
    "print( 5*4 3 +- 10/2)"
   ]
  },
  {
   "cell_type": "code",
   "execution_count": 16,
   "id": "befa6f85",
   "metadata": {},
   "outputs": [
    {
     "ename": "SyntaxError",
     "evalue": "invalid syntax. Perhaps you forgot a comma? (2811229388.py, line 1)",
     "output_type": "error",
     "traceback": [
      "\u001b[1;36m  Cell \u001b[1;32mIn[16], line 1\u001b[1;36m\u001b[0m\n\u001b[1;33m    ( 5*4 3 + 10/2)\u001b[0m\n\u001b[1;37m      ^\u001b[0m\n\u001b[1;31mSyntaxError\u001b[0m\u001b[1;31m:\u001b[0m invalid syntax. Perhaps you forgot a comma?\n"
     ]
    }
   ],
   "source": [
    "( 5*4 3 + 10/2)"
   ]
  },
  {
   "cell_type": "code",
   "execution_count": 17,
   "id": "686e8966",
   "metadata": {},
   "outputs": [
    {
     "data": {
      "text/plain": [
       "18.0"
      ]
     },
     "execution_count": 17,
     "metadata": {},
     "output_type": "execute_result"
    }
   ],
   "source": [
    "( 5*4+3-10/2)"
   ]
  },
  {
   "cell_type": "code",
   "execution_count": 1,
   "id": "9565cf09",
   "metadata": {},
   "outputs": [
    {
     "name": "stdout",
     "output_type": "stream",
     "text": [
      "750\n"
     ]
    }
   ],
   "source": [
    "x = 250 + 100 + 400\n",
    "print(x)"
   ]
  },
  {
   "cell_type": "code",
   "execution_count": 1,
   "id": "fd150d43",
   "metadata": {},
   "outputs": [
    {
     "ename": "NameError",
     "evalue": "name 'x' is not defined",
     "output_type": "error",
     "traceback": [
      "\u001b[1;31m---------------------------------------------------------------------------\u001b[0m",
      "\u001b[1;31mNameError\u001b[0m                                 Traceback (most recent call last)",
      "Cell \u001b[1;32mIn[1], line 1\u001b[0m\n\u001b[1;32m----> 1\u001b[0m y \u001b[38;5;241m=\u001b[39m x\u001b[38;5;241m/\u001b[39m\u001b[38;5;241m2\u001b[39m\n\u001b[0;32m      2\u001b[0m \u001b[38;5;28mprint\u001b[39m(y)\n",
      "\u001b[1;31mNameError\u001b[0m: name 'x' is not defined"
     ]
    }
   ],
   "source": [
    "y = x/2\n",
    "print(y)"
   ]
  },
  {
   "cell_type": "code",
   "execution_count": 2,
   "id": "92fef4e7",
   "metadata": {},
   "outputs": [
    {
     "name": "stdout",
     "output_type": "stream",
     "text": [
      "750\n"
     ]
    }
   ],
   "source": [
    "x = 250 + 100 + 400\n",
    "print(x)"
   ]
  },
  {
   "cell_type": "code",
   "execution_count": 3,
   "id": "1e361fb5",
   "metadata": {
    "scrolled": true
   },
   "outputs": [
    {
     "name": "stdout",
     "output_type": "stream",
     "text": [
      "375.0\n"
     ]
    }
   ],
   "source": [
    "y = x/2\n",
    "print(y)"
   ]
  },
  {
   "cell_type": "code",
   "execution_count": 4,
   "id": "f376ad7c",
   "metadata": {},
   "outputs": [
    {
     "name": "stdout",
     "output_type": "stream",
     "text": [
      "1500\n"
     ]
    }
   ],
   "source": [
    "print(x*2)"
   ]
  },
  {
   "cell_type": "code",
   "execution_count": 5,
   "id": "4c351e12",
   "metadata": {},
   "outputs": [
    {
     "name": "stdout",
     "output_type": "stream",
     "text": [
      "<class 'int'>\n",
      "<class 'float'>\n"
     ]
    }
   ],
   "source": [
    "print(type(x))\n",
    "print(type(y))"
   ]
  },
  {
   "cell_type": "code",
   "execution_count": 6,
   "id": "a493356c",
   "metadata": {},
   "outputs": [
    {
     "name": "stdout",
     "output_type": "stream",
     "text": [
      "300\n"
     ]
    }
   ],
   "source": [
    "s, t = 100, 200\n",
    "print(s+t)"
   ]
  },
  {
   "cell_type": "code",
   "execution_count": 7,
   "id": "ad7e2d14",
   "metadata": {},
   "outputs": [
    {
     "name": "stdout",
     "output_type": "stream",
     "text": [
      "<class 'int'>\n",
      "<class 'int'>\n"
     ]
    }
   ],
   "source": [
    "print(type(s))\n",
    "print(type(t))"
   ]
  },
  {
   "cell_type": "code",
   "execution_count": 8,
   "id": "a382d236",
   "metadata": {},
   "outputs": [
    {
     "ename": "SyntaxError",
     "evalue": "invalid syntax (3424265594.py, line 1)",
     "output_type": "error",
     "traceback": [
      "\u001b[1;36m  Cell \u001b[1;32mIn[8], line 1\u001b[1;36m\u001b[0m\n\u001b[1;33m    reserved word\u001b[0m\n\u001b[1;37m             ^\u001b[0m\n\u001b[1;31mSyntaxError\u001b[0m\u001b[1;31m:\u001b[0m invalid syntax\n"
     ]
    }
   ],
   "source": [
    "reserved word"
   ]
  },
  {
   "cell_type": "code",
   "execution_count": 9,
   "id": "f8b37810",
   "metadata": {
    "scrolled": true
   },
   "outputs": [
    {
     "ename": "TypeError",
     "evalue": "'int' object is not callable",
     "output_type": "error",
     "traceback": [
      "\u001b[1;31m---------------------------------------------------------------------------\u001b[0m",
      "\u001b[1;31mTypeError\u001b[0m                                 Traceback (most recent call last)",
      "Cell \u001b[1;32mIn[9], line 2\u001b[0m\n\u001b[0;32m      1\u001b[0m \u001b[38;5;28mprint\u001b[39m \u001b[38;5;241m=\u001b[39m \u001b[38;5;241m100\u001b[39m\n\u001b[1;32m----> 2\u001b[0m \u001b[38;5;28mprint\u001b[39m(\u001b[38;5;124m\"\u001b[39m\u001b[38;5;124mHello, World!\u001b[39m\u001b[38;5;124m\"\u001b[39m)\n",
      "\u001b[1;31mTypeError\u001b[0m: 'int' object is not callable"
     ]
    }
   ],
   "source": [
    "print = 100\n",
    "print(\"Hello, World!\")"
   ]
  },
  {
   "cell_type": "code",
   "execution_count": 10,
   "id": "85b4d7ad",
   "metadata": {},
   "outputs": [
    {
     "ename": "TypeError",
     "evalue": "'int' object is not callable",
     "output_type": "error",
     "traceback": [
      "\u001b[1;31m---------------------------------------------------------------------------\u001b[0m",
      "\u001b[1;31mTypeError\u001b[0m                                 Traceback (most recent call last)",
      "Cell \u001b[1;32mIn[10], line 3\u001b[0m\n\u001b[0;32m      1\u001b[0m x \u001b[38;5;241m=\u001b[39m \u001b[38;5;241m1\u001b[39m\n\u001b[0;32m      2\u001b[0m x \u001b[38;5;241m=\u001b[39m x \u001b[38;5;241m+\u001b[39m \u001b[38;5;241m5\u001b[39m\n\u001b[1;32m----> 3\u001b[0m \u001b[38;5;28mprint\u001b[39m(x)\n",
      "\u001b[1;31mTypeError\u001b[0m: 'int' object is not callable"
     ]
    }
   ],
   "source": [
    "x = 1\n",
    "x = x + 5\n",
    "print(x)"
   ]
  },
  {
   "cell_type": "code",
   "execution_count": 11,
   "id": "862b962c",
   "metadata": {},
   "outputs": [
    {
     "ename": "TypeError",
     "evalue": "'int' object is not callable",
     "output_type": "error",
     "traceback": [
      "\u001b[1;31m---------------------------------------------------------------------------\u001b[0m",
      "\u001b[1;31mTypeError\u001b[0m                                 Traceback (most recent call last)",
      "Cell \u001b[1;32mIn[11], line 3\u001b[0m\n\u001b[0;32m      1\u001b[0m x \u001b[38;5;241m=\u001b[39m \u001b[38;5;241m1\u001b[39m\n\u001b[0;32m      2\u001b[0m x \u001b[38;5;241m+\u001b[39m\u001b[38;5;241m=\u001b[39m \u001b[38;5;241m5\u001b[39m\n\u001b[1;32m----> 3\u001b[0m \u001b[38;5;28mprint\u001b[39m(x)\n",
      "\u001b[1;31mTypeError\u001b[0m: 'int' object is not callable"
     ]
    }
   ],
   "source": [
    "x=1\n",
    "x+=5\n",
    "print(x)"
   ]
  },
  {
   "cell_type": "code",
   "execution_count": 12,
   "id": "39f519d8",
   "metadata": {},
   "outputs": [
    {
     "ename": "TypeError",
     "evalue": "'int' object is not callable",
     "output_type": "error",
     "traceback": [
      "\u001b[1;31m---------------------------------------------------------------------------\u001b[0m",
      "\u001b[1;31mTypeError\u001b[0m                                 Traceback (most recent call last)",
      "Cell \u001b[1;32mIn[12], line 3\u001b[0m\n\u001b[0;32m      1\u001b[0m x\u001b[38;5;241m=\u001b[39m\u001b[38;5;241m1\u001b[39m\n\u001b[0;32m      2\u001b[0m x\u001b[38;5;241m+\u001b[39m\u001b[38;5;241m=\u001b[39m\u001b[38;5;241m5\u001b[39m\n\u001b[1;32m----> 3\u001b[0m \u001b[38;5;28mprint\u001b[39m(x)\n",
      "\u001b[1;31mTypeError\u001b[0m: 'int' object is not callable"
     ]
    }
   ],
   "source": [
    "x=1\n",
    "x+=5\n",
    "print(x)"
   ]
  },
  {
   "cell_type": "code",
   "execution_count": 13,
   "id": "74df0e2b",
   "metadata": {},
   "outputs": [
    {
     "ename": "TypeError",
     "evalue": "'int' object is not callable",
     "output_type": "error",
     "traceback": [
      "\u001b[1;31m---------------------------------------------------------------------------\u001b[0m",
      "\u001b[1;31mTypeError\u001b[0m                                 Traceback (most recent call last)",
      "Cell \u001b[1;32mIn[13], line 2\u001b[0m\n\u001b[0;32m      1\u001b[0m x \u001b[38;5;241m=\u001b[39m \u001b[38;5;241m250\u001b[39m \u001b[38;5;241m+\u001b[39m \u001b[38;5;241m100\u001b[39m \u001b[38;5;241m+\u001b[39m \u001b[38;5;241m400\u001b[39m\n\u001b[1;32m----> 2\u001b[0m \u001b[38;5;28mprint\u001b[39m(x)\n",
      "\u001b[1;31mTypeError\u001b[0m: 'int' object is not callable"
     ]
    }
   ],
   "source": [
    "x = 250 + 100 + 400\n",
    "print(x)"
   ]
  },
  {
   "cell_type": "code",
   "execution_count": 1,
   "id": "cbaaa2b6",
   "metadata": {},
   "outputs": [
    {
     "name": "stdout",
     "output_type": "stream",
     "text": [
      "750\n"
     ]
    }
   ],
   "source": [
    "x = 250 + 100 + 400\n",
    "print(x)"
   ]
  },
  {
   "cell_type": "code",
   "execution_count": 2,
   "id": "43a771bb",
   "metadata": {},
   "outputs": [
    {
     "name": "stdout",
     "output_type": "stream",
     "text": [
      "6\n"
     ]
    }
   ],
   "source": [
    "x = 1\n",
    "x = x + 5\n",
    "print(x)"
   ]
  },
  {
   "cell_type": "code",
   "execution_count": 3,
   "id": "4152a6e5",
   "metadata": {},
   "outputs": [
    {
     "name": "stdout",
     "output_type": "stream",
     "text": [
      "6\n"
     ]
    }
   ],
   "source": [
    "x = 1\n",
    "x += 5\n",
    "print(x)"
   ]
  },
  {
   "cell_type": "code",
   "execution_count": 1,
   "id": "a47f8212",
   "metadata": {},
   "outputs": [
    {
     "name": "stdout",
     "output_type": "stream",
     "text": [
      "text\n"
     ]
    }
   ],
   "source": [
    "print(\"text\")"
   ]
  },
  {
   "cell_type": "code",
   "execution_count": 2,
   "id": "dae2e0ba",
   "metadata": {
    "scrolled": true
   },
   "outputs": [
    {
     "name": "stdout",
     "output_type": "stream",
     "text": [
      "<class 'str'>\n"
     ]
    }
   ],
   "source": [
    "print(type(\"text\"))"
   ]
  },
  {
   "cell_type": "code",
   "execution_count": 3,
   "id": "e9e2080e",
   "metadata": {},
   "outputs": [
    {
     "ename": "NameError",
     "evalue": "name 'Elie' is not defined",
     "output_type": "error",
     "traceback": [
      "\u001b[1;31m---------------------------------------------------------------------------\u001b[0m",
      "\u001b[1;31mNameError\u001b[0m                                 Traceback (most recent call last)",
      "Cell \u001b[1;32mIn[3], line 1\u001b[0m\n\u001b[1;32m----> 1\u001b[0m \u001b[38;5;28mprint\u001b[39m(Elie)\n",
      "\u001b[1;31mNameError\u001b[0m: name 'Elie' is not defined"
     ]
    }
   ],
   "source": [
    "print(Elie)"
   ]
  },
  {
   "cell_type": "code",
   "execution_count": 4,
   "id": "d62bad43",
   "metadata": {},
   "outputs": [
    {
     "ename": "SyntaxError",
     "evalue": "unterminated triple-quoted string literal (detected at line 1) (775541862.py, line 1)",
     "output_type": "error",
     "traceback": [
      "\u001b[1;36m  Cell \u001b[1;32mIn[4], line 1\u001b[1;36m\u001b[0m\n\u001b[1;33m    print(\"\"Elie\"\"\")\u001b[0m\n\u001b[1;37m                ^\u001b[0m\n\u001b[1;31mSyntaxError\u001b[0m\u001b[1;31m:\u001b[0m unterminated triple-quoted string literal (detected at line 1)\n"
     ]
    }
   ],
   "source": [
    "print(\"\"Elie\"\"\")"
   ]
  },
  {
   "cell_type": "code",
   "execution_count": 5,
   "id": "6cac1e24",
   "metadata": {},
   "outputs": [
    {
     "ename": "SyntaxError",
     "evalue": "invalid syntax. Perhaps you forgot a comma? (1201013007.py, line 1)",
     "output_type": "error",
     "traceback": [
      "\u001b[1;36m  Cell \u001b[1;32mIn[5], line 1\u001b[1;36m\u001b[0m\n\u001b[1;33m    print(\"\"Elie\"\"\u001b[0m\n\u001b[1;37m          ^\u001b[0m\n\u001b[1;31mSyntaxError\u001b[0m\u001b[1;31m:\u001b[0m invalid syntax. Perhaps you forgot a comma?\n"
     ]
    }
   ],
   "source": [
    "nt(\"\"Elie\"\"pri"
   ]
  },
  {
   "cell_type": "code",
   "execution_count": 6,
   "id": "53e60ca1",
   "metadata": {},
   "outputs": [
    {
     "ename": "SyntaxError",
     "evalue": "invalid syntax. Perhaps you forgot a comma? (3081528837.py, line 1)",
     "output_type": "error",
     "traceback": [
      "\u001b[1;36m  Cell \u001b[1;32mIn[6], line 1\u001b[1;36m\u001b[0m\n\u001b[1;33m    print(\"\"Elie\"\")\u001b[0m\n\u001b[1;37m          ^\u001b[0m\n\u001b[1;31mSyntaxError\u001b[0m\u001b[1;31m:\u001b[0m invalid syntax. Perhaps you forgot a comma?\n"
     ]
    }
   ],
   "source": [
    "print(\"\"Elie\"\")"
   ]
  },
  {
   "cell_type": "code",
   "execution_count": 7,
   "id": "7029e839",
   "metadata": {},
   "outputs": [
    {
     "name": "stdout",
     "output_type": "stream",
     "text": [
      "Elie\n"
     ]
    }
   ],
   "source": [
    "print(\"Elie\")"
   ]
  },
  {
   "cell_type": "code",
   "execution_count": 8,
   "id": "d4ce6afe",
   "metadata": {},
   "outputs": [
    {
     "name": "stdout",
     "output_type": "stream",
     "text": [
      "learn python\n",
      "Hello\n"
     ]
    }
   ],
   "source": [
    "print(\"learn python\")\n",
    "print(\"Hello\")"
   ]
  },
  {
   "cell_type": "code",
   "execution_count": 9,
   "id": "ed079190",
   "metadata": {},
   "outputs": [
    {
     "name": "stdout",
     "output_type": "stream",
     "text": [
      "Alice\n"
     ]
    }
   ],
   "source": [
    "student_name = \"Alice\"\n",
    "print(student_name)"
   ]
  },
  {
   "cell_type": "code",
   "execution_count": 10,
   "id": "7f0846cf",
   "metadata": {},
   "outputs": [
    {
     "name": "stdout",
     "output_type": "stream",
     "text": [
      "Hello world\n"
     ]
    }
   ],
   "source": [
    "print(\"Hello world\")"
   ]
  },
  {
   "cell_type": "code",
   "execution_count": 11,
   "id": "144b29ce",
   "metadata": {},
   "outputs": [
    {
     "ename": "NameError",
     "evalue": "name 'Elie' is not defined",
     "output_type": "error",
     "traceback": [
      "\u001b[1;31m---------------------------------------------------------------------------\u001b[0m",
      "\u001b[1;31mNameError\u001b[0m                                 Traceback (most recent call last)",
      "Cell \u001b[1;32mIn[11], line 1\u001b[0m\n\u001b[1;32m----> 1\u001b[0m Name\u001b[38;5;241m=\u001b[39mElie\n\u001b[0;32m      2\u001b[0m \u001b[38;5;28mprint\u001b[39m(\u001b[38;5;124m\"\u001b[39m\u001b[38;5;124mI am\u001b[39m\u001b[38;5;124m\"\u001b[39m)\u001b[38;5;241m+\u001b[39m Elie\n",
      "\u001b[1;31mNameError\u001b[0m: name 'Elie' is not defined"
     ]
    }
   ],
   "source": [
    "Name=Elie\n",
    "print(\"I am\")+ Elie"
   ]
  },
  {
   "cell_type": "code",
   "execution_count": 12,
   "id": "77337e89",
   "metadata": {},
   "outputs": [
    {
     "name": "stdout",
     "output_type": "stream",
     "text": [
      "I am\n"
     ]
    },
    {
     "ename": "TypeError",
     "evalue": "unsupported operand type(s) for +: 'NoneType' and 'str'",
     "output_type": "error",
     "traceback": [
      "\u001b[1;31m---------------------------------------------------------------------------\u001b[0m",
      "\u001b[1;31mTypeError\u001b[0m                                 Traceback (most recent call last)",
      "Cell \u001b[1;32mIn[12], line 2\u001b[0m\n\u001b[0;32m      1\u001b[0m Name\u001b[38;5;241m=\u001b[39m\u001b[38;5;124m\"\u001b[39m\u001b[38;5;124mElie\u001b[39m\u001b[38;5;124m\"\u001b[39m\n\u001b[1;32m----> 2\u001b[0m \u001b[38;5;28mprint\u001b[39m(\u001b[38;5;124m\"\u001b[39m\u001b[38;5;124mI am\u001b[39m\u001b[38;5;124m\"\u001b[39m)\u001b[38;5;241m+\u001b[39m \u001b[38;5;124m\"\u001b[39m\u001b[38;5;124mElie\u001b[39m\u001b[38;5;124m\"\u001b[39m\n",
      "\u001b[1;31mTypeError\u001b[0m: unsupported operand type(s) for +: 'NoneType' and 'str'"
     ]
    }
   ],
   "source": [
    "Name=\"Elie\"\n",
    "print(\"I am\")+ \"Elie\""
   ]
  },
  {
   "cell_type": "code",
   "execution_count": 13,
   "id": "83db25d6",
   "metadata": {
    "scrolled": true
   },
   "outputs": [
    {
     "name": "stdout",
     "output_type": "stream",
     "text": [
      "I am\n"
     ]
    },
    {
     "ename": "TypeError",
     "evalue": "unsupported operand type(s) for +: 'NoneType' and 'str'",
     "output_type": "error",
     "traceback": [
      "\u001b[1;31m---------------------------------------------------------------------------\u001b[0m",
      "\u001b[1;31mTypeError\u001b[0m                                 Traceback (most recent call last)",
      "Cell \u001b[1;32mIn[13], line 2\u001b[0m\n\u001b[0;32m      1\u001b[0m Name\u001b[38;5;241m=\u001b[39m\u001b[38;5;124m\"\u001b[39m\u001b[38;5;124mElie\u001b[39m\u001b[38;5;124m\"\u001b[39m\n\u001b[1;32m----> 2\u001b[0m \u001b[38;5;28mprint\u001b[39m(\u001b[38;5;124m\"\u001b[39m\u001b[38;5;124mI am\u001b[39m\u001b[38;5;124m\"\u001b[39m)\u001b[38;5;241m+\u001b[39m( \u001b[38;5;124m\"\u001b[39m\u001b[38;5;124mElie\u001b[39m\u001b[38;5;124m\"\u001b[39m)\n",
      "\u001b[1;31mTypeError\u001b[0m: unsupported operand type(s) for +: 'NoneType' and 'str'"
     ]
    }
   ],
   "source": [
    "Name=\"Elie\"\n",
    "print(\"I am\")+( \"Elie\") "
   ]
  },
  {
   "cell_type": "code",
   "execution_count": 14,
   "id": "6ad669b4",
   "metadata": {},
   "outputs": [
    {
     "name": "stdout",
     "output_type": "stream",
     "text": [
      "I amElie\n"
     ]
    }
   ],
   "source": [
    "Name=\"Elie\"\n",
    "print(\"I am\"+\"Elie\") "
   ]
  },
  {
   "cell_type": "code",
   "execution_count": 15,
   "id": "8cb77386",
   "metadata": {
    "scrolled": true
   },
   "outputs": [
    {
     "name": "stdout",
     "output_type": "stream",
     "text": [
      "I amElie\n"
     ]
    }
   ],
   "source": [
    "Name=\"Elie\"\n",
    "print(\"I am\" + \"Elie\")"
   ]
  },
  {
   "cell_type": "code",
   "execution_count": 16,
   "id": "b371472e",
   "metadata": {},
   "outputs": [
    {
     "name": "stdout",
     "output_type": "stream",
     "text": [
      "I amElie\n"
     ]
    }
   ],
   "source": [
    "Name=\"Elie\"\n",
    "print(\"I am\" + \"Elie\") "
   ]
  },
  {
   "cell_type": "code",
   "execution_count": 17,
   "id": "f1e28c80",
   "metadata": {},
   "outputs": [
    {
     "name": "stdout",
     "output_type": "stream",
     "text": [
      "my name isAlice!!\n"
     ]
    }
   ],
   "source": [
    "student_name = \"Alice\"\n",
    "print(\"my name is\" + student_name + \"!!\")"
   ]
  },
  {
   "cell_type": "code",
   "execution_count": 18,
   "id": "f4697417",
   "metadata": {},
   "outputs": [
    {
     "name": "stdout",
     "output_type": "stream",
     "text": [
      "my name isAlice!!\n"
     ]
    }
   ],
   "source": [
    "student_name = \"Alice\"\n",
    "print(\"my name is\" +   student_name + \"!!\")"
   ]
  },
  {
   "cell_type": "code",
   "execution_count": 19,
   "id": "56ff63fd",
   "metadata": {},
   "outputs": [
    {
     "name": "stdout",
     "output_type": "stream",
     "text": [
      "I amElie\n"
     ]
    }
   ],
   "source": [
    "Name=\"Elie\"\n",
    "print(\"I am\"   +   \"Elie\")"
   ]
  },
  {
   "cell_type": "code",
   "execution_count": 20,
   "id": "622542ae",
   "metadata": {},
   "outputs": [
    {
     "name": "stdout",
     "output_type": "stream",
     "text": [
      "My age is19!!\n"
     ]
    }
   ],
   "source": [
    "student_age = 19\n",
    "print(\"My age is\" + str(student_age) + \"!!\")"
   ]
  },
  {
   "cell_type": "code",
   "execution_count": 21,
   "id": "35d5007c",
   "metadata": {},
   "outputs": [
    {
     "name": "stdout",
     "output_type": "stream",
     "text": [
      "I amElie\n"
     ]
    }
   ],
   "source": [
    "Name=\"Elie\"\n",
    "print((\"I am\") + (\"Elie\")) "
   ]
  },
  {
   "cell_type": "code",
   "execution_count": 22,
   "id": "2bab0855",
   "metadata": {},
   "outputs": [
    {
     "name": "stdout",
     "output_type": "stream",
     "text": [
      "I amElie\n"
     ]
    }
   ],
   "source": [
    "Name=\"Elie\"\n",
    "print(\"I am\"  +  \"Elie\") "
   ]
  },
  {
   "cell_type": "code",
   "execution_count": 23,
   "id": "bc9f4190",
   "metadata": {},
   "outputs": [
    {
     "name": "stdout",
     "output_type": "stream",
     "text": [
      "I amElie\n"
     ]
    }
   ],
   "source": [
    "Name=\"Elie\"\n",
    "print(\"I am\"   + \"Elie\") "
   ]
  },
  {
   "cell_type": "code",
   "execution_count": 24,
   "id": "37a325ec",
   "metadata": {},
   "outputs": [
    {
     "name": "stdout",
     "output_type": "stream",
     "text": [
      "I am Elie\n"
     ]
    }
   ],
   "source": [
    "Name=\"Elie\"\n",
    "print(\"I am \" + \"Elie\") "
   ]
  },
  {
   "cell_type": "code",
   "execution_count": 25,
   "id": "ab224e27",
   "metadata": {},
   "outputs": [
    {
     "name": "stdout",
     "output_type": "stream",
     "text": [
      "My age is 19!!\n"
     ]
    }
   ],
   "source": [
    "student_age = 19\n",
    "print(\"My age is \" + str(student_age) + \"!!\")"
   ]
  },
  {
   "cell_type": "code",
   "execution_count": 1,
   "id": "eda3f1be",
   "metadata": {},
   "outputs": [
    {
     "ename": "SyntaxError",
     "evalue": "incomplete input (392542215.py, line 2)",
     "output_type": "error",
     "traceback": [
      "\u001b[1;36m  Cell \u001b[1;32mIn[1], line 2\u001b[1;36m\u001b[0m\n\u001b[1;33m    print(\"my name is{}!!\".format(student_name)\u001b[0m\n\u001b[1;37m                                               ^\u001b[0m\n\u001b[1;31mSyntaxError\u001b[0m\u001b[1;31m:\u001b[0m incomplete input\n"
     ]
    }
   ],
   "source": [
    "Student_name= Alice\n",
    "print(\"my name is{}!!\".format(student_name)"
   ]
  },
  {
   "cell_type": "code",
   "execution_count": 2,
   "id": "e874eb9f",
   "metadata": {},
   "outputs": [
    {
     "ename": "NameError",
     "evalue": "name 'Alice' is not defined",
     "output_type": "error",
     "traceback": [
      "\u001b[1;31m---------------------------------------------------------------------------\u001b[0m",
      "\u001b[1;31mNameError\u001b[0m                                 Traceback (most recent call last)",
      "Cell \u001b[1;32mIn[2], line 1\u001b[0m\n\u001b[1;32m----> 1\u001b[0m Student_name\u001b[38;5;241m=\u001b[39m Alice\n\u001b[0;32m      2\u001b[0m \u001b[38;5;28mprint\u001b[39m(\u001b[38;5;124m\"\u001b[39m\u001b[38;5;124mmy name is\u001b[39m\u001b[38;5;132;01m{}\u001b[39;00m\u001b[38;5;124m!!\u001b[39m\u001b[38;5;124m\"\u001b[39m\u001b[38;5;241m.\u001b[39mformat(student_name))\n",
      "\u001b[1;31mNameError\u001b[0m: name 'Alice' is not defined"
     ]
    }
   ],
   "source": [
    "Student_name = \"Alice\"\n",
    "print(\"my name is{}!!\".format(student_name))"
   ]
  },
  {
   "cell_type": "code",
   "execution_count": 3,
   "id": "c13d6fe0",
   "metadata": {},
   "outputs": [
    {
     "ename": "NameError",
     "evalue": "name 'student_name' is not defined",
     "output_type": "error",
     "traceback": [
      "\u001b[1;31m---------------------------------------------------------------------------\u001b[0m",
      "\u001b[1;31mNameError\u001b[0m                                 Traceback (most recent call last)",
      "Cell \u001b[1;32mIn[3], line 2\u001b[0m\n\u001b[0;32m      1\u001b[0m Student_name \u001b[38;5;241m=\u001b[39m \u001b[38;5;124m\"\u001b[39m\u001b[38;5;124mAlice\u001b[39m\u001b[38;5;124m\"\u001b[39m\n\u001b[1;32m----> 2\u001b[0m \u001b[38;5;28mprint\u001b[39m(\u001b[38;5;124m\"\u001b[39m\u001b[38;5;124mmy name is\u001b[39m\u001b[38;5;132;01m{}\u001b[39;00m\u001b[38;5;124m!!\u001b[39m\u001b[38;5;124m\"\u001b[39m\u001b[38;5;241m.\u001b[39mformat(student_name))\n",
      "\u001b[1;31mNameError\u001b[0m: name 'student_name' is not defined"
     ]
    }
   ],
   "source": [
    "Student_name = \"Alice\"\n",
    "print(\"my name is{}!!\".format(student_name))"
   ]
  },
  {
   "cell_type": "code",
   "execution_count": 4,
   "id": "c822049f",
   "metadata": {},
   "outputs": [
    {
     "ename": "NameError",
     "evalue": "name 'student_name' is not defined",
     "output_type": "error",
     "traceback": [
      "\u001b[1;31m---------------------------------------------------------------------------\u001b[0m",
      "\u001b[1;31mNameError\u001b[0m                                 Traceback (most recent call last)",
      "Cell \u001b[1;32mIn[4], line 1\u001b[0m\n\u001b[1;32m----> 1\u001b[0m (\u001b[38;5;124m\"\u001b[39m\u001b[38;5;124mmy name is\u001b[39m\u001b[38;5;132;01m{}\u001b[39;00m\u001b[38;5;124m!!\u001b[39m\u001b[38;5;124m\"\u001b[39m\u001b[38;5;241m.\u001b[39mformat(student_name))\n",
      "\u001b[1;31mNameError\u001b[0m: name 'student_name' is not defined"
     ]
    }
   ],
   "source": [
    "(\"my name is{}!!\".format(student_name))"
   ]
  },
  {
   "cell_type": "code",
   "execution_count": 5,
   "id": "416f9ab2",
   "metadata": {},
   "outputs": [
    {
     "name": "stdout",
     "output_type": "stream",
     "text": [
      "my name isAlice!!\n"
     ]
    }
   ],
   "source": [
    "student_name = \"Alice\"\n",
    "print(\"my name is{}!!\".format(student_name))"
   ]
  },
  {
   "cell_type": "code",
   "execution_count": 6,
   "id": "7656e778",
   "metadata": {},
   "outputs": [
    {
     "name": "stdout",
     "output_type": "stream",
     "text": [
      "my name isAlice!!\n"
     ]
    }
   ],
   "source": [
    "Student_name = \"Alice\"\n",
    "print(\"my name is{}!!\".format(student_name))"
   ]
  },
  {
   "cell_type": "code",
   "execution_count": 8,
   "id": "f49daffd",
   "metadata": {},
   "outputs": [
    {
     "name": "stdout",
     "output_type": "stream",
     "text": [
      "my name is Alice!! \n"
     ]
    }
   ],
   "source": [
    "Student_name = \"Alice\"\n",
    "print(\"my name is {}!! \".format(student_name))"
   ]
  },
  {
   "cell_type": "code",
   "execution_count": 9,
   "id": "62daf46c",
   "metadata": {},
   "outputs": [
    {
     "name": "stdout",
     "output_type": "stream",
     "text": [
      "my name is Alice !!\n"
     ]
    }
   ],
   "source": [
    "student_name = \"Alice\"\n",
    "student_age = 19\n",
    "print(\"my name is {} !!\".format (student_name, student_age))"
   ]
  },
  {
   "cell_type": "code",
   "execution_count": 10,
   "id": "94d30711",
   "metadata": {},
   "outputs": [
    {
     "name": "stdout",
     "output_type": "stream",
     "text": [
      "my name isAliceで、19歳!!\n"
     ]
    }
   ],
   "source": [
    "student_name = \"Alice\"\n",
    "student_age = 19\n",
    "print(\"my name is{}で、{}歳!!\".format(student_name, student_age))"
   ]
  },
  {
   "cell_type": "code",
   "execution_count": 11,
   "id": "d2f06bf7",
   "metadata": {},
   "outputs": [
    {
     "name": "stdout",
     "output_type": "stream",
     "text": [
      "my name is, i am Alice !!\n"
     ]
    }
   ],
   "source": [
    "student_name = \"Alice\"\n",
    "student_age = 19\n",
    "print(\"my name is, i am {} !!\".format (student_name, student_age))"
   ]
  },
  {
   "cell_type": "code",
   "execution_count": 12,
   "id": "58c04387",
   "metadata": {},
   "outputs": [
    {
     "name": "stdout",
     "output_type": "stream",
     "text": [
      "my name is, Alice I am !!\n"
     ]
    }
   ],
   "source": [
    "student_name = \"Alice\"\n",
    "student_age = 19\n",
    "print(\"my name is, {} I am !!\".format (student_name, student_age))"
   ]
  },
  {
   "cell_type": "code",
   "execution_count": 13,
   "id": "7fb591db",
   "metadata": {},
   "outputs": [
    {
     "name": "stdout",
     "output_type": "stream",
     "text": [
      "my name isAlice I 19 am !!\n"
     ]
    }
   ],
   "source": [
    "student_name = \"Alice\"\n",
    "student_age = 19\n",
    "print(\"my name is{}で、{}歳!!\".format(student_name, student_age))"
   ]
  },
  {
   "cell_type": "code",
   "execution_count": 14,
   "id": "324526db",
   "metadata": {},
   "outputs": [
    {
     "name": "stdout",
     "output_type": "stream",
     "text": [
      "my name isAliceI am 19 !!\n"
     ]
    }
   ],
   "source": [
    "student_name = \"Alice\"\n",
    "student_age = 19\n",
    "print(\"my name is{}I am {} !!\".format(student_name, student_age))"
   ]
  },
  {
   "cell_type": "code",
   "execution_count": 15,
   "id": "cea2ab3e",
   "metadata": {},
   "outputs": [
    {
     "name": "stdout",
     "output_type": "stream",
     "text": [
      "My name is, Alice I am 19 !!\n"
     ]
    }
   ],
   "source": [
    "student_name = \"Alice\"\n",
    "student_age = 19\n",
    "print(\"My name is, {} I am {} !!\" .format (student_name, student_age))"
   ]
  },
  {
   "cell_type": "code",
   "execution_count": 16,
   "id": "ffc752a5",
   "metadata": {},
   "outputs": [
    {
     "name": "stdout",
     "output_type": "stream",
     "text": [
      "My name is, Alice. I am 19 !!\n"
     ]
    }
   ],
   "source": [
    "student_name = \"Alice\"\n",
    "student_age = 19\n",
    "print(\"My name is, {}. I am {} !!\" .format (student_name, student_age))"
   ]
  },
  {
   "cell_type": "code",
   "execution_count": 17,
   "id": "65a3c75d",
   "metadata": {},
   "outputs": [
    {
     "ename": "SyntaxError",
     "evalue": "invalid syntax. Perhaps you forgot a comma? (4006096715.py, line 3)",
     "output_type": "error",
     "traceback": [
      "\u001b[1;36m  Cell \u001b[1;32mIn[17], line 3\u001b[1;36m\u001b[0m\n\u001b[1;33m    print(\"My name is, {}. I am {} \" .format (student_name, student_age) \"years old. !!\")\u001b[0m\n\u001b[1;37m          ^\u001b[0m\n\u001b[1;31mSyntaxError\u001b[0m\u001b[1;31m:\u001b[0m invalid syntax. Perhaps you forgot a comma?\n"
     ]
    }
   ],
   "source": [
    "student_name = \"Alice\"\n",
    "student_age = 19\n",
    "print(\"My name is, {}. I am {} \" .format (student_name, student_age) \"years old. !!\")"
   ]
  },
  {
   "cell_type": "code",
   "execution_count": 18,
   "id": "f24ec6fb",
   "metadata": {},
   "outputs": [
    {
     "ename": "SyntaxError",
     "evalue": "unterminated string literal (detected at line 3) (4247856596.py, line 3)",
     "output_type": "error",
     "traceback": [
      "\u001b[1;36m  Cell \u001b[1;32mIn[18], line 3\u001b[1;36m\u001b[0m\n\u001b[1;33m    print(\"My name is, {}. I am {} \"years old. !!\" .format (student_name, student_age) )\u001b[0m\n\u001b[1;37m                                                 ^\u001b[0m\n\u001b[1;31mSyntaxError\u001b[0m\u001b[1;31m:\u001b[0m unterminated string literal (detected at line 3)\n"
     ]
    }
   ],
   "source": [
    "student_name = \"Alice\"\n",
    "student_age = 19\n",
    "print(\"My name is, {}. I am {} \"years old. !!\" .format (student_name, student_age) )"
   ]
  },
  {
   "cell_type": "code",
   "execution_count": 19,
   "id": "3bf3e4c7",
   "metadata": {},
   "outputs": [
    {
     "name": "stdout",
     "output_type": "stream",
     "text": [
      "My name is, Alice. I am 19 years old.\n"
     ]
    }
   ],
   "source": [
    "student_name = \"Alice\"\n",
    "student_age = 19\n",
    "print(\"My name is, {}. I am {} years old.\" .format (student_name, student_age))"
   ]
  },
  {
   "cell_type": "code",
   "execution_count": 1,
   "id": "eaf036c9",
   "metadata": {},
   "outputs": [
    {
     "name": "stdout",
     "output_type": "stream",
     "text": [
      "Today's weather is {}!!\n"
     ]
    }
   ],
   "source": [
    "Weather_text= \"sunny\"\n",
    "print(\"Today's weather is {}!!\")"
   ]
  },
  {
   "cell_type": "code",
   "execution_count": 2,
   "id": "38512dfa",
   "metadata": {},
   "outputs": [
    {
     "name": "stdout",
     "output_type": "stream",
     "text": [
      "Today's weather is sunny!!\n"
     ]
    }
   ],
   "source": [
    "Weather_text= \"sunny\"\n",
    "= \"sunny\"(\"Today's weather is {}!!\" .format (Weather_text))"
   ]
  },
  {
   "cell_type": "code",
   "execution_count": 3,
   "id": "3b5e2345",
   "metadata": {},
   "outputs": [
    {
     "ename": "IndentationError",
     "evalue": "unexpected indent (504401262.py, line 3)",
     "output_type": "error",
     "traceback": [
      "\u001b[1;36m  Cell \u001b[1;32mIn[3], line 3\u001b[1;36m\u001b[0m\n\u001b[1;33m    print(Weather_text)\u001b[0m\n\u001b[1;37m    ^\u001b[0m\n\u001b[1;31mIndentationError\u001b[0m\u001b[1;31m:\u001b[0m unexpected indent\n"
     ]
    }
   ],
   "source": [
    "Weather_text=\"Today's weather is {}!!\"\n",
    "Weather_text= \"sunny\"\n",
    " print(Weather_text)"
   ]
  },
  {
   "cell_type": "code",
   "execution_count": 4,
   "id": "88295005",
   "metadata": {},
   "outputs": [
    {
     "ename": "SyntaxError",
     "evalue": "invalid syntax (14825670.py, line 2)",
     "output_type": "error",
     "traceback": [
      "\u001b[1;36m  Cell \u001b[1;32mIn[4], line 2\u001b[1;36m\u001b[0m\n\u001b[1;33m    Weather_text= \"sunny.format(\"Sunny\")\"\u001b[0m\n\u001b[1;37m                                 ^\u001b[0m\n\u001b[1;31mSyntaxError\u001b[0m\u001b[1;31m:\u001b[0m invalid syntax\n"
     ]
    }
   ],
   "source": [
    "Weather_text=\"Today's weather is {}!!\"\n",
    "Weather_text= \"sunny.format(\"Sunny\")\"\n",
    " print(Weather_text.format(\"Sunny\")"
   ]
  },
  {
   "cell_type": "code",
   "execution_count": 6,
   "id": "022249c3",
   "metadata": {
    "scrolled": true
   },
   "outputs": [
    {
     "ename": "SyntaxError",
     "evalue": "unterminated string literal (detected at line 2) (1624492658.py, line 2)",
     "output_type": "error",
     "traceback": [
      "\u001b[1;36m  Cell \u001b[1;32mIn[6], line 2\u001b[1;36m\u001b[0m\n\u001b[1;33m    Weather_text= .format(\"Sunny\")\"\u001b[0m\n\u001b[1;37m                                  ^\u001b[0m\n\u001b[1;31mSyntaxError\u001b[0m\u001b[1;31m:\u001b[0m unterminated string literal (detected at line 2)\n"
     ]
    }
   ],
   "source": [
    "Weather_text=\"Today's weather is {}!!\"\n",
    "Weather_text= .format(\"Sunny\")\"\n",
    " print(Weather_text)"
   ]
  },
  {
   "cell_type": "code",
   "execution_count": 8,
   "id": "0dfd07d9",
   "metadata": {},
   "outputs": [
    {
     "ename": "NameError",
     "evalue": "name 'Weather' is not defined",
     "output_type": "error",
     "traceback": [
      "\u001b[1;31m---------------------------------------------------------------------------\u001b[0m",
      "\u001b[1;31mNameError\u001b[0m                                 Traceback (most recent call last)",
      "Cell \u001b[1;32mIn[8], line 2\u001b[0m\n\u001b[0;32m      1\u001b[0m Weather_text\u001b[38;5;241m=\u001b[39m\u001b[38;5;124m\"\u001b[39m\u001b[38;5;124mToday\u001b[39m\u001b[38;5;124m'\u001b[39m\u001b[38;5;124ms weather is \u001b[39m\u001b[38;5;132;01m{}\u001b[39;00m\u001b[38;5;124m!!\u001b[39m\u001b[38;5;124m\"\u001b[39m\n\u001b[1;32m----> 2\u001b[0m Weather_text\u001b[38;5;241m=\u001b[39mWeather\u001b[38;5;241m.\u001b[39mformat(\u001b[38;5;124m\"\u001b[39m\u001b[38;5;124mSunny\u001b[39m\u001b[38;5;124m\"\u001b[39m)\n\u001b[0;32m      3\u001b[0m \u001b[38;5;28mprint\u001b[39m(Weather_text)\n",
      "\u001b[1;31mNameError\u001b[0m: name 'Weather' is not defined"
     ]
    }
   ],
   "source": [
    "Weather_text=\"Today's weather is {}!!\"\n",
    "Weather_text=Weather.format(\"Sunny\")\n",
    "print(Weather_text)"
   ]
  },
  {
   "cell_type": "code",
   "execution_count": 9,
   "id": "d89acabc",
   "metadata": {},
   "outputs": [
    {
     "name": "stdout",
     "output_type": "stream",
     "text": [
      "Today's weather is Sunny!!\n"
     ]
    }
   ],
   "source": [
    "Weather_text=\"Today's weather is {}!!\"\n",
    "Weather_text=Weather_text.format(\"Sunny\")\n",
    "print(Weather_text)"
   ]
  },
  {
   "cell_type": "code",
   "execution_count": 10,
   "id": "c144491c",
   "metadata": {},
   "outputs": [
    {
     "ename": "SyntaxError",
     "evalue": "unterminated string literal (detected at line 1) (472560767.py, line 1)",
     "output_type": "error",
     "traceback": [
      "\u001b[1;36m  Cell \u001b[1;32mIn[10], line 1\u001b[1;36m\u001b[0m\n\u001b[1;33m    today's_temperature= 3\u001b[0m\n\u001b[1;37m         ^\u001b[0m\n\u001b[1;31mSyntaxError\u001b[0m\u001b[1;31m:\u001b[0m unterminated string literal (detected at line 1)\n"
     ]
    }
   ],
   "source": [
    "today_temperature= 3\n",
    "tomorrow_temperature=-5\n",
    "print (\"Today's lowest temperature is{:+} and tomorrow's lowest temperature is {:+}"
   ]
  },
  {
   "cell_type": "code",
   "execution_count": 11,
   "id": "d557f5b3",
   "metadata": {},
   "outputs": [
    {
     "ename": "SyntaxError",
     "evalue": "unterminated string literal (detected at line 3) (2007968358.py, line 3)",
     "output_type": "error",
     "traceback": [
      "\u001b[1;36m  Cell \u001b[1;32mIn[11], line 3\u001b[1;36m\u001b[0m\n\u001b[1;33m    print (\"Today's lowest temperature is{:+} and tomorrow's lowest temperature is {:+}\u001b[0m\n\u001b[1;37m           ^\u001b[0m\n\u001b[1;31mSyntaxError\u001b[0m\u001b[1;31m:\u001b[0m unterminated string literal (detected at line 3)\n"
     ]
    }
   ],
   "source": [
    "today_temperature= 3\n",
    "tomorrow_temperature=-5\n",
    "print (\"Today's lowest temperature is{:+} and tomorrow's lowest temperature is {:+}"
   ]
  },
  {
   "cell_type": "code",
   "execution_count": 12,
   "id": "97bbbbb6",
   "metadata": {
    "scrolled": true
   },
   "outputs": [
    {
     "ename": "SyntaxError",
     "evalue": "unterminated string literal (detected at line 3) (1658097697.py, line 3)",
     "output_type": "error",
     "traceback": [
      "\u001b[1;36m  Cell \u001b[1;32mIn[12], line 3\u001b[1;36m\u001b[0m\n\u001b[1;33m    print(\"Today's lowest temperature is {:+} and tomorrow's lowest\u001b[0m\n\u001b[1;37m          ^\u001b[0m\n\u001b[1;31mSyntaxError\u001b[0m\u001b[1;31m:\u001b[0m unterminated string literal (detected at line 3)\n"
     ]
    }
   ],
   "source": [
    "today_temperature = 3\n",
    "tomorrow_temperature = -5\n",
    "print(\"Today's lowest temperature is {:+} and tomorrow's lowest"
   ]
  },
  {
   "cell_type": "code",
   "execution_count": 13,
   "id": "d9bb8b48",
   "metadata": {},
   "outputs": [
    {
     "name": "stdout",
     "output_type": "stream",
     "text": [
      "Today's lowest temperature is +3 and tomorrow's lowest\n"
     ]
    }
   ],
   "source": [
    "today_temperature = 3\n",
    "tomorrow_temperature = -5\n",
    "print(\"Today's lowest temperature is {:+} and tomorrow's lowest\".format(today_temperature, tomorrow_temperature))"
   ]
  },
  {
   "cell_type": "code",
   "execution_count": 16,
   "id": "ccd5347b",
   "metadata": {},
   "outputs": [
    {
     "name": "stdout",
     "output_type": "stream",
     "text": [
      "Today's lowest temperature is +3  and tomorrow's lowest is -5\n"
     ]
    }
   ],
   "source": [
    "today_temperature = 3\n",
    "tomorrow_temperature = -5\n",
    "print(\"Today's lowest temperature is {:+}  and tomorrow's lowest is {:+}\".format(today_temperature, tomorrow_temperature))"
   ]
  },
  {
   "cell_type": "code",
   "execution_count": 3,
   "id": "30b59422",
   "metadata": {
    "scrolled": true
   },
   "outputs": [
    {
     "name": "stdout",
     "output_type": "stream",
     "text": [
      "today's temperature is 3.4 and tomorroow's temperature is -5.8\n"
     ]
    }
   ],
   "source": [
    "today_temperature= 3.35\n",
    "tomorrow_temperature= -5.75\n",
    "print(\"today's temperature is {:.1f} and tomorroow's temperature is {:.1f}\".format(today_temperature,tomorrow_temperature))"
   ]
  },
  {
   "cell_type": "code",
   "execution_count": 19,
   "id": "35f7fe6f",
   "metadata": {
    "scrolled": true
   },
   "outputs": [
    {
     "ename": "KeyError",
     "evalue": "'1+'",
     "output_type": "error",
     "traceback": [
      "\u001b[1;31m---------------------------------------------------------------------------\u001b[0m",
      "\u001b[1;31mKeyError\u001b[0m                                  Traceback (most recent call last)",
      "Cell \u001b[1;32mIn[19], line 3\u001b[0m\n\u001b[0;32m      1\u001b[0m today_temperature\u001b[38;5;241m=\u001b[39m \u001b[38;5;241m3.35\u001b[39m\n\u001b[0;32m      2\u001b[0m tomorrow_temperature\u001b[38;5;241m=\u001b[39m \u001b[38;5;241m-\u001b[39m\u001b[38;5;241m5.75\u001b[39m\n\u001b[1;32m----> 3\u001b[0m \u001b[38;5;28mprint\u001b[39m(\u001b[38;5;124m\"\u001b[39m\u001b[38;5;124mtoday\u001b[39m\u001b[38;5;124m'\u001b[39m\u001b[38;5;124ms temperature is \u001b[39m\u001b[38;5;124m{\u001b[39m\u001b[38;5;124m1+:.1f} and tomorroow\u001b[39m\u001b[38;5;124m'\u001b[39m\u001b[38;5;124ms temperature is \u001b[39m\u001b[38;5;132;01m{0:+.1f}\u001b[39;00m\u001b[38;5;124m\"\u001b[39m\u001b[38;5;241m.\u001b[39mformat(today_temperature,tomorrow_temperature))\n",
      "\u001b[1;31mKeyError\u001b[0m: '1+'"
     ]
    }
   ],
   "source": [
    "today_temperature= 3.35\n",
    "tomorrow_temperature= -5.75\n",
    "print(\"today's temperature is {1+:.1f} and tomorroow's temperature is {0:+.1f}\".format(today_temperature,tomorrow_temperature))"
   ]
  },
  {
   "cell_type": "code",
   "execution_count": 20,
   "id": "cd3d98c1",
   "metadata": {},
   "outputs": [
    {
     "name": "stdout",
     "output_type": "stream",
     "text": [
      "tomorrow's lowest temperature is -5.8 and today's lowest temperature is +3.4\n"
     ]
    }
   ],
   "source": [
    "today_temperature= 3.35\n",
    "tomorrow_temperature= -5.75\n",
    "print(\"tomorrow's lowest temperature is {1:+.1f} and today's lowest temperature is {0:+.1f}\".format(today_temperature,tomorrow_temperature))"
   ]
  },
  {
   "cell_type": "code",
   "execution_count": 21,
   "id": "d50e8fa9",
   "metadata": {
    "scrolled": true
   },
   "outputs": [
    {
     "name": "stdout",
     "output_type": "stream",
     "text": [
      "Python\n"
     ]
    }
   ],
   "source": [
    "print(\"python\".capitalize())"
   ]
  },
  {
   "cell_type": "code",
   "execution_count": 22,
   "id": "67afd210",
   "metadata": {},
   "outputs": [
    {
     "ename": "SyntaxError",
     "evalue": "invalid syntax. Perhaps you forgot a comma? (4256304651.py, line 2)",
     "output_type": "error",
     "traceback": [
      "\u001b[1;36m  Cell \u001b[1;32mIn[22], line 2\u001b[1;36m\u001b[0m\n\u001b[1;33m    print(\"student age is\", (student age))\u001b[0m\n\u001b[1;37m                             ^\u001b[0m\n\u001b[1;31mSyntaxError\u001b[0m\u001b[1;31m:\u001b[0m invalid syntax. Perhaps you forgot a comma?\n"
     ]
    }
   ],
   "source": [
    "student_age = 13\n",
    "print(\"student age is\", (student age))"
   ]
  },
  {
   "cell_type": "code",
   "execution_count": 23,
   "id": "e3c4a8f3",
   "metadata": {},
   "outputs": [
    {
     "ename": "SyntaxError",
     "evalue": "invalid syntax. Perhaps you forgot a comma? (741528951.py, line 2)",
     "output_type": "error",
     "traceback": [
      "\u001b[1;36m  Cell \u001b[1;32mIn[23], line 2\u001b[1;36m\u001b[0m\n\u001b[1;33m    print(\"student age is\", student age)\u001b[0m\n\u001b[1;37m                            ^\u001b[0m\n\u001b[1;31mSyntaxError\u001b[0m\u001b[1;31m:\u001b[0m invalid syntax. Perhaps you forgot a comma?\n"
     ]
    }
   ],
   "source": [
    "student_age = 13\n",
    "print(\"student age is\", studentage)"
   ]
  },
  {
   "cell_type": "code",
   "execution_count": 24,
   "id": "0c94da5e",
   "metadata": {},
   "outputs": [
    {
     "name": "stdout",
     "output_type": "stream",
     "text": [
      "student age is 13\n"
     ]
    }
   ],
   "source": [
    "student_age = 13\n",
    "print(\"student age is\", (student_age))"
   ]
  },
  {
   "cell_type": "code",
   "execution_count": 25,
   "id": "7396a7f5",
   "metadata": {},
   "outputs": [
    {
     "name": "stdout",
     "output_type": "stream",
     "text": [
      "student age is:19\n"
     ]
    }
   ],
   "source": [
    "student_age= 19\n",
    "print(\"student age is\",student_age, sep =\":\")"
   ]
  },
  {
   "cell_type": "code",
   "execution_count": 26,
   "id": "62bb0de5",
   "metadata": {},
   "outputs": [
    {
     "ename": "NameError",
     "evalue": "name 'objects' is not defined",
     "output_type": "error",
     "traceback": [
      "\u001b[1;31m---------------------------------------------------------------------------\u001b[0m",
      "\u001b[1;31mNameError\u001b[0m                                 Traceback (most recent call last)",
      "Cell \u001b[1;32mIn[26], line 1\u001b[0m\n\u001b[1;32m----> 1\u001b[0m \u001b[38;5;28mprint\u001b[39m(\u001b[38;5;241m*\u001b[39mobjects, sep\u001b[38;5;241m=\u001b[39m\u001b[38;5;124m'\u001b[39m\u001b[38;5;124m \u001b[39m\u001b[38;5;124m'\u001b[39m, end\u001b[38;5;241m=\u001b[39m\u001b[38;5;124m'\u001b[39m\u001b[38;5;130;01m\\n\u001b[39;00m\u001b[38;5;124m'\u001b[39m, file\u001b[38;5;241m=\u001b[39msys\u001b[38;5;241m.\u001b[39mstdout, flush\u001b[38;5;241m=\u001b[39m\u001b[38;5;28;01mFalse\u001b[39;00m)\n",
      "\u001b[1;31mNameError\u001b[0m: name 'objects' is not defined"
     ]
    }
   ],
   "source": [
    "print(*objects, sep=' ', end='\\n', file=sys.stdout, flush=False)"
   ]
  },
  {
   "cell_type": "code",
   "execution_count": 28,
   "id": "fa3ab835",
   "metadata": {},
   "outputs": [
    {
     "name": "stdout",
     "output_type": "stream",
     "text": [
      "average temperature for january is 30 and average temperature for february is 40\n"
     ]
    }
   ],
   "source": [
    "january_average_temperature= 30\n",
    "february_average_temperature= 40\n",
    "print(\"average temperature for january is {} and average temperature for february is {}\".format(january_average_temperature, february_average_temperature))"
   ]
  },
  {
   "cell_type": "code",
   "execution_count": 38,
   "id": "9c23dd80",
   "metadata": {},
   "outputs": [
    {
     "name": "stdout",
     "output_type": "stream",
     "text": [
      "average temperature for january is 30 and average temperature for february is 40\n"
     ]
    }
   ],
   "source": [
    "january_average_temperature= 30\n",
    "february_average_temperature= 40\n",
    "print(\"average temperature for january is \" + str (january_average_temperature), \"and average temperature for february is \"  + str (february_average_temperature))"
   ]
  },
  {
   "cell_type": "code",
   "execution_count": 40,
   "id": "8a596c8e",
   "metadata": {},
   "outputs": [
    {
     "name": "stdout",
     "output_type": "stream",
     "text": [
      "[1, 2, 3, 4, 5, 6, 7]\n"
     ]
    }
   ],
   "source": [
    "monthly_average_temperature=[1, 2, 3, 4, 5, 6 ,7]\n",
    "print(monthly_average_temperature)"
   ]
  },
  {
   "cell_type": "code",
   "execution_count": 41,
   "id": "74dec31b",
   "metadata": {},
   "outputs": [
    {
     "name": "stdout",
     "output_type": "stream",
     "text": [
      "<class 'list'>\n"
     ]
    }
   ],
   "source": [
    "monthly_average_temperature=[1, 2, 3, 4, 5, 6 ,7]\n",
    "print(type (monthly_average_temperature))"
   ]
  },
  {
   "cell_type": "code",
   "execution_count": 49,
   "id": "acdb3f47",
   "metadata": {},
   "outputs": [
    {
     "name": "stdout",
     "output_type": "stream",
     "text": [
      "monthly average temperature for january is 6 degrees and monthly average temperature for february is 7 degrees\n"
     ]
    }
   ],
   "source": [
    "monthly_average_temperature = [6, 7, 9, 15, 20, 22, 27, 26, 23, 17, 12, 7]\n",
    "print(\"monthly average temperature for january is {} degrees and monthly average temperature for february is {} degrees\".format(monthly_average_temperature[0], monthly_average_temperature [1])) \n"
   ]
  },
  {
   "cell_type": "code",
   "execution_count": 46,
   "id": "3bb28f8b",
   "metadata": {},
   "outputs": [
    {
     "name": "stdout",
     "output_type": "stream",
     "text": [
      "The average temperature for each month is 6 degrees in January and 7 degrees in February!!\n"
     ]
    }
   ],
   "source": [
    "monthly_average_temperatures = [6, 7, 9, 15, 20, 22, 27, 26, 23, 17, 12, 7]\n",
    "print(\"The average temperature for each month is {} degrees in January and {} degrees in February!!\".format(monthly_average_temperatures[0], monthly_average_temperatures[1]))"
   ]
  },
  {
   "cell_type": "code",
   "execution_count": 51,
   "id": "e5d69c1e",
   "metadata": {},
   "outputs": [
    {
     "name": "stdout",
     "output_type": "stream",
     "text": [
      "monthly average temperature for july is 27 degrees and monthly average temperature for december is 7 degrees\n"
     ]
    }
   ],
   "source": [
    "monthly_average_temperature = [6, 7, 9, 15, 20, 22, 27, 26, 23, 17, 12, 7]\n",
    "print(\"monthly average temperature for july is {} degrees and monthly average temperature for december is {} degrees\".format(monthly_average_temperature[6], monthly_average_temperature [11]))"
   ]
  },
  {
   "cell_type": "code",
   "execution_count": 1,
   "id": "61c528b7",
   "metadata": {
    "scrolled": true
   },
   "outputs": [
    {
     "ename": "NameError",
     "evalue": "name 'monthly_average_temperatures' is not defined",
     "output_type": "error",
     "traceback": [
      "\u001b[1;31m---------------------------------------------------------------------------\u001b[0m",
      "\u001b[1;31mNameError\u001b[0m                                 Traceback (most recent call last)",
      "Cell \u001b[1;32mIn[1], line 1\u001b[0m\n\u001b[1;32m----> 1\u001b[0m \u001b[38;5;28mprint\u001b[39m(monthly_average_temperatures[\u001b[38;5;241m5\u001b[39m])\n\u001b[0;32m      2\u001b[0m monthly_average_temperatures[\u001b[38;5;241m5\u001b[39m] \u001b[38;5;241m=\u001b[39m \u001b[38;5;241m24\u001b[39m\n\u001b[0;32m      3\u001b[0m \u001b[38;5;28mprint\u001b[39m(monthly_average_temperatures[\u001b[38;5;241m5\u001b[39m])\n",
      "\u001b[1;31mNameError\u001b[0m: name 'monthly_average_temperatures' is not defined"
     ]
    }
   ],
   "source": [
    "print(monthly_average_temperatures[5])\n",
    "monthly_average_temperatures[5] = 24\n",
    "print(monthly_average_temperatures[5])"
   ]
  },
  {
   "cell_type": "code",
   "execution_count": 2,
   "id": "ee8cad34",
   "metadata": {
    "scrolled": true
   },
   "outputs": [
    {
     "ename": "NameError",
     "evalue": "name 'monthly_average_temperatures' is not defined",
     "output_type": "error",
     "traceback": [
      "\u001b[1;31m---------------------------------------------------------------------------\u001b[0m",
      "\u001b[1;31mNameError\u001b[0m                                 Traceback (most recent call last)",
      "Cell \u001b[1;32mIn[2], line 1\u001b[0m\n\u001b[1;32m----> 1\u001b[0m \u001b[38;5;28mprint\u001b[39m(monthly_average_temperatures[\u001b[38;5;241m5\u001b[39m])\n\u001b[0;32m      2\u001b[0m monthly_average_temperatures[\u001b[38;5;241m5\u001b[39m] \u001b[38;5;241m=\u001b[39m \u001b[38;5;241m24\u001b[39m\n\u001b[0;32m      3\u001b[0m \u001b[38;5;28mprint\u001b[39m(monthly_average_temperatures[\u001b[38;5;241m5\u001b[39m])\n",
      "\u001b[1;31mNameError\u001b[0m: name 'monthly_average_temperatures' is not defined"
     ]
    }
   ],
   "source": [
    "print(monthly_average_temperatures[5])\n",
    "monthly_average_temperatures[5] = 24\n",
    "print(monthly_average_temperatures[5])"
   ]
  },
  {
   "cell_type": "code",
   "execution_count": 1,
   "id": "dd5cd5c9",
   "metadata": {},
   "outputs": [
    {
     "ename": "NameError",
     "evalue": "name 'monthly_average_temperatures' is not defined",
     "output_type": "error",
     "traceback": [
      "\u001b[1;31m---------------------------------------------------------------------------\u001b[0m",
      "\u001b[1;31mNameError\u001b[0m                                 Traceback (most recent call last)",
      "Cell \u001b[1;32mIn[1], line 1\u001b[0m\n\u001b[1;32m----> 1\u001b[0m monthly_average_temperatures[\u001b[38;5;241m5\u001b[39m] \u001b[38;5;241m=\u001b[39m \u001b[38;5;241m24\u001b[39m\n\u001b[0;32m      2\u001b[0m \u001b[38;5;28mprint\u001b[39m(monthly_average_temperatures[\u001b[38;5;241m5\u001b[39m])\n\u001b[0;32m      3\u001b[0m \u001b[38;5;28mprint\u001b[39m(monthly_average_temperatures[\u001b[38;5;241m5\u001b[39m])\n",
      "\u001b[1;31mNameError\u001b[0m: name 'monthly_average_temperatures' is not defined"
     ]
    }
   ],
   "source": [
    "monthly_average_temperatures[5] = 24\n",
    "print(monthly_average_temperatures[5])\n",
    "print(monthly_average_temperatures[5])"
   ]
  },
  {
   "cell_type": "code",
   "execution_count": 3,
   "id": "6e1149fc",
   "metadata": {},
   "outputs": [
    {
     "name": "stdout",
     "output_type": "stream",
     "text": [
      "22\n",
      "24\n"
     ]
    }
   ],
   "source": [
    "monthly_average_temperatures = [6, 7, 9, 15, 20, 22, 27, 26, 23, 17, 12, 7]\n",
    "print(monthly_average_temperatures[5])\n",
    "monthly_average_temperatures[5] = 24\n",
    "print(monthly_average_temperatures[5])"
   ]
  },
  {
   "cell_type": "code",
   "execution_count": 4,
   "id": "f4c6acef",
   "metadata": {},
   "outputs": [
    {
     "name": "stdout",
     "output_type": "stream",
     "text": [
      "[6, 9, 20, 27]\n"
     ]
    }
   ],
   "source": [
    "monthly_average_temperatures = [6, 7, 9, 15, 20, 22, 27, 26, 23, 17, 12, 7]\n",
    "print(monthly_average_temperatures[0:7:2])"
   ]
  },
  {
   "cell_type": "code",
   "execution_count": 5,
   "id": "85ff7054",
   "metadata": {},
   "outputs": [
    {
     "name": "stdout",
     "output_type": "stream",
     "text": [
      "[6, 9, 20, 27]\n"
     ]
    }
   ],
   "source": [
    "monthly_average_temperatures = [6, 7, 9, 15, 20, 22, 27, 26, 23, 17, 12, 7]\n",
    "print(monthly_average_temperatures[0:7:2])"
   ]
  },
  {
   "cell_type": "code",
   "execution_count": 6,
   "id": "a33bd6a0",
   "metadata": {},
   "outputs": [
    {
     "name": "stdout",
     "output_type": "stream",
     "text": [
      "[6, 22, 12]\n"
     ]
    }
   ],
   "source": [
    "monthly_average_temperatures = [6, 7, 9, 15, 20, 22, 27, 26, 23, 17, 12, 7]\n",
    "print(monthly_average_temperatures[::5])"
   ]
  },
  {
   "cell_type": "code",
   "execution_count": 4,
   "id": "91d995c8",
   "metadata": {},
   "outputs": [
    {
     "name": "stdout",
     "output_type": "stream",
     "text": [
      "[7, 12, 17, 23, 26, 27, 22, 20, 15, 9, 7, 6]\n"
     ]
    }
   ],
   "source": [
    "monthly_average_temperatures = [6, 7, 9, 15, 20, 22, 27, 26, 23, 17, 12, 7]\n",
    "print(monthly_average_temperatures[::-1])"
   ]
  },
  {
   "cell_type": "code",
   "execution_count": 8,
   "id": "46972748",
   "metadata": {},
   "outputs": [
    {
     "name": "stdout",
     "output_type": "stream",
     "text": [
      "12\n"
     ]
    }
   ],
   "source": [
    "monthly_average_temperatures = [6, 7, 9, 15, 20, 22, 27, 26, 23, 17, 12, 7]\n",
    "print(len(monthly_average_temperatures))"
   ]
  },
  {
   "cell_type": "code",
   "execution_count": 1,
   "id": "67c9d0b9",
   "metadata": {},
   "outputs": [
    {
     "name": "stdout",
     "output_type": "stream",
     "text": [
      "Thickness: 0.00016 meters\n"
     ]
    }
   ],
   "source": [
    "THICKNESS = 0.00008\n",
    "\n",
    "folded_thickness = THICKNESS * 2\n",
    "\n",
    "print(\"Thickness: {} meters"
   ]
  },
  {
   "cell_type": "code",
   "execution_count": 2,
   "id": "cb90cfac",
   "metadata": {},
   "outputs": [
    {
     "name": "stdout",
     "output_type": "stream",
     "text": [
      "Thickness:  0.00 kilometers\n"
     ]
    }
   ],
   "source": [
    "print(\"Thickness: {0+:.2f} kilometers\".format(folded_thickness / 1000))"
   ]
  },
  {
   "cell_type": "code",
   "execution_count": 5,
   "id": "ac9e68c9",
   "metadata": {},
   "outputs": [
    {
     "ename": "KeyError",
     "evalue": "'0+'",
     "output_type": "error",
     "traceback": [
      "\u001b[1;31m---------------------------------------------------------------------------\u001b[0m",
      "\u001b[1;31mKeyError\u001b[0m                                  Traceback (most recent call last)",
      "Cell \u001b[1;32mIn[5], line 2\u001b[0m\n\u001b[0;32m      1\u001b[0m folded_thickness\u001b[38;5;241m=\u001b[39m\u001b[38;5;241m0.00016\u001b[39m\n\u001b[1;32m----> 2\u001b[0m \u001b[38;5;28mprint\u001b[39m(\u001b[38;5;124m\"\u001b[39m\u001b[38;5;124mThickness: \u001b[39m\u001b[38;5;124m{\u001b[39m\u001b[38;5;124m0+:.2f} kilometers\u001b[39m\u001b[38;5;124m\"\u001b[39m\u001b[38;5;241m.\u001b[39mformat(folded_thickness \u001b[38;5;241m/\u001b[39m \u001b[38;5;241m1000\u001b[39m))\n",
      "\u001b[1;31mKeyError\u001b[0m: '0+'"
     ]
    }
   ],
   "source": [
    "folded_thickness=0.00016\n",
    "print(\"Thickness: {0+:.2f} kilometers\".format(folded_thickness / 1000))"
   ]
  },
  {
   "cell_type": "code",
   "execution_count": 9,
   "id": "ecab2a87",
   "metadata": {},
   "outputs": [
    {
     "name": "stdout",
     "output_type": "stream",
     "text": [
      "Thickness:  0.000 kilometers\n"
     ]
    }
   ],
   "source": [
    "folded_thickness=0.00016 \n",
    "print(\"Thickness: {: .2f} kilometers\".format(folded_thickness / 1000))"
   ]
  },
  {
   "cell_type": "code",
   "execution_count": 10,
   "id": "a43f5c7e",
   "metadata": {},
   "outputs": [
    {
     "name": "stdout",
     "output_type": "stream",
     "text": [
      "Thickness:  0.000 kilometers\n"
     ]
    }
   ],
   "source": [
    "folded_thickness=0.00016 \n",
    "print(\"Thickness: {: .3f} kilometers\".format(folded_thickness / 1000))"
   ]
  },
  {
   "cell_type": "code",
   "execution_count": 11,
   "id": "cd2adab2",
   "metadata": {},
   "outputs": [
    {
     "name": "stdout",
     "output_type": "stream",
     "text": [
      "Thickness:  0.0000 kilometers\n"
     ]
    }
   ],
   "source": [
    "folded_thickness=0.00016 \n",
    "print(\"Thickness: {: .4f} kilometers\".format(folded_thickness / 1000))"
   ]
  },
  {
   "cell_type": "code",
   "execution_count": 12,
   "id": "a13dc427",
   "metadata": {},
   "outputs": [
    {
     "name": "stdout",
     "output_type": "stream",
     "text": [
      "Thickness:  0.00000016 kilometers\n"
     ]
    }
   ],
   "source": [
    "folded_thickness=0.00016 \n",
    "print(\"Thickness: {: .8f} kilometers\".format(folded_thickness / 1000))"
   ]
  },
  {
   "cell_type": "code",
   "execution_count": 13,
   "id": "281c7ccc",
   "metadata": {},
   "outputs": [
    {
     "name": "stdout",
     "output_type": "stream",
     "text": [
      "Thickness:  0.0000002 kilometers\n"
     ]
    }
   ],
   "source": [
    "folded_thickness=0.00016 \n",
    "print(\"Thickness: {: .7f} kilometers\".format(folded_thickness / 1000))"
   ]
  },
  {
   "cell_type": "code",
   "execution_count": 14,
   "id": "6eb64833",
   "metadata": {},
   "outputs": [
    {
     "name": "stdout",
     "output_type": "stream",
     "text": [
      "Tom is not an adult yet\n"
     ]
    }
   ],
   "source": [
    "Name = \"Tom\"\n",
    "age = 15\n",
    "\n",
    "if age > 18:\n",
    "    print(\"Tom is an Adult\")\n",
    "else:\n",
    "    print(\"{} is not an adult yet\".format(Name))\n",
    "       "
   ]
  },
  {
   "cell_type": "code",
   "execution_count": 21,
   "id": "1fff588c",
   "metadata": {},
   "outputs": [
    {
     "name": "stdout",
     "output_type": "stream",
     "text": [
      "Tayo is eligeable to serve\n"
     ]
    }
   ],
   "source": [
    "Name = \"Tayo\"\n",
    "Age = 29\n",
    "if Age > 30:\n",
    "    print(\"{} Is over the age to serve\".format(Name))\n",
    "    \n",
    "else:\n",
    "     print(\"{} is eligeable to serve\".format(Name))"
   ]
  },
  {
   "cell_type": "code",
   "execution_count": 22,
   "id": "4e697cb4",
   "metadata": {},
   "outputs": [
    {
     "name": "stdout",
     "output_type": "stream",
     "text": [
      "Temi Tayo\n"
     ]
    }
   ],
   "source": [
    "Name_of_Students = (\"Temi\", \"Tayo\", \"ELsa\")\n",
    "Name_of_Student1,Name_of_Student2,Name_of_Student3 =  Name_of_Students  \n",
    "print(Name_of_Student1,Name_of_Student2)\n"
   ]
  },
  {
   "cell_type": "code",
   "execution_count": 36,
   "id": "ec15aa65",
   "metadata": {},
   "outputs": [
    {
     "name": "stdout",
     "output_type": "stream",
     "text": [
      "Temi is eligible to serve\n",
      "('Temi', 'Tayo', 'ELsa') is not eligible to serve\n"
     ]
    }
   ],
   "source": [
    "Name_of_Students = (\"Temi\", \"Tayo\", \"ELsa\")\n",
    "Age_of_Students = (20, 34, 33)\n",
    "\n",
    "Name_of_Student1,Name_of_Student2,Name_of_Student3 =  Name_of_Students  \n",
    "Age_Name_of_Student1,Age_Name_of_Student2,Age_Name_of_Student3= Age_of_Students   \n",
    "\n",
    "\n",
    "if Age_Name_of_Student1 <= 30:\n",
    "    print(\"{} is eligible to serve\".format(Name_of_Student1))\n",
    "if Age_Name_of_Student2 <= 30:\n",
    "    print(\"{} is eligible to serve\".format(Name_of_Student2))\n",
    "if Age_Name_of_Student3 <= 30:\n",
    "    print(\"{} is eligible to serve\".format(Name_of_Student3))\n",
    "else:\n",
    "    print(\"{} is not eligible to serve\".format(Name_of_Students))"
   ]
  },
  {
   "cell_type": "code",
   "execution_count": 37,
   "id": "20c06e02",
   "metadata": {},
   "outputs": [
    {
     "name": "stdout",
     "output_type": "stream",
     "text": [
      "Eligible to serve: Temi\n",
      "Not eligible to serve: Tayo, ELsa\n"
     ]
    }
   ],
   "source": [
    "Name_of_Students = (\"Temi\", \"Tayo\", \"ELsa\")\n",
    "Age_of_Students = (20, 34, 33)\n",
    "\n",
    "eligible_students = []\n",
    "ineligible_students = []\n",
    "\n",
    "for name, age in zip(Name_of_Students, Age_of_Students):\n",
    "    if age <= 30:\n",
    "        eligible_students.append(name)\n",
    "    else:\n",
    "        ineligible_students.append(name)\n",
    "\n",
    "if eligible_students:\n",
    "    print(\"Eligible to serve:\", \", \".join(eligible_students))\n",
    "if ineligible_students:\n",
    "    print(\"Not eligible to serve:\", \", \".join(ineligible_students))"
   ]
  },
  {
   "cell_type": "code",
   "execution_count": 39,
   "id": "c6961f4f",
   "metadata": {},
   "outputs": [
    {
     "name": "stdout",
     "output_type": "stream",
     "text": [
      "('Temi', 'Tayo', 'ELsa') is eligible to serve\n",
      "('Temi', 'Tayo', 'ELsa') is ineligible to serve\n"
     ]
    }
   ],
   "source": [
    "Name_of_Students = (\"Temi\", \"Tayo\", \"ELsa\")\n",
    "Age_of_Students = (20, 34, 33)\n",
    "\n",
    "eligible_students = []\n",
    "ineligible_students = []\n",
    "\n",
    "for name, age in zip(Name_of_Students, Age_of_Students):\n",
    "    if age <= 30:\n",
    "        eligible_students.append(name)\n",
    "    else:\n",
    "        ineligible_students.append(name)\n",
    "\n",
    "if eligible_students:\n",
    "    print(\"{} is eligible to serve\".format(Name_of_Students))\n",
    "if ineligible_students:\n",
    "    print(\"{} is ineligible to serve\".format(Name_of_Students))"
   ]
  },
  {
   "cell_type": "code",
   "execution_count": 1,
   "id": "261267e4",
   "metadata": {},
   "outputs": [
    {
     "name": "stdout",
     "output_type": "stream",
     "text": [
      "weather_text\n"
     ]
    }
   ],
   "source": [
    "Weather_text= \"Today's weather is sunny\"\n",
    "print(\"weather_text\")"
   ]
  },
  {
   "cell_type": "code",
   "execution_count": 2,
   "id": "9d16aecc",
   "metadata": {},
   "outputs": [
    {
     "ename": "SyntaxError",
     "evalue": "invalid syntax (1936124116.py, line 2)",
     "output_type": "error",
     "traceback": [
      "\u001b[1;36m  Cell \u001b[1;32mIn[2], line 2\u001b[1;36m\u001b[0m\n\u001b[1;33m    weather_text = weather_text. format \"sunny\"\u001b[0m\n\u001b[1;37m                                        ^\u001b[0m\n\u001b[1;31mSyntaxError\u001b[0m\u001b[1;31m:\u001b[0m invalid syntax\n"
     ]
    }
   ],
   "source": [
    "weather_text= \"today's weather is\" \n",
    "weather_text = weather_text. format \"sunny\""
   ]
  },
  {
   "cell_type": "code",
   "execution_count": 4,
   "id": "c0920c14",
   "metadata": {},
   "outputs": [
    {
     "name": "stdout",
     "output_type": "stream",
     "text": [
      "Elie\n"
     ]
    }
   ],
   "source": [
    "print(\"Elie\")"
   ]
  },
  {
   "cell_type": "code",
   "execution_count": 2,
   "id": "1e722084",
   "metadata": {},
   "outputs": [
    {
     "name": "stdout",
     "output_type": "stream",
     "text": [
      "Elie\n"
     ]
    }
   ],
   "source": [
    "print(\"Elie\")"
   ]
  },
  {
   "cell_type": "code",
   "execution_count": 6,
   "id": "22519144",
   "metadata": {},
   "outputs": [
    {
     "name": "stdout",
     "output_type": "stream",
     "text": [
      "elie\n"
     ]
    }
   ],
   "source": [
    "name= \"elie\"\n",
    "print(name)"
   ]
  },
  {
   "cell_type": "code",
   "execution_count": 1,
   "id": "4417f7b4",
   "metadata": {},
   "outputs": [
    {
     "name": "stdout",
     "output_type": "stream",
     "text": [
      "7\n"
     ]
    }
   ],
   "source": [
    "s,t= 2, 5\n",
    "y= s+t\n",
    "print (y)"
   ]
  },
  {
   "cell_type": "code",
   "execution_count": 9,
   "id": "0910ccf0",
   "metadata": {},
   "outputs": [
    {
     "name": "stdout",
     "output_type": "stream",
     "text": [
      "my name is ELIE\n"
     ]
    }
   ],
   "source": [
    "name =\"ELIE\"\n",
    "print( \"my name is {}\" .format(name))"
   ]
  },
  {
   "cell_type": "code",
   "execution_count": 14,
   "id": "adfa0f5a",
   "metadata": {},
   "outputs": [
    {
     "name": "stdout",
     "output_type": "stream",
     "text": [
      "i am female\n"
     ]
    }
   ],
   "source": [
    "sex =\"female\"\n",
    "print( \"i am {}\" .format(sex))"
   ]
  },
  {
   "cell_type": "code",
   "execution_count": 16,
   "id": "34e5c502",
   "metadata": {},
   "outputs": [
    {
     "name": "stdout",
     "output_type": "stream",
     "text": [
      "Average temperature for January is 7, and Average temperature for February is 9\n"
     ]
    }
   ],
   "source": [
    "January_average_temperature=7\n",
    "February_average_temperature=9\n",
    "print(\"Average temperature for January is {}, and Average temperature for February is {}\" .format(January_average_temperature, February_average_temperature))"
   ]
  },
  {
   "cell_type": "code",
   "execution_count": 17,
   "id": "4e2053d2",
   "metadata": {},
   "outputs": [
    {
     "name": "stdout",
     "output_type": "stream",
     "text": [
      "The monthly average temperature for April and July are, 4 and 7 degrees respectively\n"
     ]
    }
   ],
   "source": [
    "Monthly_average_temperature= [1, 2, 3, 4, 5, 6, 7, 8, 9, 12, 21, 11]\n",
    "print(\"The monthly average temperature for April and July are, {} and {} degrees respectively\" .format(Monthly_average_temperature[3], Monthly_average_temperature[6]))"
   ]
  },
  {
   "cell_type": "code",
   "execution_count": 18,
   "id": "7876d48e",
   "metadata": {},
   "outputs": [
    {
     "name": "stdout",
     "output_type": "stream",
     "text": [
      "6\n"
     ]
    }
   ],
   "source": [
    "print(Monthly_average_temperature[5])"
   ]
  },
  {
   "cell_type": "code",
   "execution_count": 19,
   "id": "36a2ad26",
   "metadata": {},
   "outputs": [
    {
     "name": "stdout",
     "output_type": "stream",
     "text": [
      "[3, 4, 5, 6, 7]\n"
     ]
    }
   ],
   "source": [
    "print(Monthly_average_temperature[2:7])"
   ]
  },
  {
   "cell_type": "code",
   "execution_count": 20,
   "id": "ab12993e",
   "metadata": {},
   "outputs": [
    {
     "name": "stdout",
     "output_type": "stream",
     "text": [
      "[3, 6]\n"
     ]
    }
   ],
   "source": [
    "print(Monthly_average_temperature[2:7:3])"
   ]
  },
  {
   "cell_type": "code",
   "execution_count": 21,
   "id": "28ae1f41",
   "metadata": {},
   "outputs": [
    {
     "name": "stdout",
     "output_type": "stream",
     "text": [
      "[7, 4]\n"
     ]
    }
   ],
   "source": [
    "print(Monthly_average_temperature[6:2:-3])"
   ]
  },
  {
   "cell_type": "code",
   "execution_count": 26,
   "id": "d64f254c",
   "metadata": {},
   "outputs": [
    {
     "name": "stdout",
     "output_type": "stream",
     "text": [
      "[0, 1, 2, 3, 4]\n"
     ]
    }
   ],
   "source": [
    "numbers = [0, 1, 2, 3]\n",
    "numbers.append(4)\n",
    "print(numbers)"
   ]
  },
  {
   "cell_type": "code",
   "execution_count": 35,
   "id": "0dc62e12",
   "metadata": {},
   "outputs": [
    {
     "name": "stdout",
     "output_type": "stream",
     "text": [
      "['Benz, camry, rg', 'mecedes']\n"
     ]
    }
   ],
   "source": [
    "text = [ \"Benz, camry, rg\"]\n",
    "text.append(\"mecedes\")\n",
    "print(text)"
   ]
  },
  {
   "cell_type": "code",
   "execution_count": 29,
   "id": "97c77637",
   "metadata": {},
   "outputs": [
    {
     "name": "stdout",
     "output_type": "stream",
     "text": [
      "[5, 6, 7, 8]\n"
     ]
    }
   ],
   "source": [
    "numbers = [5, 6, 7]\n",
    "numbers.append(8)\n",
    "print(numbers)"
   ]
  },
  {
   "cell_type": "code",
   "execution_count": 36,
   "id": "811bdcdc",
   "metadata": {},
   "outputs": [
    {
     "name": "stdout",
     "output_type": "stream",
     "text": [
      "None\n",
      "[0, 1, 2, 3, 4]\n"
     ]
    }
   ],
   "source": [
    "numbers = [0, 1, 2, 3]\n",
    "print(numbers.append(4))\n",
    "print(numbers)"
   ]
  },
  {
   "cell_type": "code",
   "execution_count": 39,
   "id": "0b0d475b",
   "metadata": {},
   "outputs": [
    {
     "name": "stdout",
     "output_type": "stream",
     "text": [
      "python\n",
      "Python\n"
     ]
    }
   ],
   "source": [
    "text = \"python\"\n",
    "text.capitalize()\n",
    "text_capitalized = text.capitalize()\n",
    "print(text)\n",
    "print(text_capitalized)"
   ]
  },
  {
   "cell_type": "code",
   "execution_count": 38,
   "id": "c3760083",
   "metadata": {
    "scrolled": true
   },
   "outputs": [
    {
     "name": "stdout",
     "output_type": "stream",
     "text": [
      "python\n",
      "python\n",
      "Python\n"
     ]
    }
   ],
   "source": [
    "text = \"python\"\n",
    "text.capitalize()\n",
    "print(text)\n",
    "capitalized_text = text.capitalize()\n",
    "print(text)\n",
    "print(capitalized_text)"
   ]
  },
  {
   "cell_type": "code",
   "execution_count": 40,
   "id": "8fcb4f5e",
   "metadata": {},
   "outputs": [
    {
     "name": "stdout",
     "output_type": "stream",
     "text": [
      "('A128', 'A556', 'A939')\n"
     ]
    }
   ],
   "source": [
    "Id_numbers= (\"A128\", \"A556\", \"A939\")\n",
    "print(Id_numbers)"
   ]
  },
  {
   "cell_type": "code",
   "execution_count": 41,
   "id": "7f815683",
   "metadata": {},
   "outputs": [
    {
     "name": "stdout",
     "output_type": "stream",
     "text": [
      "<class 'tuple'>\n"
     ]
    }
   ],
   "source": [
    "print(type(Id_numbers))"
   ]
  },
  {
   "cell_type": "code",
   "execution_count": 44,
   "id": "499cc39a",
   "metadata": {},
   "outputs": [
    {
     "name": "stdout",
     "output_type": "stream",
     "text": [
      "A556\n"
     ]
    }
   ],
   "source": [
    "print(Id_numbers[1])"
   ]
  },
  {
   "cell_type": "code",
   "execution_count": 45,
   "id": "f1bf9201",
   "metadata": {},
   "outputs": [
    {
     "name": "stdout",
     "output_type": "stream",
     "text": [
      "['A081', 'A114', 'A186']\n",
      "<class 'list'>\n",
      "['A082', 'A114', 'A186']\n"
     ]
    }
   ],
   "source": [
    "user_ids = [\"A081\", \"A114\", \"A186\"]\n",
    "print(user_ids)\n",
    "print(type(user_ids))\n",
    "user_ids[0] = \"A082\"\n",
    "print(user_ids)"
   ]
  },
  {
   "cell_type": "code",
   "execution_count": 46,
   "id": "6b53c681",
   "metadata": {},
   "outputs": [
    {
     "name": "stdout",
     "output_type": "stream",
     "text": [
      "('A081', 'A114', 'A186')\n"
     ]
    }
   ],
   "source": [
    "user_ids = \"A081\", \"A114\", \"A186\"\n",
    "print(user_ids)"
   ]
  },
  {
   "cell_type": "code",
   "execution_count": 1,
   "id": "77babcf6",
   "metadata": {},
   "outputs": [
    {
     "name": "stdout",
     "output_type": "stream",
     "text": [
      "300\n"
     ]
    }
   ],
   "source": [
    "s, t = 100, 200\n",
    "print(s+t)"
   ]
  },
  {
   "cell_type": "code",
   "execution_count": 2,
   "id": "2ee35dbd",
   "metadata": {},
   "outputs": [
    {
     "name": "stdout",
     "output_type": "stream",
     "text": [
      "300\n"
     ]
    }
   ],
   "source": [
    "(s, t) = (100, 200)\n",
    "print(s+t)"
   ]
  },
  {
   "cell_type": "code",
   "execution_count": 3,
   "id": "49481ab0",
   "metadata": {},
   "outputs": [
    {
     "name": "stdout",
     "output_type": "stream",
     "text": [
      "('A081', 'A114', 'A186')\n",
      "None\n"
     ]
    }
   ],
   "source": [
    "user_ids = (\"A081\", \"A114\", \"A186\")\n",
    "user_id1, user_id2, user_id3 = user_ids\n",
    "print(print(user_ids))"
   ]
  },
  {
   "cell_type": "code",
   "execution_count": 5,
   "id": "2ab0fb2f",
   "metadata": {},
   "outputs": [
    {
     "name": "stdout",
     "output_type": "stream",
     "text": [
      "A081 A114\n"
     ]
    }
   ],
   "source": [
    "user_ids = (\"A081\", \"A114\", \"A186\")\n",
    "user_id1, user_id2, user_id3 = user_ids\n",
    "print(user_id1, user_id2)"
   ]
  },
  {
   "cell_type": "code",
   "execution_count": 8,
   "id": "9c2e64ea",
   "metadata": {
    "scrolled": true
   },
   "outputs": [
    {
     "name": "stdout",
     "output_type": "stream",
     "text": [
      "('A081', 'A114', 'A186')\n",
      "['A081', 'A114', 'A186']\n"
     ]
    }
   ],
   "source": [
    "user_ids = (\"A081\", \"A114\", \"A186\")\n",
    "print(user_ids)\n",
    "print(list(user_ids))"
   ]
  },
  {
   "cell_type": "code",
   "execution_count": 9,
   "id": "cbe03a67",
   "metadata": {},
   "outputs": [
    {
     "name": "stdout",
     "output_type": "stream",
     "text": [
      "('A081', 'A114', 'A186')\n",
      "['A081', 'A114', 'A186']\n"
     ]
    }
   ],
   "source": [
    "user_ids = (\"A081\", \"A114\", \"A186\")\n",
    "print(user_ids)\n",
    "print(list(user_ids))"
   ]
  },
  {
   "cell_type": "code",
   "execution_count": 11,
   "id": "1463fc3e",
   "metadata": {},
   "outputs": [
    {
     "name": "stdout",
     "output_type": "stream",
     "text": [
      "Elie is below 20 years of Age\n"
     ]
    }
   ],
   "source": [
    "student_name =\"Elie\"\n",
    "student_age= 19\n",
    "if student_age <20:\n",
    " print(\"{} is below 20 years of Age\".format(student_name))\n",
    "else:\n",
    "    print(\"{} is above 20 years of Age\".format(student_name))"
   ]
  },
  {
   "cell_type": "code",
   "execution_count": 12,
   "id": "b5d9273f",
   "metadata": {},
   "outputs": [
    {
     "name": "stdout",
     "output_type": "stream",
     "text": [
      "Elie is above 20 years of Age\n"
     ]
    }
   ],
   "source": [
    "student_name =\"Elie\"\n",
    "student_age= 26\n",
    "if student_age <20:\n",
    " print(\"{} is below 20 years of Age\".format(student_name))\n",
    "else:\n",
    "    print(\"{} is above 20 years of Age\".format(student_name))"
   ]
  },
  {
   "cell_type": "code",
   "execution_count": 14,
   "id": "4e66dd5b",
   "metadata": {},
   "outputs": [
    {
     "name": "stdout",
     "output_type": "stream",
     "text": [
      "Elie is 22 years old\n"
     ]
    }
   ],
   "source": [
    "student_name =\"Elie\"\n",
    "student_age= 22\n",
    "if student_age <20:\n",
    " print(\"{} is below 20 years of Age\".format(student_name))\n",
    "elif student_age == 21:\n",
    " print(\"{} is 21 years old\".format(student_name))\n",
    "elif student_age == 22:\n",
    " print(\"{} is 22 years old\".format(student_name))\n",
    "else:   \n",
    "  print(\"{} is above 23 years of Age\".format(student_name))"
   ]
  },
  {
   "cell_type": "code",
   "execution_count": 15,
   "id": "aae9dce0",
   "metadata": {},
   "outputs": [
    {
     "name": "stdout",
     "output_type": "stream",
     "text": [
      "Elie is 21 years old\n"
     ]
    }
   ],
   "source": [
    "student_name =\"Elie\"\n",
    "student_age= 21\n",
    "if student_age <20:\n",
    " print(\"{} is below 20 years of Age\".format(student_name))\n",
    "elif student_age == 21:\n",
    " print(\"{} is 21 years old\".format(student_name))\n",
    "elif student_age == 22:\n",
    " print(\"{} is 22 years old\".format(student_name))\n",
    "else:   \n",
    "  print(\"{} is above 23 years of Age\".format(student_name))"
   ]
  },
  {
   "cell_type": "code",
   "execution_count": 16,
   "id": "13f36cbc",
   "metadata": {},
   "outputs": [
    {
     "name": "stdout",
     "output_type": "stream",
     "text": [
      "Elie is below 20 years of Age\n"
     ]
    }
   ],
   "source": [
    "student_name =\"Elie\"\n",
    "student_age= 13\n",
    "if student_age <20:\n",
    " print(\"{} is below 20 years of Age\".format(student_name))\n",
    "elif student_age == 21:\n",
    " print(\"{} is 21 years old\".format(student_name))\n",
    "elif student_age == 22:\n",
    " print(\"{} is 22 years old\".format(student_name))\n",
    "else:   \n",
    "  print(\"{} is above 23 years of Age\".format(student_name))"
   ]
  },
  {
   "cell_type": "code",
   "execution_count": 17,
   "id": "72112b0f",
   "metadata": {},
   "outputs": [
    {
     "name": "stdout",
     "output_type": "stream",
     "text": [
      "Elie is above 23 years of Age\n"
     ]
    }
   ],
   "source": [
    "student_name =\"Elie\"\n",
    "student_age= 23\n",
    "if student_age <20:\n",
    " print(\"{} is below 20 years of Age\".format(student_name))\n",
    "elif student_age == 21:\n",
    " print(\"{} is 21 years old\".format(student_name))\n",
    "elif student_age == 22:\n",
    " print(\"{} is 22 years old\".format(student_name))\n",
    "else:   \n",
    "  print(\"{} is above 23 years of Age\".format(student_name))"
   ]
  },
  {
   "cell_type": "code",
   "execution_count": 18,
   "id": "98164268",
   "metadata": {},
   "outputs": [
    {
     "name": "stdout",
     "output_type": "stream",
     "text": [
      "Elie is above 23 years of Age\n"
     ]
    }
   ],
   "source": [
    "student_name =\"Elie\"\n",
    "student_age= 28\n",
    "if student_age <20:\n",
    " print(\"{} is below 20 years of Age\".format(student_name))\n",
    "elif student_age == 21:\n",
    " print(\"{} is 21 years old\".format(student_name))\n",
    "elif student_age == 22:\n",
    " print(\"{} is 22 years old\".format(student_name))\n",
    "else:   \n",
    "  print(\"{} is above 23 years of Age\".format(student_name))"
   ]
  },
  {
   "cell_type": "code",
   "execution_count": 19,
   "id": "06ca5328",
   "metadata": {},
   "outputs": [
    {
     "name": "stdout",
     "output_type": "stream",
     "text": [
      "Elie Is over 21 years old.\n"
     ]
    }
   ],
   "source": [
    "student_name = \"Elie\"\n",
    "student_age = 22\n",
    "if student_age < 20:\n",
    "  print(\"{} is under 20 years old.\".format(student_name))\n",
    "elif student_age >= 21:\n",
    "  print(\"{} Is over 21 years old.\".format(student_name))\n",
    "elif student_age == 22:\n",
    "  print(\"{} is 22 years old.\".format(student_name))"
   ]
  },
  {
   "cell_type": "code",
   "execution_count": 23,
   "id": "27adf755",
   "metadata": {},
   "outputs": [
    {
     "name": "stdout",
     "output_type": "stream",
     "text": [
      "True\n",
      "<class 'bool'>\n",
      "False\n",
      "<class 'bool'>\n"
     ]
    }
   ],
   "source": [
    "print(19<20)\n",
    "print(type(19<20))\n",
    "print(22<20)\n",
    "print(type(22<20))"
   ]
  },
  {
   "cell_type": "code",
   "execution_count": 33,
   "id": "6387b0ec",
   "metadata": {
    "scrolled": true
   },
   "outputs": [
    {
     "name": "stdout",
     "output_type": "stream",
     "text": [
      "Hello,Elie\n"
     ]
    }
   ],
   "source": [
    "if True: \n",
    " print(\"Hello,Elie\")"
   ]
  },
  {
   "cell_type": "code",
   "execution_count": 29,
   "id": "fe3df749",
   "metadata": {},
   "outputs": [
    {
     "name": "stdout",
     "output_type": "stream",
     "text": [
      "Hello, Boolean!\n"
     ]
    }
   ],
   "source": [
    "if True:\n",
    "  print(\"Hello, Boolean!\")"
   ]
  },
  {
   "cell_type": "code",
   "execution_count": 34,
   "id": "30ec0dce",
   "metadata": {},
   "outputs": [
    {
     "name": "stdout",
     "output_type": "stream",
     "text": [
      "True\n"
     ]
    }
   ],
   "source": [
    "print(20 > 19.5)"
   ]
  },
  {
   "cell_type": "code",
   "execution_count": 35,
   "id": "8588e59d",
   "metadata": {},
   "outputs": [
    {
     "name": "stdout",
     "output_type": "stream",
     "text": [
      "True\n"
     ]
    }
   ],
   "source": [
    "print(\"Python\" == \"Python\")"
   ]
  },
  {
   "cell_type": "code",
   "execution_count": 36,
   "id": "577c4fcf",
   "metadata": {},
   "outputs": [
    {
     "name": "stdout",
     "output_type": "stream",
     "text": [
      "False\n"
     ]
    }
   ],
   "source": [
    "print(\"Python\" == \"Elie\")"
   ]
  },
  {
   "cell_type": "code",
   "execution_count": 38,
   "id": "730123e2",
   "metadata": {},
   "outputs": [
    {
     "name": "stdout",
     "output_type": "stream",
     "text": [
      "False\n"
     ]
    }
   ],
   "source": [
    "print(\"Python\" != \"Python\")"
   ]
  },
  {
   "cell_type": "code",
   "execution_count": 40,
   "id": "69eaf630",
   "metadata": {},
   "outputs": [
    {
     "name": "stdout",
     "output_type": "stream",
     "text": [
      "Elie is a teenager.\n"
     ]
    }
   ],
   "source": [
    "student_name = \"Elie\"\n",
    "student_age = 19\n",
    "if (student_age >= 10) and (student_age < 20):\n",
    "  print(\"{} is a teenager.\".format(student_name))\n"
   ]
  },
  {
   "cell_type": "code",
   "execution_count": 41,
   "id": "21181b9a",
   "metadata": {},
   "outputs": [
    {
     "name": "stdout",
     "output_type": "stream",
     "text": [
      "Elie is an Adult\n"
     ]
    }
   ],
   "source": [
    "student_name = \"Elie\"\n",
    "student_age = 25\n",
    "if (student_age >= 10) and (student_age < 20):\n",
    "  print(\"{} is a teenager.\".format(student_name))\n",
    "else:   \n",
    "  print(\"{} is an Adult\".format(student_name))"
   ]
  },
  {
   "cell_type": "code",
   "execution_count": 42,
   "id": "6a554a32",
   "metadata": {},
   "outputs": [
    {
     "name": "stdout",
     "output_type": "stream",
     "text": [
      "Elie is over 15 or 20.\n"
     ]
    }
   ],
   "source": [
    "student_name = \"Elie\"\n",
    "student_age = 21\n",
    "if (student_age >= 15) or (student_age > 20):\n",
    "  print(\"{} is over 15 or 20.\".format(student_name))\n"
   ]
  },
  {
   "cell_type": "code",
   "execution_count": 46,
   "id": "392b983c",
   "metadata": {},
   "outputs": [
    {
     "name": "stdout",
     "output_type": "stream",
     "text": [
      "Elie is below  15 years\n"
     ]
    }
   ],
   "source": [
    "student_name = \"Elie\"\n",
    "student_age = 12\n",
    "if (student_age >= 15) or (student_age > 20):\n",
    "  print(\"{} is over 15 or 20.\".format(student_name))\n",
    "else:   \n",
    "  print(\"{} is below  15 years\".format(student_name))"
   ]
  },
  {
   "cell_type": "code",
   "execution_count": 71,
   "id": "d41951b2",
   "metadata": {},
   "outputs": [
    {
     "name": "stdout",
     "output_type": "stream",
     "text": [
      "Elie is below 20 years\n"
     ]
    }
   ],
   "source": [
    "no_judgment = False\n",
    "student_name = \"Elie\"\n",
    "student_age = 19\n",
    "\n",
    "if not(no_judgment):\n",
    "    if student_age < 20:\n",
    "        print(\"{} is below 20 years\".format(student_name))\n",
    "    else:\n",
    "        print(\"{} is above 20 years\".format(student_name))\n",
    "else:\n",
    "    print(\"age is not determined.\")\n",
    " "
   ]
  },
  {
   "cell_type": "code",
   "execution_count": 61,
   "id": "5741ba73",
   "metadata": {},
   "outputs": [
    {
     "name": "stdout",
     "output_type": "stream",
     "text": [
      "Alice is under 20 years old.\n"
     ]
    }
   ],
   "source": [
    "no_judgement = False\n",
    "student_name = \"Alice\"\n",
    "student_age = 19\n",
    "\n",
    "if not(no_judgement):\n",
    "  if student_age < 20:\n",
    "    print(\"{} is under 20 years old.\".format(student_name))\n",
    "  else:\n",
    "    print(\"{} is over 20 years old.\".format(student_name))\n",
    "else:\n",
    "  print(\"Age is not determined.\")"
   ]
  },
  {
   "cell_type": "code",
   "execution_count": 72,
   "id": "cd8820c5",
   "metadata": {},
   "outputs": [
    {
     "name": "stdout",
     "output_type": "stream",
     "text": [
      "Elie is above 20 years\n"
     ]
    }
   ],
   "source": [
    "no_judgment = False\n",
    "student_name = \"Elie\"\n",
    "student_age = 23\n",
    "\n",
    "if not(no_judgment):\n",
    "    if student_age < 20:\n",
    "        print(\"{} is below 20 years\".format(student_name))\n",
    "    else:\n",
    "        print(\"{} is above 20 years\".format(student_name))\n",
    "else:\n",
    "    print(\"age is not determined.\")"
   ]
  },
  {
   "cell_type": "code",
   "execution_count": 73,
   "id": "499dee30",
   "metadata": {},
   "outputs": [
    {
     "name": "stdout",
     "output_type": "stream",
     "text": [
      "Elie is below 20 years\n"
     ]
    }
   ],
   "source": [
    "no_judgment = False\n",
    "student_name = \"Elie\"\n",
    "student_age = 0\n",
    "\n",
    "if not(no_judgment):\n",
    "    if student_age < 20:\n",
    "        print(\"{} is below 20 years\".format(student_name))\n",
    "    else:\n",
    "        print(\"{} is above 20 years\".format(student_name))\n",
    "else:\n",
    "    print(\"age is not determined.\")"
   ]
  },
  {
   "cell_type": "code",
   "execution_count": 74,
   "id": "40068942",
   "metadata": {},
   "outputs": [
    {
     "name": "stdout",
     "output_type": "stream",
     "text": [
      "Elie is above 20 years\n"
     ]
    }
   ],
   "source": [
    "no_judgment = False\n",
    "student_name = \"Elie\"\n",
    "student_age = 20\n",
    "\n",
    "if not(no_judgment):\n",
    "    if student_age < 20:\n",
    "        print(\"{} is below 20 years\".format(student_name))\n",
    "    else:\n",
    "        print(\"{} is above 20 years\".format(student_name))\n",
    "else:\n",
    "    print(\"age is not determined.\")"
   ]
  },
  {
   "cell_type": "code",
   "execution_count": 75,
   "id": "11f1d054",
   "metadata": {},
   "outputs": [
    {
     "name": "stdout",
     "output_type": "stream",
     "text": [
      "Elie is below 20 years\n"
     ]
    }
   ],
   "source": [
    "no_judgment = False\n",
    "student_name = \"Elie\"\n",
    "student_age = -19\n",
    "\n",
    "if not(no_judgment):\n",
    "    if student_age < 20:\n",
    "        print(\"{} is below 20 years\".format(student_name))\n",
    "    else:\n",
    "        print(\"{} is above 20 years\".format(student_name))\n",
    "else:\n",
    "    print(\"age is not determined.\")"
   ]
  },
  {
   "cell_type": "code",
   "execution_count": 76,
   "id": "90122522",
   "metadata": {},
   "outputs": [
    {
     "name": "stdout",
     "output_type": "stream",
     "text": [
      "Elie is below 20 years\n"
     ]
    }
   ],
   "source": [
    "no_judgment = False\n",
    "student_name = \"Elie\"\n",
    "student_age = 19\n",
    "\n",
    "if not no_judgment:\n",
    "    if student_age < 20:\n",
    "        print(\"{} is below 20 years\".format(student_name))\n",
    "    else:\n",
    "        print(\"{} is above 20 years\".format(student_name))\n",
    "else:\n",
    "    print(\"age is not determined.\")"
   ]
  },
  {
   "cell_type": "code",
   "execution_count": 1,
   "id": "7335452f",
   "metadata": {},
   "outputs": [
    {
     "name": "stdout",
     "output_type": "stream",
     "text": [
      "Elie is above the age of 20\n"
     ]
    }
   ],
   "source": [
    "ADULT_AGE= 20\n",
    "\n",
    "student_name = \"Elie\"\n",
    "student_age = 15\n",
    "if (student_age > ADULT_AGE):\n",
    "  print(\"{} is under the age of {}.\".format(student_name, ADULT_AGE))\n",
    "else:\n",
    "    print(\"{} is above the age of {}\".format(student_name, ADULT_AGE))"
   ]
  },
  {
   "cell_type": "code",
   "execution_count": 3,
   "id": "3f27788d",
   "metadata": {
    "scrolled": true
   },
   "outputs": [
    {
     "name": "stdout",
     "output_type": "stream",
     "text": [
      "0\n",
      "1\n",
      "2\n",
      "3\n",
      "4\n",
      "5\n",
      "6\n",
      "7\n",
      "8\n",
      "9\n"
     ]
    }
   ],
   "source": [
    "numbers = [0, 1, 2, 3, 4, 5, 6, 7, 8, 9,]\n",
    "for number in numbers:\n",
    "    print(number)"
   ]
  },
  {
   "cell_type": "code",
   "execution_count": 4,
   "id": "8dfecc74",
   "metadata": {},
   "outputs": [
    {
     "name": "stdout",
     "output_type": "stream",
     "text": [
      "0\n",
      "1\n",
      "2\n",
      "3\n",
      "4\n",
      "5\n",
      "6\n",
      "7\n",
      "8\n",
      "9\n"
     ]
    }
   ],
   "source": [
    "numbers = [0, 1, 2, 3, 4, 5, 6, 7, 8, 9,]\n",
    "for num in numbers:\n",
    "    print(num)"
   ]
  },
  {
   "cell_type": "code",
   "execution_count": 5,
   "id": "fcba10f1",
   "metadata": {},
   "outputs": [
    {
     "name": "stdout",
     "output_type": "stream",
     "text": [
      "A081\n",
      "A114\n",
      "A186\n"
     ]
    }
   ],
   "source": [
    "user_ids = (\"A081\", \"A114\", \"A186\")\n",
    "for user_id in user_ids: \n",
    "     print(user_id)  "
   ]
  },
  {
   "cell_type": "code",
   "execution_count": 6,
   "id": "48261644",
   "metadata": {},
   "outputs": [
    {
     "name": "stdout",
     "output_type": "stream",
     "text": [
      "P\n",
      "y\n",
      "t\n",
      "h\n",
      "o\n",
      "n\n"
     ]
    }
   ],
   "source": [
    "text = \"Python\"\n",
    "for character in text:\n",
    "  print(character)"
   ]
  },
  {
   "cell_type": "code",
   "execution_count": 7,
   "id": "136f2143",
   "metadata": {},
   "outputs": [
    {
     "name": "stdout",
     "output_type": "stream",
     "text": [
      "cookies\n",
      "buns\n",
      "puff\n"
     ]
    }
   ],
   "source": [
    "snacks= (\"cookies\", \"buns\", \"puff\")\n",
    "for snack in snacks:\n",
    "    print(snack)"
   ]
  },
  {
   "cell_type": "code",
   "execution_count": 8,
   "id": "91f4da98",
   "metadata": {},
   "outputs": [
    {
     "name": "stdout",
     "output_type": "stream",
     "text": [
      "0\n",
      "1\n",
      "2\n",
      "3\n",
      "4\n",
      "5\n",
      "6\n",
      "7\n",
      "8\n",
      "9\n"
     ]
    }
   ],
   "source": [
    "for i in range(10):\n",
    " print(i)\n"
   ]
  },
  {
   "cell_type": "code",
   "execution_count": 10,
   "id": "c5a000ed",
   "metadata": {
    "scrolled": true
   },
   "outputs": [
    {
     "name": "stdout",
     "output_type": "stream",
     "text": [
      "range(0, 10)\n",
      "[0, 1, 2, 3, 4, 5, 6, 7, 8, 9]\n"
     ]
    }
   ],
   "source": [
    "print (range(10))\n",
    "print(list(range(10)))"
   ]
  },
  {
   "cell_type": "code",
   "execution_count": 11,
   "id": "7bfad995",
   "metadata": {},
   "outputs": [
    {
     "name": "stdout",
     "output_type": "stream",
     "text": [
      "range(0, 12)\n",
      "[0, 1, 2, 3, 4, 5, 6, 7, 8, 9, 10, 11]\n"
     ]
    }
   ],
   "source": [
    "print (range(12))\n",
    "print(list(range(12)))"
   ]
  },
  {
   "cell_type": "code",
   "execution_count": 12,
   "id": "e3d4da86",
   "metadata": {
    "scrolled": true
   },
   "outputs": [
    {
     "name": "stdout",
     "output_type": "stream",
     "text": [
      "5\n",
      "6\n",
      "7\n",
      "8\n",
      "9\n"
     ]
    }
   ],
   "source": [
    "for i in range(5, 10):\n",
    "  print(i)"
   ]
  },
  {
   "cell_type": "code",
   "execution_count": 13,
   "id": "5a9b5b9a",
   "metadata": {},
   "outputs": [
    {
     "name": "stdout",
     "output_type": "stream",
     "text": [
      "5\n",
      "7\n",
      "9\n"
     ]
    }
   ],
   "source": [
    "for i in range(5, 10, 2):\n",
    "  print(i)"
   ]
  },
  {
   "cell_type": "code",
   "execution_count": 14,
   "id": "f39a6137",
   "metadata": {},
   "outputs": [
    {
     "name": "stdout",
     "output_type": "stream",
     "text": [
      "9\n",
      "8\n",
      "7\n",
      "6\n",
      "5\n",
      "4\n",
      "3\n",
      "2\n",
      "1\n",
      "0\n"
     ]
    }
   ],
   "source": [
    "for i in range(9, -1, -1):\n",
    "  print(i)"
   ]
  },
  {
   "cell_type": "code",
   "execution_count": 16,
   "id": "903fe80a",
   "metadata": {},
   "outputs": [
    {
     "name": "stdout",
     "output_type": "stream",
     "text": [
      "12\n",
      "11\n",
      "10\n",
      "9\n",
      "8\n",
      "7\n",
      "6\n",
      "5\n",
      "4\n",
      "3\n",
      "2\n",
      "1\n",
      "0\n"
     ]
    }
   ],
   "source": [
    "for i in range(12, -1, -1,):\n",
    "   print(i)  "
   ]
  },
  {
   "cell_type": "code",
   "execution_count": 17,
   "id": "61bee172",
   "metadata": {},
   "outputs": [
    {
     "name": "stdout",
     "output_type": "stream",
     "text": [
      "9\n",
      "8\n",
      "7\n",
      "6\n",
      "5\n",
      "4\n",
      "3\n",
      "2\n",
      "1\n",
      "0\n"
     ]
    }
   ],
   "source": [
    "for i in reversed (range(10)):\n",
    "   print(i)  "
   ]
  },
  {
   "cell_type": "code",
   "execution_count": 22,
   "id": "30d82e6c",
   "metadata": {},
   "outputs": [
    {
     "name": "stdout",
     "output_type": "stream",
     "text": [
      "the average monthly temperature is 1\n",
      "the average monthly temperature is 2\n",
      "the average monthly temperature is 3\n",
      "the average monthly temperature is 4\n",
      "the average monthly temperature is 5\n",
      "the average monthly temperature is 6\n",
      "the average monthly temperature is 7\n",
      "the average monthly temperature is 8\n",
      "the average monthly temperature is 9\n",
      "the average monthly temperature is 10\n",
      "the average monthly temperature is 11\n",
      "the average monthly temperature is 12\n"
     ]
    }
   ],
   "source": [
    "monthly_average_temperatures = [6, 7, 9, 15, 20, 22, 27, 26, 23, 17, 12, 7]\n",
    "for i in range(len(monthly_average_temperatures)):\n",
    " print(\"the average monthly temperature is {}\".format(i+1, monthly_average_temperatures ))"
   ]
  },
  {
   "cell_type": "code",
   "execution_count": 23,
   "id": "a182fec7",
   "metadata": {},
   "outputs": [
    {
     "name": "stdout",
     "output_type": "stream",
     "text": [
      "The average monthly temperature is 1 degrees.\n",
      "The average monthly temperature is 2 degrees.\n",
      "The average monthly temperature is 3 degrees.\n",
      "The average monthly temperature is 4 degrees.\n",
      "The average monthly temperature is 5 degrees.\n",
      "The average monthly temperature is 6 degrees.\n",
      "The average monthly temperature is 7 degrees.\n",
      "The average monthly temperature is 8 degrees.\n",
      "The average monthly temperature is 9 degrees.\n",
      "The average monthly temperature is 10 degrees.\n",
      "The average monthly temperature is 11 degrees.\n",
      "The average monthly temperature is 12 degrees.\n"
     ]
    }
   ],
   "source": [
    "monthly_average_temperatures = [6, 7, 9, 15, 20, 22, 27, 26, 23, 17, 12, 7]\n",
    "for i in range(len(monthly_average_temperatures)):\n",
    "  print(\"The average monthly temperature is {} degrees.\".format(i+1, monthly_average_temperatures[i]))"
   ]
  },
  {
   "cell_type": "code",
   "execution_count": 26,
   "id": "1e8af2f9",
   "metadata": {},
   "outputs": [
    {
     "name": "stdout",
     "output_type": "stream",
     "text": [
      "The monthly average temperature is 1 degrees.\n",
      "The monthly average temperature is 2 degrees.\n",
      "The monthly average temperature is 3 degrees.\n",
      "The monthly average temperature is 4 degrees.\n",
      "The monthly average temperature is 5 degrees.\n",
      "The monthly average temperature is 6 degrees.\n",
      "The monthly average temperature is 7 degrees.\n",
      "The monthly average temperature is 8 degrees.\n",
      "The monthly average temperature is 9 degrees.\n",
      "The monthly average temperature is 10 degrees.\n",
      "The monthly average temperature is 11 degrees.\n",
      "The monthly average temperature is 12 degrees.\n"
     ]
    }
   ],
   "source": [
    "monthly_average_temperatures = [6, 7, 9, 15, 20, 22, 27, 26, 23, 17, 12, 7]\n",
    "for i, temperature in enumerate(monthly_average_temperatures):\n",
    " print(\"The monthly average temperature is {} degrees.\".format(i+1, temperature))"
   ]
  },
  {
   "cell_type": "code",
   "execution_count": 27,
   "id": "e76cb6fd",
   "metadata": {},
   "outputs": [
    {
     "name": "stdout",
     "output_type": "stream",
     "text": [
      "The monthly average temperature is1 degrees.\n",
      "The monthly average temperature is2 degrees.\n",
      "The monthly average temperature is3 degrees.\n",
      "The monthly average temperature is4 degrees.\n",
      "The monthly average temperature is5 degrees.\n",
      "The monthly average temperature is6 degrees.\n",
      "The monthly average temperature is7 degrees.\n",
      "The monthly average temperature is8 degrees.\n",
      "The monthly average temperature is9 degrees.\n",
      "The monthly average temperature is10 degrees.\n",
      "The monthly average temperature is11 degrees.\n",
      "The monthly average temperature is12 degrees.\n"
     ]
    }
   ],
   "source": [
    "MONTH_NUMBERS = list(range(1,13))\n",
    "\n",
    "monthly_average_temperatures = [6, 7, 9, 15, 20, 22, 27, 26, 23, 17, 12, 7]\n",
    "for month_number, temperatures in zip(MONTH_NUMBERS,monthly_average_temperatures):\n",
    "    print(\"The monthly average temperature is{} degrees.\".format(month_number,temperature ))"
   ]
  },
  {
   "cell_type": "code",
   "execution_count": 28,
   "id": "d0645438",
   "metadata": {
    "scrolled": true
   },
   "outputs": [
    {
     "name": "stdout",
     "output_type": "stream",
     "text": [
      "0\n",
      "3\n",
      "6\n",
      "9\n"
     ]
    }
   ],
   "source": [
    "num = 0\n",
    "while num < 10:\n",
    "  print(num)\n",
    "  num += 3"
   ]
  },
  {
   "cell_type": "code",
   "execution_count": 30,
   "id": "5331a2e0",
   "metadata": {},
   "outputs": [],
   "source": [
    "def print_hello_world():\n",
    "    print(\"hello, world\")"
   ]
  },
  {
   "cell_type": "code",
   "execution_count": 32,
   "id": "9f31860e",
   "metadata": {},
   "outputs": [
    {
     "name": "stdout",
     "output_type": "stream",
     "text": [
      "hello, world\n"
     ]
    }
   ],
   "source": [
    " print_hello_world()"
   ]
  },
  {
   "cell_type": "code",
   "execution_count": 1,
   "id": "69cb41df",
   "metadata": {},
   "outputs": [],
   "source": [
    "def print_Hi_Elie():\n",
    "    print(\"Hi, Elie !\")"
   ]
  },
  {
   "cell_type": "code",
   "execution_count": 3,
   "id": "c5cabe26",
   "metadata": {},
   "outputs": [
    {
     "name": "stdout",
     "output_type": "stream",
     "text": [
      "Hi, Elie !\n"
     ]
    }
   ],
   "source": [
    "print_Hi_Elie()"
   ]
  },
  {
   "cell_type": "code",
   "execution_count": 9,
   "id": "4f696a07",
   "metadata": {},
   "outputs": [
    {
     "name": "stdout",
     "output_type": "stream",
     "text": [
      "hello, python !\n"
     ]
    }
   ],
   "source": [
    "def print_hello_something(something):\n",
    "    print(\"hello, {} !\".format(something))\n",
    "    \n",
    "print_hello_something(\"python\")"
   ]
  },
  {
   "cell_type": "code",
   "execution_count": 10,
   "id": "94e9b332",
   "metadata": {},
   "outputs": [
    {
     "name": "stdout",
     "output_type": "stream",
     "text": [
      "hello, python !\n"
     ]
    }
   ],
   "source": [
    "print_hello_something(\"python\")"
   ]
  },
  {
   "cell_type": "code",
   "execution_count": 11,
   "id": "0ee5f664",
   "metadata": {},
   "outputs": [
    {
     "name": "stdout",
     "output_type": "stream",
     "text": [
      "hello, {} ! python\n"
     ]
    }
   ],
   "source": [
    "def print_hello_something (something):\n",
    "    print(\"hello, {} !\",format(something))\n",
    "    \n",
    "print_hello_something(\"python\")"
   ]
  },
  {
   "cell_type": "code",
   "execution_count": 12,
   "id": "c866175a",
   "metadata": {},
   "outputs": [
    {
     "name": "stdout",
     "output_type": "stream",
     "text": [
      "hello, {} ! python\n"
     ]
    }
   ],
   "source": [
    "print_hello_something(\"python\")"
   ]
  },
  {
   "cell_type": "code",
   "execution_count": 17,
   "id": "999f24c4",
   "metadata": {},
   "outputs": [
    {
     "name": "stdout",
     "output_type": "stream",
     "text": [
      "hi, Elie!\n"
     ]
    }
   ],
   "source": [
    "def print_hi_something(something):\n",
    "    print(\"hi, {}!\".format(something))\n",
    "\n",
    "print_hi_something(\"Elie\")"
   ]
  },
  {
   "cell_type": "code",
   "execution_count": 18,
   "id": "1707d283",
   "metadata": {},
   "outputs": [],
   "source": [
    "def print_hi_something(something):\n",
    "    print(\"hi, {}!\".format(something))\n",
    "\n",
    "    print_hi_something(\"Elie\")"
   ]
  },
  {
   "cell_type": "code",
   "execution_count": 22,
   "id": "c97be3ff",
   "metadata": {},
   "outputs": [
    {
     "name": "stdout",
     "output_type": "stream",
     "text": [
      "hi, Elie?\n"
     ]
    }
   ],
   "source": [
    "def print_hi_something(something, end):\n",
    "    print(\"hi, {}{}\".format(something, end))\n",
    "\n",
    "print_hi_something(\"Elie\", \"?\")"
   ]
  },
  {
   "cell_type": "code",
   "execution_count": 27,
   "id": "387b7f36",
   "metadata": {},
   "outputs": [
    {
     "name": "stdout",
     "output_type": "stream",
     "text": [
      "hi, Elie how are you!\n",
      "hi, Elie how are you?\n"
     ]
    }
   ],
   "source": [
    "def print_hi_something_how_are_you(something, end = \"!\"):\n",
    "    print(\"hi, {} how are you{}\".format(something, end))\n",
    "    \n",
    "print_hi_something_how_are_you(\"Elie\")\n",
    "print_hi_something_how_are_you(\"Elie\", end = \"?\") "
   ]
  },
  {
   "cell_type": "code",
   "execution_count": 28,
   "id": "54520be5",
   "metadata": {},
   "outputs": [
    {
     "data": {
      "text/plain": [
       "'hi, Elie how are you!!'"
      ]
     },
     "execution_count": 28,
     "metadata": {},
     "output_type": "execute_result"
    }
   ],
   "source": [
    "def print_hi_something_how_are_you(something, end = \"!\"):\n",
    "    return \"hi, {} how are you{}\".format(something, end)\n",
    "\n",
    "print_hi_something_how_are_you(\"Elie\", end = \"!!\")    "
   ]
  },
  {
   "cell_type": "code",
   "execution_count": 34,
   "id": "167528ed",
   "metadata": {},
   "outputs": [
    {
     "name": "stdout",
     "output_type": "stream",
     "text": [
      "30\n",
      "14\n",
      "-60\n"
     ]
    }
   ],
   "source": [
    "def sample_function(x, y):\n",
    " answer = ((x+y)*2)\n",
    " return answer \n",
    "\n",
    "print(sample_function(10,5))\n",
    "print(sample_function(3,4))\n",
    "print(sample_function(-20,-10))      "
   ]
  },
  {
   "cell_type": "code",
   "execution_count": 35,
   "id": "cbdbc04d",
   "metadata": {},
   "outputs": [
    {
     "name": "stdout",
     "output_type": "stream",
     "text": [
      "Alice is Under the age of 20\n"
     ]
    }
   ],
   "source": [
    "ADULT_AGE = 20 # Adult age\n",
    "\n",
    "def text_adult_age(personal_age, adult_age = 20):\n",
    "  \"\"\"\n",
    "  Returns a string indicating whether or not you are over the adult age.\n",
    "\n",
    "  Parameters:\n",
    "  ------------\n",
    "  personal_age : int\n",
    "    Age of the person you want to judge\n",
    "  adult_age : int (default : 20)\n",
    "    Adult age. 20 years old by default.\n",
    "\n",
    "  Returns:\n",
    "  ------------\n",
    "  str\n",
    "    string greater than or equal to adult_age and less than\n",
    "  \"\"\"\n",
    "  if personal_age > adult_age:\n",
    "    return \"Over the age of {}\".format(adult_age)\n",
    "  else:\n",
    "    return \"Under the age of {}\".format(adult_age)\n",
    "\n",
    "# Student information\n",
    "student_name = \"Alice\"\n",
    "student_age = 19\n",
    "\n",
    "print(\"{} is {}\".format(student_name, text_adult_age(student_age, adult_age = ADULT_AGE)))"
   ]
  },
  {
   "cell_type": "code",
   "execution_count": 1,
   "id": "2ff75b2d",
   "metadata": {},
   "outputs": [
    {
     "name": "stdout",
     "output_type": "stream",
     "text": [
      "Thickness: 0.00016 meters\n"
     ]
    }
   ],
   "source": [
    "# Code to calculate the thickness when the paper is folded once\n",
    "\n",
    "THICKNESS = 0.00008\n",
    "\n",
    "folded_thickness = THICKNESS * 2\n",
    "\n",
    "print(\"Thickness: {} meters\".format(folded_thickness))"
   ]
  },
  {
   "cell_type": "code",
   "execution_count": 2,
   "id": "f48fda17",
   "metadata": {},
   "outputs": [],
   "source": [
    "import time\n",
    "import matplotlib.pyplot as plt\n",
    "# Code to calculate the thickness when the paper is folded once\n",
    "\n",
    "def paperFold(numOfFolds):\n",
    "    THICKNESS = 0.00008\n",
    "\n",
    "    folded_thickness = THICKNESS * (2**43)\n",
    "\n",
    "    print(f\"Thickness: {round(folded_thickness/1000, 2)} Km\")\n",
    "\n",
    "\n",
    "def paperFoldLoop(numOfFolds):\n",
    "    THICKNESS = 8e-5\n",
    "    operand = 1\n",
    "    for x in range(numOfFolds):\n",
    "        operand *= 2\n",
    "    folded_thickness = THICKNESS * operand\n",
    "    print(f\"Thickness: {round(folded_thickness/1000, 2)} Km\")"
   ]
  },
  {
   "cell_type": "code",
   "execution_count": 3,
   "id": "5e19ecdc",
   "metadata": {},
   "outputs": [
    {
     "name": "stdout",
     "output_type": "stream",
     "text": [
      "Thickness:  0.00 kilometers\n"
     ]
    }
   ],
   "source": [
    "# Convert meters to kilometers and display with two decimal places\n",
    "print(\"Thickness: {: .2f} kilometers\".format(folded_thickness / 1000))"
   ]
  },
  {
   "cell_type": "code",
   "execution_count": 4,
   "id": "700ed7ba",
   "metadata": {},
   "outputs": [
    {
     "ename": "ModuleNotFoundError",
     "evalue": "No module named 'matplorlib'",
     "output_type": "error",
     "traceback": [
      "\u001b[1;31m---------------------------------------------------------------------------\u001b[0m",
      "\u001b[1;31mModuleNotFoundError\u001b[0m                       Traceback (most recent call last)",
      "Cell \u001b[1;32mIn[4], line 2\u001b[0m\n\u001b[0;32m      1\u001b[0m \u001b[38;5;28;01mimport\u001b[39;00m \u001b[38;5;21;01mtime\u001b[39;00m \n\u001b[1;32m----> 2\u001b[0m \u001b[38;5;28;01mimport\u001b[39;00m \u001b[38;5;21;01mmatplorlib\u001b[39;00m\u001b[38;5;21;01m.\u001b[39;00m\u001b[38;5;21;01mpyplot\u001b[39;00m \u001b[38;5;28;01mas\u001b[39;00m \u001b[38;5;21;01mplt\u001b[39;00m\n",
      "\u001b[1;31mModuleNotFoundError\u001b[0m: No module named 'matplorlib'"
     ]
    }
   ],
   "source": [
    "import time \n",
    "import matplorlib.pyplot as plt\n",
    "# code to calculate the thickness when the paper is folded once\n",
    "\n",
    "def paperfold(numOfFolds):\n",
    "    THICKNESS = 0.00008\n",
    "    operand = 1\n",
    "    for x in range (numOfFolds):\n",
    "        folded_thickness= THICKNESS*operand\n",
    "        print(f\"thickness:{round(folded_thickness/1000, 2)} km\")"
   ]
  },
  {
   "cell_type": "code",
   "execution_count": null,
   "id": "07423a94-51f2-4a48-ba97-988bbaa770b0",
   "metadata": {},
   "outputs": [],
   "source": []
  },
  {
   "cell_type": "code",
   "execution_count": 5,
   "id": "d6e61541",
   "metadata": {},
   "outputs": [
    {
     "ename": "SyntaxError",
     "evalue": "invalid syntax (2825935170.py, line 1)",
     "output_type": "error",
     "traceback": [
      "\u001b[1;36m  Cell \u001b[1;32mIn[5], line 1\u001b[1;36m\u001b[0m\n\u001b[1;33m    python -m pip install -U pip\u001b[0m\n\u001b[1;37m              ^\u001b[0m\n\u001b[1;31mSyntaxError\u001b[0m\u001b[1;31m:\u001b[0m invalid syntax\n"
     ]
    }
   ],
   "source": [
    "python -m pip install -U pip\n",
    "python -m pip install -U matplotlib"
   ]
  },
  {
   "cell_type": "code",
   "execution_count": 4,
   "id": "53e681a1",
   "metadata": {},
   "outputs": [
    {
     "data": {
      "text/plain": [
       "array([1, 2, 3])"
      ]
     },
     "execution_count": 4,
     "metadata": {},
     "output_type": "execute_result"
    }
   ],
   "source": [
    "import numpy as np\n",
    "\n",
    "a= np.array ([1,2,3])\n",
    "a"
   ]
  },
  {
   "cell_type": "code",
   "execution_count": 3,
   "id": "5cbe0a41-c2b8-4b07-9cde-fb82180b2717",
   "metadata": {},
   "outputs": [
    {
     "name": "stdout",
     "output_type": "stream",
     "text": [
      "[1 2 3]\n"
     ]
    }
   ],
   "source": [
    "import numpy as np\n",
    "\n",
    "a= np.array ([1,2,3])\n",
    "print (a)"
   ]
  },
  {
   "cell_type": "code",
   "execution_count": 7,
   "id": "e63843d2-8f95-4adb-a401-524bc13d756d",
   "metadata": {},
   "outputs": [
    {
     "data": {
      "text/plain": [
       "numpy.ndarray"
      ]
     },
     "execution_count": 7,
     "metadata": {},
     "output_type": "execute_result"
    }
   ],
   "source": [
    "type(a)"
   ]
  },
  {
   "cell_type": "code",
   "execution_count": 8,
   "id": "399a718e-46be-4761-b14d-bbe8b975f847",
   "metadata": {},
   "outputs": [
    {
     "data": {
      "text/plain": [
       "(3,)"
      ]
     },
     "execution_count": 8,
     "metadata": {},
     "output_type": "execute_result"
    }
   ],
   "source": [
    "a.shape"
   ]
  },
  {
   "cell_type": "code",
   "execution_count": 9,
   "id": "59c58db7-4210-4d4d-bbab-32da30c21f41",
   "metadata": {},
   "outputs": [
    {
     "data": {
      "text/plain": [
       "1"
      ]
     },
     "execution_count": 9,
     "metadata": {},
     "output_type": "execute_result"
    }
   ],
   "source": [
    "a.ndim"
   ]
  },
  {
   "cell_type": "code",
   "execution_count": 15,
   "id": "c45b2b33-bcc0-4b46-a8dc-04fe180c7e6d",
   "metadata": {},
   "outputs": [],
   "source": [
    "b=np.array([[1, 2, 3], [4, 5, 6]])"
   ]
  },
  {
   "cell_type": "code",
   "execution_count": 16,
   "id": "95c8f5ea-45e2-4fde-991d-8f81960fb90f",
   "metadata": {},
   "outputs": [
    {
     "data": {
      "text/plain": [
       "array([[1, 2, 3],\n",
       "       [4, 5, 6]])"
      ]
     },
     "execution_count": 16,
     "metadata": {},
     "output_type": "execute_result"
    }
   ],
   "source": [
    "b"
   ]
  },
  {
   "cell_type": "code",
   "execution_count": 17,
   "id": "1caad8c1-9112-4680-8799-75bd754603fa",
   "metadata": {},
   "outputs": [
    {
     "name": "stdout",
     "output_type": "stream",
     "text": [
      "[[1 2 3]\n",
      " [4 5 6]]\n"
     ]
    }
   ],
   "source": [
    "print(b)"
   ]
  },
  {
   "cell_type": "code",
   "execution_count": 19,
   "id": "7a7efb58-7419-4a92-af05-a81a9bae4a88",
   "metadata": {},
   "outputs": [
    {
     "data": {
      "text/plain": [
       "(2, 3)"
      ]
     },
     "execution_count": 19,
     "metadata": {},
     "output_type": "execute_result"
    }
   ],
   "source": [
    "b.shape\n"
   ]
  },
  {
   "cell_type": "code",
   "execution_count": 20,
   "id": "1b52abfa-260c-4a7c-b3ab-75d3485cc8ba",
   "metadata": {},
   "outputs": [
    {
     "data": {
      "text/plain": [
       "2"
      ]
     },
     "execution_count": 20,
     "metadata": {},
     "output_type": "execute_result"
    }
   ],
   "source": [
    "b.ndim"
   ]
  },
  {
   "cell_type": "code",
   "execution_count": 22,
   "id": "a4dffc58-27f6-4b1a-8800-e20f13ae9e6a",
   "metadata": {},
   "outputs": [],
   "source": [
    "a = np.array([1, 2, 3])\n",
    "b = np.array([[1, 2, 3], [4, 5, 6]])"
   ]
  },
  {
   "cell_type": "code",
   "execution_count": 24,
   "id": "faf6821b-e5fb-48d1-8f95-408e0b8dc5da",
   "metadata": {},
   "outputs": [
    {
     "data": {
      "text/plain": [
       "1"
      ]
     },
     "execution_count": 24,
     "metadata": {},
     "output_type": "execute_result"
    }
   ],
   "source": [
    "a[0]"
   ]
  },
  {
   "cell_type": "code",
   "execution_count": 25,
   "id": "4f17afb0-3d1e-49e7-bc1b-d783fe89bb57",
   "metadata": {},
   "outputs": [
    {
     "data": {
      "text/plain": [
       "3"
      ]
     },
     "execution_count": 25,
     "metadata": {},
     "output_type": "execute_result"
    }
   ],
   "source": [
    "a[2]"
   ]
  },
  {
   "cell_type": "code",
   "execution_count": 27,
   "id": "7d320500-3d37-4b8e-b233-fb2ab7caf553",
   "metadata": {},
   "outputs": [
    {
     "data": {
      "text/plain": [
       "3"
      ]
     },
     "execution_count": 27,
     "metadata": {},
     "output_type": "execute_result"
    }
   ],
   "source": [
    "a[-1]"
   ]
  },
  {
   "cell_type": "code",
   "execution_count": 28,
   "id": "7138f178-293a-4461-bbdc-9388e84fb647",
   "metadata": {},
   "outputs": [
    {
     "data": {
      "text/plain": [
       "array([4, 5, 6])"
      ]
     },
     "execution_count": 28,
     "metadata": {},
     "output_type": "execute_result"
    }
   ],
   "source": [
    "b[-1]"
   ]
  },
  {
   "cell_type": "code",
   "execution_count": 29,
   "id": "e023d11b-24e1-4bc4-976a-16d44eeb36ea",
   "metadata": {},
   "outputs": [
    {
     "data": {
      "text/plain": [
       "6"
      ]
     },
     "execution_count": 29,
     "metadata": {},
     "output_type": "execute_result"
    }
   ],
   "source": [
    "b[1, -1]"
   ]
  },
  {
   "cell_type": "code",
   "execution_count": 31,
   "id": "8c5ffb7e-8f7f-49e8-9ac1-f887f098f558",
   "metadata": {},
   "outputs": [
    {
     "data": {
      "text/plain": [
       "4"
      ]
     },
     "execution_count": 31,
     "metadata": {},
     "output_type": "execute_result"
    }
   ],
   "source": [
    "b[1, 0]"
   ]
  },
  {
   "cell_type": "code",
   "execution_count": 32,
   "id": "caff8d8c-0a56-4262-8bbd-5aae71473b06",
   "metadata": {},
   "outputs": [
    {
     "data": {
      "text/plain": [
       "1"
      ]
     },
     "execution_count": 32,
     "metadata": {},
     "output_type": "execute_result"
    }
   ],
   "source": [
    "b[0,0]"
   ]
  },
  {
   "cell_type": "code",
   "execution_count": 33,
   "id": "e9fa9096-68ad-47a1-b762-7c749b58f6c9",
   "metadata": {},
   "outputs": [
    {
     "data": {
      "text/plain": [
       "3"
      ]
     },
     "execution_count": 33,
     "metadata": {},
     "output_type": "execute_result"
    }
   ],
   "source": [
    "b[0, -1]"
   ]
  },
  {
   "cell_type": "code",
   "execution_count": 34,
   "id": "9cdf82ac-15e9-47eb-a830-3341e69811c2",
   "metadata": {},
   "outputs": [
    {
     "data": {
      "text/plain": [
       "(array([1, 2, 3]), array([2, 4]))"
      ]
     },
     "execution_count": 34,
     "metadata": {},
     "output_type": "execute_result"
    }
   ],
   "source": [
    "a,b[[0, 1], [1, 0]]"
   ]
  },
  {
   "cell_type": "code",
   "execution_count": 4,
   "id": "547667f7-d12c-4da1-9717-48a50ff62002",
   "metadata": {},
   "outputs": [],
   "source": [
    "a = np.array([1, 2, 3])\n",
    "b = np.array([[1, 2, 3], [4, 5, 6]])\n"
   ]
  },
  {
   "cell_type": "code",
   "execution_count": 5,
   "id": "09d0f95e-3d4d-43ed-8547-f61059828656",
   "metadata": {},
   "outputs": [
    {
     "data": {
      "text/plain": [
       "array([2, 3])"
      ]
     },
     "execution_count": 5,
     "metadata": {},
     "output_type": "execute_result"
    }
   ],
   "source": [
    "a[1:]"
   ]
  },
  {
   "cell_type": "code",
   "execution_count": 6,
   "id": "b78731b3-2462-4b53-8668-44982d6292f3",
   "metadata": {},
   "outputs": [
    {
     "data": {
      "text/plain": [
       "array([1, 2, 3])"
      ]
     },
     "execution_count": 6,
     "metadata": {},
     "output_type": "execute_result"
    }
   ],
   "source": [
    "a[0:]"
   ]
  },
  {
   "cell_type": "code",
   "execution_count": 7,
   "id": "f5e658a4-c9b5-4453-82b8-35053b6d6031",
   "metadata": {},
   "outputs": [
    {
     "data": {
      "text/plain": [
       "array([3])"
      ]
     },
     "execution_count": 7,
     "metadata": {},
     "output_type": "execute_result"
    }
   ],
   "source": [
    "a[2:]"
   ]
  },
  {
   "cell_type": "code",
   "execution_count": 8,
   "id": "3f7aec3a-3c0b-45be-92ce-0db0b814b23d",
   "metadata": {},
   "outputs": [
    {
     "data": {
      "text/plain": [
       "array([4, 5, 6])"
      ]
     },
     "execution_count": 8,
     "metadata": {},
     "output_type": "execute_result"
    }
   ],
   "source": [
    "b[1, :]"
   ]
  },
  {
   "cell_type": "code",
   "execution_count": 9,
   "id": "4deb91dd-f871-4c33-baf1-efad7e55be9e",
   "metadata": {},
   "outputs": [
    {
     "data": {
      "text/plain": [
       "array([[1, 2, 3],\n",
       "       [4, 5, 6]])"
      ]
     },
     "execution_count": 9,
     "metadata": {},
     "output_type": "execute_result"
    }
   ],
   "source": [
    "b[0:]"
   ]
  },
  {
   "cell_type": "code",
   "execution_count": 10,
   "id": "f9fd297b-c76c-4b5e-b4fc-e135b5f49a3a",
   "metadata": {},
   "outputs": [
    {
     "data": {
      "text/plain": [
       "array([1, 2, 3])"
      ]
     },
     "execution_count": 10,
     "metadata": {},
     "output_type": "execute_result"
    }
   ],
   "source": [
    "b[0, :]"
   ]
  },
  {
   "cell_type": "code",
   "execution_count": 11,
   "id": "1296d193-5986-4222-bcf0-c4f1ea6bbb30",
   "metadata": {},
   "outputs": [],
   "source": [
    "a[0]= 7"
   ]
  },
  {
   "cell_type": "code",
   "execution_count": 12,
   "id": "c411d703-2b40-486b-a014-06cbd5a9c5fb",
   "metadata": {},
   "outputs": [
    {
     "data": {
      "text/plain": [
       "array([7, 2, 3])"
      ]
     },
     "execution_count": 12,
     "metadata": {},
     "output_type": "execute_result"
    }
   ],
   "source": [
    "a"
   ]
  },
  {
   "cell_type": "code",
   "execution_count": 13,
   "id": "d5cedfb4-978c-4753-8950-5532020de570",
   "metadata": {},
   "outputs": [],
   "source": [
    "b[:2]=7"
   ]
  },
  {
   "cell_type": "code",
   "execution_count": 14,
   "id": "f106c443-5932-452b-885c-5104d531f69d",
   "metadata": {},
   "outputs": [
    {
     "data": {
      "text/plain": [
       "array([[7, 7, 7],\n",
       "       [7, 7, 7]])"
      ]
     },
     "execution_count": 14,
     "metadata": {},
     "output_type": "execute_result"
    }
   ],
   "source": [
    "b"
   ]
  },
  {
   "cell_type": "code",
   "execution_count": 16,
   "id": "301aeb4a-b4e9-4aeb-b981-1b7534815e16",
   "metadata": {},
   "outputs": [],
   "source": [
    "b[0,1 ]=6"
   ]
  },
  {
   "cell_type": "code",
   "execution_count": 17,
   "id": "c9882fec-786c-4a9c-bb4b-057d97b62d78",
   "metadata": {},
   "outputs": [
    {
     "data": {
      "text/plain": [
       "array([[7, 6, 7],\n",
       "       [7, 7, 7]])"
      ]
     },
     "execution_count": 17,
     "metadata": {},
     "output_type": "execute_result"
    }
   ],
   "source": [
    "b"
   ]
  },
  {
   "cell_type": "code",
   "execution_count": 18,
   "id": "66be5cd1-b2eb-47ee-b626-4c8238800585",
   "metadata": {},
   "outputs": [],
   "source": [
    "b[:, 2]= 6"
   ]
  },
  {
   "cell_type": "code",
   "execution_count": 19,
   "id": "77e68f93-0775-4147-9e1a-175d03812b45",
   "metadata": {},
   "outputs": [
    {
     "data": {
      "text/plain": [
       "array([[7, 6, 6],\n",
       "       [7, 7, 6]])"
      ]
     },
     "execution_count": 19,
     "metadata": {},
     "output_type": "execute_result"
    }
   ],
   "source": [
    "b"
   ]
  },
  {
   "cell_type": "code",
   "execution_count": 20,
   "id": "dc566124-511d-4a91-943b-41a28cf15af3",
   "metadata": {},
   "outputs": [
    {
     "name": "stdout",
     "output_type": "stream",
     "text": [
      "[[7 6 6]\n",
      " [7 7 6]]\n"
     ]
    }
   ],
   "source": [
    "b[:, 2]= 6\n",
    "print(b)"
   ]
  },
  {
   "cell_type": "code",
   "execution_count": null,
   "id": "32891bf4-9b1f-4d1f-9463-f0c6321a8ce9",
   "metadata": {},
   "outputs": [],
   "source": []
  }
 ],
 "metadata": {
  "kernelspec": {
   "display_name": "Python 3 (ipykernel)",
   "language": "python",
   "name": "python3"
  },
  "language_info": {
   "codemirror_mode": {
    "name": "ipython",
    "version": 3
   },
   "file_extension": ".py",
   "mimetype": "text/x-python",
   "name": "python",
   "nbconvert_exporter": "python",
   "pygments_lexer": "ipython3",
   "version": "3.11.8"
  }
 },
 "nbformat": 4,
 "nbformat_minor": 5
}
