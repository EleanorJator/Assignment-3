{
 "cells": [
  {
   "cell_type": "code",
   "execution_count": 1,
   "id": "35473978",
   "metadata": {},
   "outputs": [],
   "source": [
    " # A program to calculate how long it would take for an object to occupy space if it doubles after every 5 minutes\n",
    "   \n",
    "def growth_time(object, space): \n",
    "    \n",
    "    x = 0\n",
    "    #run a loop to double the size of the object till it is equal or exceeds the size of the space\n",
    "    while True:\n",
    "        size = object * pow(2, x)\n",
    "        if size >= space:\n",
    "            break\n",
    "        x += 1\n",
    "       \n",
    "\n",
    "    # if an object doubles after every 5 minutes, the total time(t) it would take to occupy space equals the interval * number of times size doubles\n",
    "    timeTaken = 5 * x\n",
    "    return timeTaken"
   ]
  },
  {
   "cell_type": "code",
   "execution_count": 4,
   "id": "c0473dda",
   "metadata": {
    "scrolled": true
   },
   "outputs": [
    {
     "name": "stdout",
     "output_type": "stream",
     "text": [
      "It will take 4 hours and 45 minutes for the bun to occupy the universe\n"
     ]
    }
   ],
   "source": [
    " \"\"\"\"\n",
    " note the following\n",
    " \"\"\"\n",
    " # Diameter of the universe = 9.461e12 km\n",
    " # Diameter of a bun= 0.102e-3 km\n",
    "\n",
    "\n",
    "\n",
    "\n",
    "time_of_Growth = growth_time(.102e-3, 9.461e12) \n",
    "hour = time_of_Growth // 60\n",
    "minutes =  time_of_Growth % 60\n",
    "\n",
    " \n",
    "\n",
    "print(\"It will take {} hours and {} minutes for the bun to occupy the universe\".format(hour, minutes))"
   ]
  },
  {
   "cell_type": "markdown",
   "id": "3556c030",
   "metadata": {},
   "source": []
  },
  {
   "cell_type": "code",
   "execution_count": 13,
   "id": "45cfb2db",
   "metadata": {},
   "outputs": [
    {
     "name": "stdout",
     "output_type": "stream",
     "text": [
      "It will take 2 hours and 10 minutes for a ball to engulf the Tokyo dome\n"
     ]
    }
   ],
   "source": [
    "\"\"\"\n",
    "according to research;\n",
    "\n",
    "\"\"\"\n",
    "\n",
    "# area of a standard football= 0.000616 square metres  \n",
    "#Surface area of the Tokyo dome =35069.6 square metres\n",
    "\n",
    "ball_area = 0.000616\n",
    "dome_area =35069.6\n",
    "\n",
    "\n",
    "time_of_Growth = growth_time(ball_area, dome_area) \n",
    "hour = time_of_Growth // 60\n",
    "minutes = time_of_Growth % 60\n",
    "\n",
    "print(\"It will take {} hours and {} minutes for a ball to engulf the Tokyo dome\".format(hour, minutes))"
   ]
  }
 ],
 "metadata": {
  "kernelspec": {
   "display_name": "Python 3 (ipykernel)",
   "language": "python",
   "name": "python3"
  },
  "language_info": {
   "codemirror_mode": {
    "name": "ipython",
    "version": 3
   },
   "file_extension": ".py",
   "mimetype": "text/x-python",
   "name": "python",
   "nbconvert_exporter": "python",
   "pygments_lexer": "ipython3",
   "version": "3.11.5"
  }
 },
 "nbformat": 4,
 "nbformat_minor": 5
}
