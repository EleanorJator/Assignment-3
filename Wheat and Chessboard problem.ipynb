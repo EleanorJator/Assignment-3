{
 "cells": [
  {
   "cell_type": "code",
   "execution_count": 3,
   "id": "be8851fd",
   "metadata": {
    "scrolled": true
   },
   "outputs": [
    {
     "name": "stdout",
     "output_type": "stream",
     "text": [
      "Arrange wheat on a plate of 4 squares (ndarray)：\n",
      "[[1 2]\n",
      " [4 8]]\n"
     ]
    }
   ],
   "source": [
    "# arranging wheat grains on a 4 square plate\n",
    "\n",
    "import numpy as np\n",
    "import matplotlib.pyplot as plt\n",
    "\n",
    "small_board_ndarray = np.arange(4) #To create a numpy array containing 0 - 3 to represent a board\n",
    "\n",
    "small_board_ndarray = 2 ** small_board_ndarray#To double the wheat added to each cell \n",
    "\n",
    "small_board_ndarray = small_board_ndarray.reshape((2, 2)).copy()#reshape dimension to 2 by 2 array\n",
    "\n",
    "print(\"Arrange wheat on a plate of 4 squares (ndarray)：\\n{}\".format(small_board_ndarray))"
   ]
  },
  {
   "cell_type": "code",
   "execution_count": 5,
   "id": "44baa690",
   "metadata": {
    "scrolled": true
   },
   "outputs": [
    {
     "name": "stdout",
     "output_type": "stream",
     "text": [
      "[[                  1                   2                   4\n",
      "                    8                  16                  32\n",
      "                   64                 128]\n",
      " [                256                 512                1024\n",
      "                 2048                4096                8192\n",
      "                16384               32768]\n",
      " [              65536              131072              262144\n",
      "               524288             1048576             2097152\n",
      "              4194304             8388608]\n",
      " [           16777216            33554432            67108864\n",
      "            134217728           268435456           536870912\n",
      "           1073741824          2147483648]\n",
      " [         4294967296          8589934592         17179869184\n",
      "          34359738368         68719476736        137438953472\n",
      "         274877906944        549755813888]\n",
      " [      1099511627776       2199023255552       4398046511104\n",
      "        8796093022208      17592186044416      35184372088832\n",
      "       70368744177664     140737488355328]\n",
      " [    281474976710656     562949953421312    1125899906842624\n",
      "     2251799813685248    4503599627370496    9007199254740992\n",
      "    18014398509481984   36028797018963968]\n",
      " [  72057594037927936  144115188075855872  288230376151711744\n",
      "   576460752303423488 1152921504606846976 2305843009213693952\n",
      "  4611686018427387904 9223372036854775808]]\n"
     ]
    }
   ],
   "source": [
    "# A function that returns a ndarray containing the number of wheat on an nxm chess board\n",
    "\n",
    "def expand(a, b):\n",
    "    ndarry = np.arange(a*b, dtype=np.uint64)\n",
    "\n",
    "    ndarry = 2 ** ndarry\n",
    "    return ndarry.reshape((a, b)).copy()\n",
    "\n",
    "\n",
    "chessboard = expand(8, 8)\n",
    "\n",
    "print(chessboard)"
   ]
  },
  {
   "cell_type": "code",
   "execution_count": 6,
   "id": "08b11c5f",
   "metadata": {
    "scrolled": true
   },
   "outputs": [
    {
     "name": "stdout",
     "output_type": "stream",
     "text": [
      "Total number of wheat on a chess board of 8 x 8 squares: 18,446,744,073,709,551,615\n"
     ]
    },
    {
     "data": {
      "image/png": "[encoded data removed]",
      "text/plain": [
       "<Figure size 640x480 with 1 Axes>"
      ]
     },
     "metadata": {},
     "output_type": "display_data"
    }
   ],
   "source": [
    "# Total number of wheat on a chess board of 8 x 8 squares\n",
    "\n",
    "total_wheat = expand(8, 8).sum()\n",
    "print(f\"Total number of wheat on a chess board of 8 x 8 squares: {total_wheat :,}\")\n",
    "\n",
    "\n",
    "chessboard = expand(8, 8)\n",
    "column = np.arange(1, 9)\n",
    "number = np.hsplit(chessboard, 8)\n",
    "\n",
    "for x in range(len(number)):\n",
    "    number[x] = number[x].sum()\n",
    "\n",
    "plt.xlabel(\"column\")\n",
    "plt.ylabel(\"number\")\n",
    "plt.title(\"number in each column\")\n",
    "plt.bar(column, number)\n",
    "plt.show()"
   ]
  },
  {
   "cell_type": "code",
   "execution_count": 7,
   "id": "504978af",
   "metadata": {
    "scrolled": true
   },
   "outputs": [
    {
     "data": {
      "image/png": "[encoded data removed]",
      "text/plain": [
       "<Figure size 640x480 with 1 Axes>"
      ]
     },
     "metadata": {},
     "output_type": "display_data"
    }
   ],
   "source": [
    "# To Visualize the number of wheat on the 8x8 chess board as a heat map.\n",
    "\n",
    "plt.xlabel(\"column\")\n",
    "plt.ylabel(\"row\")\n",
    "plt.title(\"heatmap\")\n",
    "plt.pcolor(chessboard)\n",
    "plt.show()"
   ]
  },
  {
   "cell_type": "code",
   "execution_count": 8,
   "id": "8dd83e7b",
   "metadata": {
    "scrolled": true
   },
   "outputs": [
    {
     "name": "stdout",
     "output_type": "stream",
     "text": [
      "The second half of the chessboard is 4,294,967,296.0 times greater than the first half of the chessboard\n"
     ]
    }
   ],
   "source": [
    "#To find how many times the second half isgreater than the first half\n",
    "\n",
    " \n",
    "\n",
    "nd_board = chessboard.flatten() #flatten the chess board\n",
    "\n",
    "# the size of the chessboard is 64(squares).Hence ,convergence in the mid point \n",
    "first_half = nd_board[:32]\n",
    "second_half = nd_board[32:]\n",
    "ratio = second_half.sum()/ first_half.sum()\n",
    "\n",
    "print(f\"The second half of the chessboard is {ratio :,} times greater than the first half of the chessboard\")"
   ]
  },
  {
   "cell_type": "code",
   "execution_count": 9,
   "id": "49808045",
   "metadata": {
    "scrolled": true
   },
   "outputs": [
    {
     "data": {
      "text/plain": [
       "array([[1.00000000e+00, 2.00000000e+00, 4.00000000e+00, 8.00000000e+00,\n",
       "        1.60000000e+01, 3.20000000e+01, 6.40000000e+01, 1.28000000e+02],\n",
       "       [2.56000000e+02, 5.12000000e+02, 1.02400000e+03, 2.04800000e+03,\n",
       "        4.09600000e+03, 8.19200000e+03, 1.63840000e+04, 3.27680000e+04],\n",
       "       [6.55360000e+04, 1.31072000e+05, 2.62144000e+05, 5.24288000e+05,\n",
       "        1.04857600e+06, 2.09715200e+06, 4.19430400e+06, 8.38860800e+06],\n",
       "       [1.67772160e+07, 3.35544320e+07, 6.71088640e+07, 1.34217728e+08,\n",
       "        2.68435456e+08, 5.36870912e+08, 1.07374182e+09, 2.14748365e+09],\n",
       "       [4.29496730e+09, 8.58993459e+09, 1.71798692e+10, 3.43597384e+10,\n",
       "        6.87194767e+10, 1.37438953e+11, 2.74877907e+11, 5.49755814e+11],\n",
       "       [1.09951163e+12, 2.19902326e+12, 4.39804651e+12, 8.79609302e+12,\n",
       "        1.75921860e+13, 3.51843721e+13, 7.03687442e+13, 1.40737488e+14],\n",
       "       [2.81474977e+14, 5.62949953e+14, 1.12589991e+15, 2.25179981e+15,\n",
       "        4.50359963e+15, 9.00719925e+15, 1.80143985e+16, 3.60287970e+16],\n",
       "       [7.20575940e+16, 1.44115188e+17, 2.88230376e+17, 5.76460752e+17,\n",
       "        1.15292150e+18, 2.30584301e+18, 4.61168602e+18, 9.22337204e+18]])"
      ]
     },
     "execution_count": 9,
     "metadata": {},
     "output_type": "execute_result"
    }
   ],
   "source": [
    " # Expansion to n × m mass by another calculation method\n",
    "\n",
    "def broadcast(n):\n",
    "  small_board_ndarray = np.array([1], dtype=np.uint64)\n",
    "  for _ in range(n -1):\n",
    "    small_board_ndarray = np.append(small_board_ndarray, 2*small_board_ndarray[-1])\n",
    "  return small_board_ndarray.copy()\n",
    "\n",
    "\n",
    "chess_b = broadcast(64).reshape((8, 8))\n",
    "chess_b"
   ]
  },
  {
   "cell_type": "code",
   "execution_count": 17,
   "id": "bed3519a",
   "metadata": {},
   "outputs": [
    {
     "name": "stdout",
     "output_type": "stream",
     "text": [
      "18.8 µs ± 2.03 µs per loop (mean ± std. dev. of 7 runs, 100,000 loops each)\n"
     ]
    }
   ],
   "source": [
    "#Comparing calculation times\n",
    "\n",
    "%%timeit\n",
    "\n",
    "x = expand(8, 8)"
   ]
  },
  {
   "cell_type": "code",
   "execution_count": 18,
   "id": "1a76c443",
   "metadata": {},
   "outputs": [
    {
     "name": "stdout",
     "output_type": "stream",
     "text": [
      "1.12 ms ± 23.8 µs per loop (mean ± std. dev. of 7 runs, 1,000 loops each)\n"
     ]
    }
   ],
   "source": [
    "%%timeit\n",
    "\n",
    "y = broadcast(64)"
   ]
  },
  {
   "cell_type": "code",
   "execution_count": 19,
   "id": "c968813f",
   "metadata": {},
   "outputs": [
    {
     "name": "stdout",
     "output_type": "stream",
     "text": [
      "18.7 µs ± 192 ns per loop (mean ± std. dev. of 7 runs, 100,000 loops each)\n"
     ]
    }
   ],
   "source": [
    "%%timeit\n",
    "def doSome(n):\n",
    "  arry = [1]\n",
    "  for _ in range(n -1 ):\n",
    "    arry.append(2 * arry[-1])\n",
    "\n",
    "  return arry.copy()\n",
    "\n",
    "z = doSome(64)"
   ]
  },
  {
   "cell_type": "code",
   "execution_count": null,
   "id": "2a4e1791",
   "metadata": {},
   "outputs": [],
   "source": []
  }
 ],
 "metadata": {
  "kernelspec": {
   "display_name": "Python 3 (ipykernel)",
   "language": "python",
   "name": "python3"
  },
  "language_info": {
   "codemirror_mode": {
    "name": "ipython",
    "version": 3
   },
   "file_extension": ".py",
   "mimetype": "text/x-python",
   "name": "python",
   "nbconvert_exporter": "python",
   "pygments_lexer": "ipython3",
   "version": "3.11.5"
  }
 },
 "nbformat": 4,
 "nbformat_minor": 5
}
