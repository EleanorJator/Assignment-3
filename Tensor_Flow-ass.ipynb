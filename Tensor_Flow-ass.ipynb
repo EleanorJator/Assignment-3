{
  "nbformat": 4,
  "nbformat_minor": 0,
  "metadata": {
    "colab": {
      "provenance": [],
      "toc_visible": true,
      "authorship_tag": "ABX9TyOLYoN1cbPCdAmFQ7l0N8T0",
      "include_colab_link": true
    },
    "kernelspec": {
      "name": "python3",
      "display_name": "Python 3"
    },
    "language_info": {
      "name": "python"
    }
  },
  "cells": [
    {
      "cell_type": "markdown",
      "metadata": {
        "id": "view-in-github",
        "colab_type": "text"
      },
      "source": [
        "<a href=\"https://colab.research.google.com/github/EleanorJator/Dpro_Assignments-/blob/main/Tensor_Flow-ass.ipynb\" target=\"_parent\"><img src=\"https://colab.research.google.com/assets/colab-badge.svg\" alt=\"Open In Colab\"/></a>"
      ]
    },
    {
      "cell_type": "code",
      "execution_count": 1,
      "metadata": {
        "id": "KoTSdo4YpGIH"
      },
      "outputs": [],
      "source": [
        "import numpy as np\n",
        "import tensorflow as tf\n",
        "import pandas as pd\n",
        "from matplotlib import pyplot as plt\n",
        "from sklearn.datasets import load_iris\n",
        "from sklearn.preprocessing import OneHotEncoder\n",
        "from sklearn.model_selection import train_test_split\n",
        "from keras.datasets import mnist"
      ]
    },
    {
      "cell_type": "markdown",
      "source": [
        "Problem 1:Looking back on scratch\n",
        "To implment for deep learing;\n",
        "\n",
        "I had to initialize weights and baises\n",
        "\n",
        "I needed an epoch loop to train over data multiple times\n",
        "\n",
        "I had to  initialize the nodes of each hidden layer of the network\n",
        "\n",
        "I performed forward propagation for each layer\n",
        "\n",
        "I needed to implement an activation function and applied it on the output of each layer\n",
        "\n",
        "I had to implement a loss function\n",
        "\n",
        "I had to implement back propagaiton method for the network\n",
        "\n",
        "I had to train the model using a fit method\n",
        "\n",
        "I had to implement an optimizer to update the values of weights and baises\n",
        "\n",
        "I also had to implement a predict method\n",
        "\n",
        "\n",
        "Problem 2:Considering  the correspondence between scratch and TensorFlow\n",
        "\n",
        "The sample code begins by performing feature selection and data processing on the iris dataset, followed by the definition of the mini batch class. Further down, the paramters for the layers in the class were initilized and assigned values. The exmaple_net function defines the forward propagation operation for the network. Loss_op, train_op, optimizer, and accuracy are used to calculate the loss, forward, backward propagation, and accuracy of the model respectively.\n",
        "The sample code is a deep learning logistic regression model implemented using tensor flow version 1. The model is trained to learn to distinguish between species of flowers, specifically iris flowers of the versicolor and virginica class.\n",
        "\n",
        "TensorFlow version one by default uses graph computation, therefore a session has to be created for the training of the model. This session was created using the tf.session method. Within this session, the model is trained."
      ],
      "metadata": {
        "id": "7lhqjD3Dqg-1"
      }
    },
    {
      "cell_type": "code",
      "source": [
        "class GetMiniBatch:\n",
        "    \"\"\"\n",
        "Iterator to get a mini-batch\n",
        "\n",
        "    Parameters\n",
        "    ----------\n",
        "    X : The following forms of ndarray, shape (n_samples, n_features)\n",
        "      Training data\n",
        "    y : The following form of ndarray, shape (n_samples, 1)\n",
        "      Correct answer value\n",
        "    batch_size : int\n",
        "      Batch size\n",
        "    seed : int\n",
        "      NumPy random seed\n",
        "    \"\"\"\n",
        "    def __init__(self, X, y, batch_size = 20, seed=0):\n",
        "        self.batch_size = batch_size\n",
        "        np.random.seed(seed)\n",
        "        shuffle_index = np.random.permutation(np.arange(X.shape[0]))\n",
        "        self._X = X[shuffle_index]\n",
        "        self._y = y[shuffle_index]\n",
        "        self._stop = np.ceil(X.shape[0]/self.batch_size).astype(np.int_)\n",
        "\n",
        "    def __len__(self):\n",
        "        return self._stop\n",
        "\n",
        "    def __getitem__(self,item):\n",
        "        p0 = item*self.batch_size\n",
        "        p1 = item*self.batch_size + self.batch_size\n",
        "        return self._X[p0:p1], self._y[p0:p1]\n",
        "\n",
        "    def __iter__(self):\n",
        "        self._counter = 0\n",
        "        return self\n",
        "\n",
        "    def __next__(self):\n",
        "        if self._counter >= self._stop:\n",
        "            raise StopIteration()\n",
        "        p0 = self._counter*self.batch_size\n",
        "        p1 = self._counter*self.batch_size + self.batch_size\n",
        "        self._counter += 1\n",
        "        return self._X[p0:p1], self._y[p0:p1]"
      ],
      "metadata": {
        "id": "iLmxsMARt2Xu"
      },
      "execution_count": 4,
      "outputs": []
    },
    {
      "cell_type": "code",
      "source": [
        "iris = load_iris()\n",
        "features = iris[\"data\"]\n",
        "target = iris[\"target\"]\n",
        "\n",
        "x_train, x_test, y_train, y_test = train_test_split(features, target, test_size=0.2)\n",
        "\n",
        "x_train, y_train, x_test, y_test = x_train.astype(np.float32), y_train.astype(np.float32), x_test.astype(np.float32), y_test.astype(np.float32)\n",
        "y_train = y_train.reshape(-1, 1)\n",
        "onv = OneHotEncoder(sparse_output=False)\n",
        "y_train = onv.fit_transform(y_train)\n",
        "\n",
        "x_train, x_val, y_train, y_val = train_test_split(x_train, y_train, test_size=0.2)"
      ],
      "metadata": {
        "id": "fqsobfsjt_j3"
      },
      "execution_count": 5,
      "outputs": []
    },
    {
      "cell_type": "markdown",
      "source": [
        "Problem 3:Creating a model of Iris using all three types of objective variables"
      ],
      "metadata": {
        "id": "aaIwKYPwuwKL"
      }
    },
    {
      "cell_type": "code",
      "source": [
        "\n",
        "\n",
        "\n",
        "class Layer(tf.Module):\n",
        "    def __init__(self, n_input, n_output, activation=None, name=None):\n",
        "        super().__init__(name=name)\n",
        "        self.weight = tf.Variable(tf.random.normal([n_input, n_output]))\n",
        "        self.bais = tf.Variable(tf.random.normal([n_output]))\n",
        "        self.activation = activation\n",
        "\n",
        "    def __call__(self, x):\n",
        "        y = tf.add(tf.matmul(x, self.weight), self.bais)\n",
        "        if self.activation == None:\n",
        "            return y\n",
        "        return self.activation(y)\n",
        "\n",
        "\n",
        "class LogisticRegression:\n",
        "    def __init__(self, n_input = 4, n_classes=3,  lr=0.01, epoch=100, batch_size = 20):\n",
        "        self.lr = lr\n",
        "        self.epoch = epoch\n",
        "        self.batch = batch_size\n",
        "        self.optimizer = tf.keras.optimizers.Adam(learning_rate=self.lr)\n",
        "        self.inputlayer = Layer(n_input, 100, tf.nn.relu, \"InputLayer\")\n",
        "        self.hidden1 = Layer(100, 50, tf.nn.relu, \"hidden1\")\n",
        "        self.output = Layer(50,n_classes , name=\"outputLayer\")\n",
        "\n",
        "    #@tf.function\n",
        "    def forward(self, x):\n",
        "        logit = self.inputlayer(x)\n",
        "        logit = self.hidden1(logit)\n",
        "        logit = self.output(logit)\n",
        "\n",
        "        return logit\n",
        "\n",
        "    def fit(self, x_train, y_train, x_val=None, y_val=None):\n",
        "        if x_val is None:\n",
        "            x_val = x_train\n",
        "            y_val = y_train\n",
        "        for i in range(self.epoch):\n",
        "            total_loss = 0\n",
        "            for mini_x, mini_y in GetMiniBatch(x_train, y_train, self.batch):\n",
        "                with tf.GradientTape() as tape:\n",
        "                    logit = self.forward(mini_x)\n",
        "                    loss = tf.reduce_mean(tf.nn.softmax_cross_entropy_with_logits(mini_y, logit))\n",
        "\n",
        "                gradient = tape.gradient(loss, tape.watched_variables())\n",
        "                self.optimizer.apply_gradients(zip(gradient, tape.watched_variables()))\n",
        "                total_loss+= loss\n",
        "            total_loss/=self.batch\n",
        "\n",
        "            with tf.GradientTape() as tape:\n",
        "                logit = self.forward(x_val)\n",
        "                loss_val = tf.reduce_mean(tf.nn.softmax_cross_entropy_with_logits(y_val, logit))\n",
        "            accuracy = accuracy_score(np.argmax(y_train, 1), self.predict(x_train))\n",
        "            gradient = tape.gradient(loss_val, tape.watched_variables())\n",
        "            self.optimizer.apply_gradients(zip(gradient, tape.watched_variables()))\n",
        "\n",
        "            print(f\"Num epoch: {i} loss: {total_loss}: loss_val: {loss_val} accuracy: {accuracy}\")\n",
        "        return self\n",
        "\n",
        "    def predict(self, x):\n",
        "        y = tf.nn.softmax(self.forward(x)).numpy()\n",
        "\n",
        "        return np.argmax(y, 1)\n",
        "\n",
        "\n",
        "def accuracy_score(y_true, pred):\n",
        "    correct = np.sum(np.round(y_true) == np.round(pred))\n",
        "    total = y_true.shape[0]\n",
        "    return correct/total"
      ],
      "metadata": {
        "id": "hQ9cFYI5u151"
      },
      "execution_count": 6,
      "outputs": []
    },
    {
      "cell_type": "code",
      "source": [
        "model = LogisticRegression()\n",
        "model.fit(x_train, y_train, x_val, y_val)"
      ],
      "metadata": {
        "colab": {
          "base_uri": "https://localhost:8080/"
        },
        "id": "rrgW6gyivIix",
        "outputId": "166ec750-a31f-4cad-de02-476737fea022"
      },
      "execution_count": 7,
      "outputs": [
        {
          "output_type": "stream",
          "name": "stdout",
          "text": [
            "Num epoch: 0 loss: 56.89833450317383: loss_val: 63.21514892578125 accuracy: 0.3854166666666667\n",
            "Num epoch: 1 loss: 12.312609672546387: loss_val: 72.94419860839844 accuracy: 0.6875\n",
            "Num epoch: 2 loss: 8.228092193603516: loss_val: 1.5360912084579468 accuracy: 0.90625\n",
            "Num epoch: 3 loss: 4.664989471435547: loss_val: 17.15325164794922 accuracy: 0.6770833333333334\n",
            "Num epoch: 4 loss: 1.3043256998062134: loss_val: 4.7110514640808105 accuracy: 0.8020833333333334\n",
            "Num epoch: 5 loss: 1.5706498622894287: loss_val: 0.593051016330719 accuracy: 0.9166666666666666\n",
            "Num epoch: 6 loss: 1.560071349143982: loss_val: 3.445147752761841 accuracy: 0.8125\n",
            "Num epoch: 7 loss: 0.6738848686218262: loss_val: 2.586683988571167 accuracy: 0.84375\n",
            "Num epoch: 8 loss: 0.4909297823905945: loss_val: 0.4528981149196625 accuracy: 0.8958333333333334\n",
            "Num epoch: 9 loss: 0.5314274430274963: loss_val: 0.22385574877262115 accuracy: 0.9166666666666666\n",
            "Num epoch: 10 loss: 0.5670222640037537: loss_val: 0.7882450222969055 accuracy: 0.9375\n",
            "Num epoch: 11 loss: 0.4762830138206482: loss_val: 0.3885950744152069 accuracy: 0.90625\n",
            "Num epoch: 12 loss: 0.4473510682582855: loss_val: 0.7275151610374451 accuracy: 0.9375\n",
            "Num epoch: 13 loss: 0.3651069104671478: loss_val: 0.3704923093318939 accuracy: 0.90625\n",
            "Num epoch: 14 loss: 0.29315948486328125: loss_val: 0.3209734261035919 accuracy: 0.9479166666666666\n",
            "Num epoch: 15 loss: 0.28472739458084106: loss_val: 0.016130419448018074 accuracy: 0.9375\n",
            "Num epoch: 16 loss: 0.30749940872192383: loss_val: 0.12090128660202026 accuracy: 0.9583333333333334\n",
            "Num epoch: 17 loss: 0.3674652576446533: loss_val: 0.0704413652420044 accuracy: 0.9375\n",
            "Num epoch: 18 loss: 0.4564334750175476: loss_val: 0.4338756799697876 accuracy: 0.9479166666666666\n",
            "Num epoch: 19 loss: 0.4012817442417145: loss_val: 0.0879940390586853 accuracy: 0.9270833333333334\n",
            "Num epoch: 20 loss: 0.4937005639076233: loss_val: 0.40319395065307617 accuracy: 0.9479166666666666\n",
            "Num epoch: 21 loss: 0.48688650131225586: loss_val: 0.18093641102313995 accuracy: 0.9270833333333334\n",
            "Num epoch: 22 loss: 0.5227044820785522: loss_val: 0.45124030113220215 accuracy: 0.9479166666666666\n",
            "Num epoch: 23 loss: 0.479579359292984: loss_val: 0.16358326375484467 accuracy: 0.9270833333333334\n",
            "Num epoch: 24 loss: 0.5064329504966736: loss_val: 0.400191068649292 accuracy: 0.9479166666666666\n",
            "Num epoch: 25 loss: 0.46659374237060547: loss_val: 0.11656096577644348 accuracy: 0.9375\n",
            "Num epoch: 26 loss: 0.515432596206665: loss_val: 0.377849817276001 accuracy: 0.9479166666666666\n",
            "Num epoch: 27 loss: 0.4648917615413666: loss_val: 0.10673629492521286 accuracy: 0.9375\n",
            "Num epoch: 28 loss: 0.4989221692085266: loss_val: 0.3397999107837677 accuracy: 0.9479166666666666\n",
            "Num epoch: 29 loss: 0.43233078718185425: loss_val: 0.06430525332689285 accuracy: 0.9375\n",
            "Num epoch: 30 loss: 0.46745729446411133: loss_val: 0.31525298953056335 accuracy: 0.9479166666666666\n",
            "Num epoch: 31 loss: 0.40829530358314514: loss_val: 0.2033536434173584 accuracy: 0.9270833333333334\n",
            "Num epoch: 32 loss: 0.3009600043296814: loss_val: 0.08852121978998184 accuracy: 0.9583333333333334\n",
            "Num epoch: 33 loss: 0.3217396140098572: loss_val: 0.0028815532568842173 accuracy: 0.9375\n",
            "Num epoch: 34 loss: 0.3263033330440521: loss_val: 0.008549651131033897 accuracy: 0.9583333333333334\n",
            "Num epoch: 35 loss: 0.34422987699508667: loss_val: 0.007334984373301268 accuracy: 0.9375\n",
            "Num epoch: 36 loss: 0.3349129855632782: loss_val: 0.011922157369554043 accuracy: 0.9583333333333334\n",
            "Num epoch: 37 loss: 0.3519526422023773: loss_val: 0.01513716671615839 accuracy: 0.9375\n",
            "Num epoch: 38 loss: 0.32429319620132446: loss_val: 0.014438275247812271 accuracy: 0.9583333333333334\n",
            "Num epoch: 39 loss: 0.4051590859889984: loss_val: 0.16414500772953033 accuracy: 0.9375\n",
            "Num epoch: 40 loss: 0.3023027777671814: loss_val: 0.09153390675783157 accuracy: 0.9583333333333334\n",
            "Num epoch: 41 loss: 0.3669079840183258: loss_val: 0.04202998802065849 accuracy: 0.9375\n",
            "Num epoch: 42 loss: 0.2958775758743286: loss_val: 0.03162475302815437 accuracy: 0.9583333333333334\n",
            "Num epoch: 43 loss: 0.3605167865753174: loss_val: 0.0295546967536211 accuracy: 0.9375\n",
            "Num epoch: 44 loss: 0.29591360688209534: loss_val: 0.023685002699494362 accuracy: 0.9583333333333334\n",
            "Num epoch: 45 loss: 0.3516077995300293: loss_val: 0.016741950064897537 accuracy: 0.9375\n",
            "Num epoch: 46 loss: 0.2917591333389282: loss_val: 0.018048608675599098 accuracy: 0.9583333333333334\n",
            "Num epoch: 47 loss: 0.3358180522918701: loss_val: 0.004560766275972128 accuracy: 0.9375\n",
            "Num epoch: 48 loss: 0.28942444920539856: loss_val: 0.007796183228492737 accuracy: 0.9583333333333334\n",
            "Num epoch: 49 loss: 0.3301065266132355: loss_val: 0.0025255910586565733 accuracy: 0.9375\n",
            "Num epoch: 50 loss: 0.291829913854599: loss_val: 0.004710296634584665 accuracy: 0.9583333333333334\n",
            "Num epoch: 51 loss: 0.33398523926734924: loss_val: 0.0030830465257167816 accuracy: 0.9375\n",
            "Num epoch: 52 loss: 0.2905365824699402: loss_val: 0.006624049041420221 accuracy: 0.9583333333333334\n",
            "Num epoch: 53 loss: 0.314436674118042: loss_val: 0.0005163853638805449 accuracy: 0.9583333333333334\n",
            "Num epoch: 54 loss: 0.29501286149024963: loss_val: 0.001393011654727161 accuracy: 0.9583333333333334\n",
            "Num epoch: 55 loss: 0.3484056890010834: loss_val: 0.008176258765161037 accuracy: 0.9375\n",
            "Num epoch: 56 loss: 0.28704774379730225: loss_val: 0.010746397078037262 accuracy: 0.9583333333333334\n",
            "Num epoch: 57 loss: 0.2855726480484009: loss_val: 8.927153976401314e-05 accuracy: 0.9583333333333334\n",
            "Num epoch: 58 loss: 0.28828850388526917: loss_val: 0.0007826138753443956 accuracy: 0.9583333333333334\n",
            "Num epoch: 59 loss: 0.3328790068626404: loss_val: 0.0019945960957556963 accuracy: 0.9479166666666666\n",
            "Num epoch: 60 loss: 0.2889275848865509: loss_val: 0.004356656689196825 accuracy: 0.9583333333333334\n",
            "Num epoch: 61 loss: 0.2902473509311676: loss_val: 9.438624692847952e-05 accuracy: 0.9583333333333334\n",
            "Num epoch: 62 loss: 0.2898086905479431: loss_val: 0.0007586969877593219 accuracy: 0.9583333333333334\n",
            "Num epoch: 63 loss: 0.31821632385253906: loss_val: 0.0005027988227084279 accuracy: 0.9583333333333334\n",
            "Num epoch: 64 loss: 0.29217976331710815: loss_val: 0.0015575505094602704 accuracy: 0.9583333333333334\n",
            "Num epoch: 65 loss: 0.30957770347595215: loss_val: 0.00027140797465108335 accuracy: 0.9583333333333334\n",
            "Num epoch: 66 loss: 0.2901836037635803: loss_val: 0.0009689388680271804 accuracy: 0.9583333333333334\n",
            "Num epoch: 67 loss: 0.3068733513355255: loss_val: 0.00021867093164473772 accuracy: 0.96875\n",
            "Num epoch: 68 loss: 0.29031214118003845: loss_val: 0.0007455258164554834 accuracy: 0.9583333333333334\n",
            "Num epoch: 69 loss: 0.30416104197502136: loss_val: 0.00017573578224983066 accuracy: 0.96875\n",
            "Num epoch: 70 loss: 0.2919125258922577: loss_val: 0.0005116460961289704 accuracy: 0.9583333333333334\n",
            "Num epoch: 71 loss: 0.2956363260746002: loss_val: 9.127881639869884e-05 accuracy: 0.96875\n",
            "Num epoch: 72 loss: 0.2942585051059723: loss_val: 0.0002480351831763983 accuracy: 0.9583333333333334\n",
            "Num epoch: 73 loss: 0.27964797616004944: loss_val: 0.00012658658670261502 accuracy: 0.96875\n",
            "Num epoch: 74 loss: 0.2851637005805969: loss_val: 0.00037421126035042107 accuracy: 0.9583333333333334\n",
            "Num epoch: 75 loss: 0.2818073630332947: loss_val: 0.00037693337071686983 accuracy: 0.96875\n",
            "Num epoch: 76 loss: 0.2749934494495392: loss_val: 0.0002714672009460628 accuracy: 0.9583333333333334\n",
            "Num epoch: 77 loss: 0.26695340871810913: loss_val: 0.000574998848605901 accuracy: 0.96875\n",
            "Num epoch: 78 loss: 0.21228373050689697: loss_val: 2.334508621970599e-07 accuracy: 0.9583333333333334\n",
            "Num epoch: 79 loss: 0.28162264823913574: loss_val: 1.584685560374055e-05 accuracy: 0.9583333333333334\n",
            "Num epoch: 80 loss: 0.3771929442882538: loss_val: 7.947278390929569e-08 accuracy: 0.96875\n",
            "Num epoch: 81 loss: 0.5044410824775696: loss_val: 6.133272108854726e-05 accuracy: 0.96875\n",
            "Num epoch: 82 loss: 0.6764910221099854: loss_val: 9.934105982267738e-09 accuracy: 0.96875\n",
            "Num epoch: 83 loss: 0.7920840978622437: loss_val: 4.967052991133869e-09 accuracy: 0.9583333333333334\n",
            "Num epoch: 84 loss: 1.5309275388717651: loss_val: 0.0 accuracy: 0.9583333333333334\n",
            "Num epoch: 85 loss: 1.7521774768829346: loss_val: 0.3533060848712921 accuracy: 0.9270833333333334\n",
            "Num epoch: 86 loss: 1.3060458898544312: loss_val: 0.10367041081190109 accuracy: 0.9479166666666666\n",
            "Num epoch: 87 loss: 1.1754145622253418: loss_val: 1.9773517847061157 accuracy: 0.875\n",
            "Num epoch: 88 loss: 0.2339121401309967: loss_val: 0.009052897803485394 accuracy: 0.9479166666666666\n",
            "Num epoch: 89 loss: 0.17956748604774475: loss_val: 1.4901157641133977e-08 accuracy: 0.96875\n",
            "Num epoch: 90 loss: 0.2691194415092468: loss_val: 9.834650427364977e-07 accuracy: 0.96875\n",
            "Num epoch: 91 loss: 0.2500632107257843: loss_val: 2.4835259182509617e-08 accuracy: 0.96875\n",
            "Num epoch: 92 loss: 0.3440810441970825: loss_val: 0.00024446018505841494 accuracy: 0.9583333333333334\n",
            "Num epoch: 93 loss: 0.19954919815063477: loss_val: 2.9802313505911115e-08 accuracy: 0.96875\n",
            "Num epoch: 94 loss: 0.1879163682460785: loss_val: 1.3311491784406826e-06 accuracy: 0.96875\n",
            "Num epoch: 95 loss: 0.11561603844165802: loss_val: 0.0 accuracy: 0.9791666666666666\n",
            "Num epoch: 96 loss: 0.14398539066314697: loss_val: 1.4901157641133977e-08 accuracy: 0.96875\n",
            "Num epoch: 97 loss: 0.12243716418743134: loss_val: 0.0 accuracy: 0.96875\n",
            "Num epoch: 98 loss: 0.13771270215511322: loss_val: 9.934105982267738e-09 accuracy: 0.9583333333333334\n",
            "Num epoch: 99 loss: 0.12814173102378845: loss_val: 1.4901157641133977e-08 accuracy: 0.9583333333333334\n"
          ]
        },
        {
          "output_type": "execute_result",
          "data": {
            "text/plain": [
              "<__main__.LogisticRegression at 0x7e10e68e9150>"
            ]
          },
          "metadata": {},
          "execution_count": 7
        }
      ]
    },
    {
      "cell_type": "code",
      "source": [
        "pred = model.predict(x_test)\n",
        "\n",
        "accuracy_score(y_test, pred)"
      ],
      "metadata": {
        "colab": {
          "base_uri": "https://localhost:8080/"
        },
        "id": "u_ZzqArfvSEc",
        "outputId": "ee601133-3a28-4267-da79-0b972a401223"
      },
      "execution_count": 8,
      "outputs": [
        {
          "output_type": "execute_result",
          "data": {
            "text/plain": [
              "0.9333333333333333"
            ]
          },
          "metadata": {},
          "execution_count": 8
        }
      ]
    },
    {
      "cell_type": "code",
      "source": [
        "plt.scatter(pred, y_test)\n",
        "plt.xlabel(\"prediction\")\n",
        "plt.ylabel(\"True value\")"
      ],
      "metadata": {
        "colab": {
          "base_uri": "https://localhost:8080/",
          "height": 466
        },
        "id": "gRP-ExJ0vk50",
        "outputId": "bd62bf53-6696-4c58-9453-955b18d0193d"
      },
      "execution_count": 9,
      "outputs": [
        {
          "output_type": "execute_result",
          "data": {
            "text/plain": [
              "Text(0, 0.5, 'True value')"
            ]
          },
          "metadata": {},
          "execution_count": 9
        },
        {
          "output_type": "display_data",
          "data": {
            "text/plain": [
              "<Figure size 640x480 with 1 Axes>"
            ],
            "image/png": "[encoded data removed]"
          },
          "metadata": {}
        }
      ]
    },
    {
      "cell_type": "markdown",
      "source": [
        "Problem 4: Creating a model of House Prices"
      ],
      "metadata": {
        "id": "_1GnxrSSzMRT"
      }
    },
    {
      "cell_type": "code",
      "source": [
        "house_train = pd.read_csv(\"/train.csv\")"
      ],
      "metadata": {
        "id": "i1Ynlcm82j6X"
      },
      "execution_count": 15,
      "outputs": []
    },
    {
      "cell_type": "code",
      "source": [
        "import seaborn as sns\n",
        "\n",
        "test = house_train.dropna(axis=1).corr(numeric_only=True)\n",
        "test = test[\"SalePrice\"]\n",
        "test = test[test > 0.6]\n",
        "\n",
        "plt.figure(figsize=(8, 5))\n",
        "sns.barplot(test)"
      ],
      "metadata": {
        "colab": {
          "base_uri": "https://localhost:8080/",
          "height": 482
        },
        "id": "7-Z0WZVA28Qq",
        "outputId": "dce8a7b7-9e54-47fe-87b9-ad6825ff0398"
      },
      "execution_count": 16,
      "outputs": [
        {
          "output_type": "execute_result",
          "data": {
            "text/plain": [
              "<Axes: ylabel='SalePrice'>"
            ]
          },
          "metadata": {},
          "execution_count": 16
        },
        {
          "output_type": "display_data",
          "data": {
            "text/plain": [
              "<Figure size 800x500 with 1 Axes>"
            ],
            "image/png": "[encoded data removed]"
          },
          "metadata": {}
        }
      ]
    },
    {
      "cell_type": "code",
      "source": [
        "class LinearRegression:\n",
        "    def __init__(self, n_input=3, lr=0.001, epoch= 100, batch_size=20):\n",
        "        self.lr = lr\n",
        "        self.batch_size = batch_size\n",
        "        self.epoch = epoch\n",
        "        self.optimizer = tf.keras.optimizers.Adam(learning_rate=self.lr)\n",
        "        self.inputLayer = Layer(n_input, 200, name= \"inputLayer\")\n",
        "        self.middleLayer1 = Layer(200, 100, name=\"middleLayer\")\n",
        "        self.middleLayer = Layer(100, 50, name=\"middleLayer\")\n",
        "        self.outputLayer = Layer(50, 1, name=\"outputLayer\")\n",
        "        self.loss = np.array([])\n",
        "\n",
        "    def forward(self, x):\n",
        "        logit = self.inputLayer(x)\n",
        "        logit = self.middleLayer1(logit)\n",
        "        logit = self.middleLayer(logit)\n",
        "        logit = self.outputLayer(logit)\n",
        "\n",
        "        return logit\n",
        "\n",
        "    def predict(self, x):\n",
        "        return self.forward(x)\n",
        "\n",
        "    def fit(self, x_train, y_train, x_val=None, y_val=None):\n",
        "        if x_val is None:\n",
        "            x_val = x_train\n",
        "            y_val = y_train\n",
        "\n",
        "        for i in range(self.epoch):\n",
        "            totalLoss = 0\n",
        "            for mini_x, mini_y in GetMiniBatch(x_train, y_train, batch_size= self.batch_size):\n",
        "                with tf.GradientTape() as tape:\n",
        "                    y = self.forward(mini_x)\n",
        "                    #MSE loss function\n",
        "                    loss = tf.reduce_mean(tf.pow(y - mini_y, 2))\n",
        "                    totalLoss += loss\n",
        "\n",
        "                gradient = tape.gradient(loss, tape.watched_variables())\n",
        "                self.optimizer.apply_gradients(zip(gradient, tape.watched_variables()))\n",
        "\n",
        "            totalLoss/=self.batch_size\n",
        "            self.loss = np.append(self.loss, totalLoss)\n",
        "\n",
        "            with tf.GradientTape() as tape:\n",
        "                y = self.forward(x_val)\n",
        "\n",
        "                loss_val = tf.reduce_mean(tf.pow(y-y_val, 2))\n",
        "\n",
        "            gradient = tape.gradient(loss_val, y)\n",
        "\n",
        "            self.optimizer.apply_gradients(zip(gradient, tape.watched_variables()))\n",
        "            accuracy = accuracy_score(y_val, self.predict(x_val))\n",
        "\n",
        "            print(f\"Epoch: {i} loss: {totalLoss} Loss_val: {loss_val}\")\n",
        "\n",
        "        return self"
      ],
      "metadata": {
        "id": "a3qJzwOj8kPc"
      },
      "execution_count": 25,
      "outputs": []
    },
    {
      "cell_type": "code",
      "source": [
        "linearModel = LinearRegression(epoch=100, lr=1e-5)\n",
        "\n",
        "linearModel.fit(x_train, y_train, x_val, y_val)"
      ],
      "metadata": {
        "colab": {
          "base_uri": "https://localhost:8080/"
        },
        "id": "PD8q5Kfy6pk6",
        "outputId": "77649d01-3dfe-46fa-eb31-b11eda67618b"
      },
      "execution_count": 26,
      "outputs": [
        {
          "output_type": "stream",
          "name": "stdout",
          "text": [
            "Epoch: 0 loss: 18518212870144.0 Loss_val: 5776136470528.0\n",
            "Epoch: 1 loss: 15410550276096.0 Loss_val: 4790937976832.0\n",
            "Epoch: 2 loss: 12718133215232.0 Loss_val: 3941089411072.0\n",
            "Epoch: 3 loss: 10406122749952.0 Loss_val: 3214641201152.0\n",
            "Epoch: 4 loss: 8439175577600.0 Loss_val: 2599444283392.0\n",
            "Epoch: 5 loss: 6782011834368.0 Loss_val: 2083648176128.0\n",
            "Epoch: 6 loss: 5400356192256.0 Loss_val: 1655834935296.0\n",
            "Epoch: 7 loss: 4261320065024.0 Loss_val: 1305071583232.0\n",
            "Epoch: 8 loss: 3333552603136.0 Loss_val: 1021016539136.0\n",
            "Epoch: 9 loss: 2587537178624.0 Loss_val: 793973555200.0\n",
            "Epoch: 10 loss: 1995783012352.0 Loss_val: 614982811648.0\n",
            "Epoch: 11 loss: 1533071720448.0 Loss_val: 475883470848.0\n",
            "Epoch: 12 loss: 1176599134208.0 Loss_val: 369357848576.0\n",
            "Epoch: 13 loss: 906109976576.0 Loss_val: 288965328896.0\n",
            "Epoch: 14 loss: 703953960960.0 Loss_val: 229153734656.0\n",
            "Epoch: 15 loss: 555072487424.0 Loss_val: 185242075136.0\n",
            "Epoch: 16 loss: 446917967872.0 Loss_val: 153365839872.0\n",
            "Epoch: 17 loss: 369237164032.0 Loss_val: 130411724800.0\n",
            "Epoch: 18 loss: 313885523968.0 Loss_val: 113932509184.0\n",
            "Epoch: 19 loss: 274535841792.0 Loss_val: 102052839424.0\n",
            "Epoch: 20 loss: 246400516096.0 Loss_val: 93370007552.0\n",
            "Epoch: 21 loss: 225951055872.0 Loss_val: 86862462976.0\n",
            "Epoch: 22 loss: 210650660864.0 Loss_val: 81805680640.0\n",
            "Epoch: 23 loss: 198728171520.0 Loss_val: 77698621440.0\n",
            "Epoch: 24 loss: 188977676288.0 Loss_val: 74203635712.0\n",
            "Epoch: 25 loss: 180600225792.0 Loss_val: 71099965440.0\n",
            "Epoch: 26 loss: 173082951680.0 Loss_val: 68246224896.0\n",
            "Epoch: 27 loss: 166104268800.0 Loss_val: 65554415616.0\n",
            "Epoch: 28 loss: 159471157248.0 Loss_val: 62972739584.0\n",
            "Epoch: 29 loss: 153070878720.0 Loss_val: 60470198272.0\n",
            "Epoch: 30 loss: 146841976832.0 Loss_val: 58030174208.0\n",
            "Epoch: 31 loss: 140751962112.0 Loss_val: 55643811840.0\n",
            "Epoch: 32 loss: 134786359296.0 Loss_val: 53307314176.0\n",
            "Epoch: 33 loss: 128940654592.0 Loss_val: 51019399168.0\n",
            "Epoch: 34 loss: 123215003648.0 Loss_val: 48780234752.0\n",
            "Epoch: 35 loss: 117612462080.0 Loss_val: 46590898176.0\n",
            "Epoch: 36 loss: 112137445376.0 Loss_val: 44452818944.0\n",
            "Epoch: 37 loss: 106794508288.0 Loss_val: 42367545344.0\n",
            "Epoch: 38 loss: 101588303872.0 Loss_val: 40336596992.0\n",
            "Epoch: 39 loss: 96523313152.0 Loss_val: 38361595904.0\n",
            "Epoch: 40 loss: 91603615744.0 Loss_val: 36443893760.0\n",
            "Epoch: 41 loss: 86832496640.0 Loss_val: 34584846336.0\n",
            "Epoch: 42 loss: 82213396480.0 Loss_val: 32785496064.0\n",
            "Epoch: 43 loss: 77748944896.0 Loss_val: 31046862848.0\n",
            "Epoch: 44 loss: 73441525760.0 Loss_val: 29369808896.0\n",
            "Epoch: 45 loss: 69293129728.0 Loss_val: 27755016192.0\n",
            "Epoch: 46 loss: 65305124864.0 Loss_val: 26202892288.0\n",
            "Epoch: 47 loss: 61478379520.0 Loss_val: 24713785344.0\n",
            "Epoch: 48 loss: 57813487616.0 Loss_val: 23287873536.0\n",
            "Epoch: 49 loss: 54310596608.0 Loss_val: 21925130240.0\n",
            "Epoch: 50 loss: 50969272320.0 Loss_val: 20625340416.0\n",
            "Epoch: 51 loss: 47788687360.0 Loss_val: 19388135424.0\n",
            "Epoch: 52 loss: 44767535104.0 Loss_val: 18212827136.0\n",
            "Epoch: 53 loss: 41904164864.0 Loss_val: 17098986496.0\n",
            "Epoch: 54 loss: 39196622848.0 Loss_val: 16045662208.0\n",
            "Epoch: 55 loss: 36642398208.0 Loss_val: 15051782144.0\n",
            "Epoch: 56 loss: 34238617600.0 Loss_val: 14116254720.0\n",
            "Epoch: 57 loss: 31982141440.0 Loss_val: 13237753856.0\n",
            "Epoch: 58 loss: 29869211648.0 Loss_val: 12414863360.0\n",
            "Epoch: 59 loss: 27895949312.0 Loss_val: 11645947904.0\n",
            "Epoch: 60 loss: 26058135552.0 Loss_val: 10929471488.0\n",
            "Epoch: 61 loss: 24351344640.0 Loss_val: 10263621632.0\n",
            "Epoch: 62 loss: 22770962432.0 Loss_val: 9646599168.0\n",
            "Epoch: 63 loss: 21311821824.0 Loss_val: 9076336640.0\n",
            "Epoch: 64 loss: 19968856064.0 Loss_val: 8550935040.0\n",
            "Epoch: 65 loss: 18736805888.0 Loss_val: 8068284928.0\n",
            "Epoch: 66 loss: 17610348544.0 Loss_val: 7626324480.0\n",
            "Epoch: 67 loss: 16583930880.0 Loss_val: 7222975488.0\n",
            "Epoch: 68 loss: 15652074496.0 Loss_val: 6855987200.0\n",
            "Epoch: 69 loss: 14809016320.0 Loss_val: 6523245056.0\n",
            "Epoch: 70 loss: 14049253376.0 Loss_val: 6222557696.0\n",
            "Epoch: 71 loss: 13367162880.0 Loss_val: 5951862784.0\n",
            "Epoch: 72 loss: 12757383168.0 Loss_val: 5708993536.0\n",
            "Epoch: 73 loss: 12214415360.0 Loss_val: 5491889664.0\n",
            "Epoch: 74 loss: 11733088256.0 Loss_val: 5298582016.0\n",
            "Epoch: 75 loss: 11308368896.0 Loss_val: 5127092224.0\n",
            "Epoch: 76 loss: 10935190528.0 Loss_val: 4975611392.0\n",
            "Epoch: 77 loss: 10608984064.0 Loss_val: 4842278400.0\n",
            "Epoch: 78 loss: 10325166080.0 Loss_val: 4725424128.0\n",
            "Epoch: 79 loss: 10079498240.0 Loss_val: 4623406592.0\n",
            "Epoch: 80 loss: 9867962368.0 Loss_val: 4534681600.0\n",
            "Epoch: 81 loss: 9686792192.0 Loss_val: 4457853440.0\n",
            "Epoch: 82 loss: 9532504064.0 Loss_val: 4391610368.0\n",
            "Epoch: 83 loss: 9401880576.0 Loss_val: 4334754304.0\n",
            "Epoch: 84 loss: 9291937792.0 Loss_val: 4286097408.0\n",
            "Epoch: 85 loss: 9199961088.0 Loss_val: 4244613632.0\n",
            "Epoch: 86 loss: 9123469312.0 Loss_val: 4209446400.0\n",
            "Epoch: 87 loss: 9060307968.0 Loss_val: 4179691776.0\n",
            "Epoch: 88 loss: 9008478208.0 Loss_val: 4154631424.0\n",
            "Epoch: 89 loss: 8966285312.0 Loss_val: 4133614592.0\n",
            "Epoch: 90 loss: 8932145152.0 Loss_val: 4116015872.0\n",
            "Epoch: 91 loss: 8904753152.0 Loss_val: 4101356544.0\n",
            "Epoch: 92 loss: 8882961408.0 Loss_val: 4089193728.0\n",
            "Epoch: 93 loss: 8865769472.0 Loss_val: 4079139840.0\n",
            "Epoch: 94 loss: 8852327424.0 Loss_val: 4070840576.0\n",
            "Epoch: 95 loss: 8841909248.0 Loss_val: 4063968256.0\n",
            "Epoch: 96 loss: 8833890304.0 Loss_val: 4058364416.0\n",
            "Epoch: 97 loss: 8827805696.0 Loss_val: 4053794304.0\n",
            "Epoch: 98 loss: 8823278592.0 Loss_val: 4050034176.0\n",
            "Epoch: 99 loss: 8819899392.0 Loss_val: 4046999296.0\n"
          ]
        },
        {
          "output_type": "execute_result",
          "data": {
            "text/plain": [
              "<__main__.LinearRegression at 0x7e10d4ac3670>"
            ]
          },
          "metadata": {},
          "execution_count": 26
        }
      ]
    },
    {
      "cell_type": "code",
      "source": [
        "import numpy as np\n",
        "from sklearn.model_selection import train_test_split\n",
        "\n",
        "# Define the standardScaler function\n",
        "def standardScaler(x):  # standardization\n",
        "    num = x - np.mean(x)\n",
        "    return num / np.std(x)\n",
        "\n",
        "# Define the normalization function\n",
        "def normalization(x):\n",
        "    num = x - np.min(x)\n",
        "    denum = np.max(x) - np.min(x)\n",
        "    return num / denum\n",
        "\n",
        "\n",
        "features = [\"OverallQual\", \"GrLivArea\", \"YearBuilt\"]\n",
        "target = [\"SalePrice\"]\n",
        "\n",
        "y = house_train[target]\n",
        "x = house_train[features]\n",
        "\n",
        "x_train, x_test, y_train, y_test = train_test_split(x, y, test_size=0.2)\n",
        "\n",
        "# Standardization of data\n",
        "# x_train = x.apply(standardScaler).to_numpy().astype(np.float32)\n",
        "# y_train = y.apply(standardScaler).to_numpy().astype(np.float32)\n",
        "\n",
        "x_train = x.to_numpy().astype(np.float32)\n",
        "y_train = y.to_numpy().astype(np.float32)\n",
        "\n",
        "# Normalization\n",
        "# x_train = x.apply(normalization).to_numpy().astype(np.float32)\n",
        "# y_train = y.apply(normalization).to_numpy().astype(np.float32)\n",
        "\n",
        "x_train, x_val, y_train, y_val = train_test_split(x_train, y_train, test_size=0.2)\n",
        "\n",
        "\n",
        "x_test, y_test = x_test.to_numpy().astype(np.float32), y_test.to_numpy().astype(np.float32)"
      ],
      "metadata": {
        "id": "zP5RYsjM2_S-"
      },
      "execution_count": 23,
      "outputs": []
    },
    {
      "cell_type": "code",
      "source": [
        "pred = linearModel.predict(x_test)\n",
        "\n",
        "plt.scatter(pred, y_test)\n",
        "plt.title(\"Housing price analysis\")\n",
        "plt.xlabel(\"prediction\")\n",
        "plt.ylabel(\"true value\")"
      ],
      "metadata": {
        "colab": {
          "base_uri": "https://localhost:8080/",
          "height": 489
        },
        "id": "qsMlkjGE_ilW",
        "outputId": "20554f71-2556-434c-aa31-3159947e9371"
      },
      "execution_count": 27,
      "outputs": [
        {
          "output_type": "execute_result",
          "data": {
            "text/plain": [
              "Text(0, 0.5, 'true value')"
            ]
          },
          "metadata": {},
          "execution_count": 27
        },
        {
          "output_type": "display_data",
          "data": {
            "text/plain": [
              "<Figure size 640x480 with 1 Axes>"
            ],
            "image/png": "[encoded data removed]"
          },
          "metadata": {}
        }
      ]
    },
    {
      "cell_type": "code",
      "source": [
        "plt.plot(linearModel.loss)"
      ],
      "metadata": {
        "colab": {
          "base_uri": "https://localhost:8080/",
          "height": 462
        },
        "id": "qBqB7KCG_slP",
        "outputId": "505056a7-f5f3-477d-d2f9-9d9a5386256b"
      },
      "execution_count": 28,
      "outputs": [
        {
          "output_type": "execute_result",
          "data": {
            "text/plain": [
              "[<matplotlib.lines.Line2D at 0x7e10d479bf40>]"
            ]
          },
          "metadata": {},
          "execution_count": 28
        },
        {
          "output_type": "display_data",
          "data": {
            "text/plain": [
              "<Figure size 640x480 with 1 Axes>"
            ],
            "image/png": "[encoded data removed]"
          },
          "metadata": {}
        }
      ]
    },
    {
      "cell_type": "markdown",
      "source": [
        "The difference between a classification and regression problem is in the use of activation functions. In a linear regression problem, the model tries to fit the data into a straight line, an activation function is not required. However, in a classification problem an activation function is required to output into probability distribution which is used to determine the class of a dataset."
      ],
      "metadata": {
        "id": "U7vtg3_8_0IL"
      }
    },
    {
      "cell_type": "markdown",
      "source": [
        "Problem 5: Creating  a model of MNIST"
      ],
      "metadata": {
        "id": "QfiKm-TS_3kR"
      }
    },
    {
      "cell_type": "code",
      "source": [
        "class DeepNeuralNetwork:\n",
        "    def __init__(self, n_input = 4, n_classes=3,  lr=0.01, epoch=100, batch_size = 20):\n",
        "        self.lr = lr\n",
        "        self.epoch = epoch\n",
        "        self.batch = batch_size\n",
        "        self.optimizer = tf.keras.optimizers.Adam(learning_rate=self.lr)\n",
        "        self.inputlayer = Layer(n_input, 400, tf.nn.relu, \"InputLayer\")\n",
        "        self.hidden1 = Layer(400, 200, tf.nn.relu, \"hidden1\")\n",
        "        self.output = Layer(200, n_classes, name=\"outputLayer\")\n",
        "\n",
        "    #@tf.function\n",
        "    def forward(self, x):\n",
        "        logit = self.inputlayer(x)\n",
        "        logit = self.hidden1(logit)\n",
        "        logit = self.output(logit)\n",
        "\n",
        "        return logit\n",
        "\n",
        "    def fit(self, x_train, y_train, x_val=None, y_val=None):\n",
        "        if x_val is None:\n",
        "            x_val = x_train\n",
        "            y_val = y_train\n",
        "        for i in range(self.epoch):\n",
        "            total_loss = 0\n",
        "            for mini_x, mini_y in GetMiniBatch(x_train, y_train, self.batch):\n",
        "                with tf.GradientTape() as tape:\n",
        "                    logit = self.forward(mini_x)\n",
        "                    loss = tf.reduce_mean(tf.nn.softmax_cross_entropy_with_logits(mini_y, logit))\n",
        "\n",
        "                gradient = tape.gradient(loss, tape.watched_variables())\n",
        "                self.optimizer.apply_gradients(zip(gradient, tape.watched_variables()))\n",
        "                total_loss+= loss\n",
        "            total_loss/=self.batch\n",
        "\n",
        "            with tf.GradientTape() as tape:\n",
        "                logit = self.forward(x_val)\n",
        "                loss_val = tf.reduce_mean(tf.nn.softmax_cross_entropy_with_logits(y_val, logit))\n",
        "            accuracy = accuracy_score(np.argmax(y_train, 1), self.predict(x_train))\n",
        "            gradient = tape.gradient(loss_val, tape.watched_variables())\n",
        "            self.optimizer.apply_gradients(zip(gradient, tape.watched_variables()))\n",
        "\n",
        "            print(f\"Num epoch: {i} loss: {total_loss}: loss_val: {loss_val} accuracy: {accuracy}\")\n",
        "        return self\n",
        "\n",
        "    def predict(self, x):\n",
        "        y = tf.nn.softmax(self.forward(x)).numpy()\n",
        "\n",
        "        return np.argmax(y, 1)\n",
        "\n",
        "\n",
        "def accuracy_score(y_true, pred):\n",
        "    correct = np.sum(np.round(y_true) == np.round(pred))\n",
        "    total = y_true.shape[0]\n",
        "    return correct/total"
      ],
      "metadata": {
        "id": "3gAbRfM1ADoz"
      },
      "execution_count": 29,
      "outputs": []
    },
    {
      "cell_type": "code",
      "source": [
        "(x_train, y_train), (x_test, y_test) = mnist.load_data()\n",
        "y_train, y_test = y_train.reshape(-1, 1), y_test.reshape(-1, 1)\n",
        "x_train, x_test = x_train.reshape(-1, 784).astype(np.float32), x_test.reshape(-1, 784).astype(np.float32)\n",
        "\n",
        "x_train /= 255\n",
        "x_test /= 255\n",
        "\n",
        "y_train = onv.fit_transform(y_train)\n",
        "\n",
        "x_train, x_val, y_train, y_val = train_test_split(x_train, y_train, test_size=0.2)"
      ],
      "metadata": {
        "colab": {
          "base_uri": "https://localhost:8080/"
        },
        "id": "djOhjkl_AOdL",
        "outputId": "1ff3669c-78b8-41e1-b2b5-9706c1370b02"
      },
      "execution_count": 30,
      "outputs": [
        {
          "output_type": "stream",
          "name": "stdout",
          "text": [
            "Downloading data from https://storage.googleapis.com/tensorflow/tf-keras-datasets/mnist.npz\n",
            "11490434/11490434 [==============================] - 0s 0us/step\n"
          ]
        }
      ]
    },
    {
      "cell_type": "code",
      "source": [
        "x_train.shape\n",
        "#y_train.shape\n",
        "n_input = x_train.shape[1]\n",
        "n_classes = y_train.shape[1]"
      ],
      "metadata": {
        "id": "P7zql7IDAT8A"
      },
      "execution_count": 31,
      "outputs": []
    },
    {
      "cell_type": "code",
      "source": [
        "model = DeepNeuralNetwork(lr=0.001, n_input=n_input, n_classes=n_classes, epoch=10).fit(x_train, y_train, x_val, y_val)"
      ],
      "metadata": {
        "colab": {
          "base_uri": "https://localhost:8080/"
        },
        "id": "Z1urwYoBAWmh",
        "outputId": "e384433f-0749-4272-e6de-a5d17b75fbc9"
      },
      "execution_count": 32,
      "outputs": [
        {
          "output_type": "stream",
          "name": "stdout",
          "text": [
            "Num epoch: 0 loss: 10857.84765625: loss_val: 35.24251174926758 accuracy: 0.9139375\n",
            "Num epoch: 1 loss: 2716.29248046875: loss_val: 24.111499786376953 accuracy: 0.9392083333333333\n",
            "Num epoch: 2 loss: 1408.871826171875: loss_val: 19.225786209106445 accuracy: 0.9582291666666667\n",
            "Num epoch: 3 loss: 846.8190307617188: loss_val: 17.311119079589844 accuracy: 0.9645833333333333\n",
            "Num epoch: 4 loss: 547.4575805664062: loss_val: 15.793649673461914 accuracy: 0.9748958333333333\n",
            "Num epoch: 5 loss: 381.4927062988281: loss_val: 15.90805435180664 accuracy: 0.9742916666666667\n",
            "Num epoch: 6 loss: 291.3869323730469: loss_val: 14.274033546447754 accuracy: 0.9808958333333333\n",
            "Num epoch: 7 loss: 244.16238403320312: loss_val: 12.920646667480469 accuracy: 0.9854791666666667\n",
            "Num epoch: 8 loss: 208.2257843017578: loss_val: 12.324956893920898 accuracy: 0.9909791666666666\n",
            "Num epoch: 9 loss: 165.0340576171875: loss_val: 14.385427474975586 accuracy: 0.9842291666666667\n"
          ]
        }
      ]
    },
    {
      "cell_type": "code",
      "source": [
        "pred = model.predict(x_test)"
      ],
      "metadata": {
        "id": "V_PorkP9EIWz"
      },
      "execution_count": 33,
      "outputs": []
    },
    {
      "cell_type": "code",
      "source": [
        "print(pred.shape)\n",
        "y_test.shape"
      ],
      "metadata": {
        "colab": {
          "base_uri": "https://localhost:8080/"
        },
        "id": "G3CLHCsDEMON",
        "outputId": "8f7bcfce-5c3d-48c1-eed1-8241923856a1"
      },
      "execution_count": 34,
      "outputs": [
        {
          "output_type": "stream",
          "name": "stdout",
          "text": [
            "(10000,)\n"
          ]
        },
        {
          "output_type": "execute_result",
          "data": {
            "text/plain": [
              "(10000, 1)"
            ]
          },
          "metadata": {},
          "execution_count": 34
        }
      ]
    },
    {
      "cell_type": "code",
      "source": [
        "from sklearn.metrics import confusion_matrix, accuracy_score\n",
        "\n",
        "confusion_matrix(y_test, pred)"
      ],
      "metadata": {
        "colab": {
          "base_uri": "https://localhost:8080/"
        },
        "id": "1jopl39_EQMt",
        "outputId": "37f3a6e8-12a5-4630-e166-efb7b3af47d7"
      },
      "execution_count": 35,
      "outputs": [
        {
          "output_type": "execute_result",
          "data": {
            "text/plain": [
              "array([[ 970,    0,    0,    0,    0,    0,    4,    1,    4,    1],\n",
              "       [   1, 1118,    4,    3,    0,    0,    3,    0,    4,    2],\n",
              "       [   8,    2,  986,    4,    7,    0,    5,    7,   11,    2],\n",
              "       [   1,    0,   16,  941,    2,    9,    1,    6,   11,   23],\n",
              "       [   2,    0,    3,    0,  943,    0,    7,    2,    1,   24],\n",
              "       [   9,    1,    2,   13,    6,  821,   12,    2,   19,    7],\n",
              "       [  14,    2,    1,    1,    5,    2,  925,    1,    6,    1],\n",
              "       [   1,    5,   10,    6,    4,    1,    0,  942,    7,   52],\n",
              "       [  10,    1,    7,    6,   10,    3,    9,    3,  901,   24],\n",
              "       [   7,    3,    0,    3,   12,    1,    1,    4,    4,  974]])"
            ]
          },
          "metadata": {},
          "execution_count": 35
        }
      ]
    },
    {
      "cell_type": "code",
      "source": [
        "accuracy_score(y_test, pred)"
      ],
      "metadata": {
        "colab": {
          "base_uri": "https://localhost:8080/"
        },
        "id": "VsoPNWX4EUp9",
        "outputId": "aaeda906-9c80-4bdd-d72f-5b22ff77577b"
      },
      "execution_count": 36,
      "outputs": [
        {
          "output_type": "execute_result",
          "data": {
            "text/plain": [
              "0.9521"
            ]
          },
          "metadata": {},
          "execution_count": 36
        }
      ]
    }
  ]
}