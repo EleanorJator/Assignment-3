{
 "cells": [
  {
   "cell_type": "code",
   "execution_count": 1,
   "id": "e07ee726",
   "metadata": {},
   "outputs": [],
   "source": [
    "import numpy as np \n",
    "import pandas as pd\n",
    "from sklearn.datasets import load_iris\n",
    "from sklearn.model_selection import train_test_split\n",
    "from sklearn.metrics import (\n",
    "    accuracy_score, \n",
    "    recall_score, \n",
    "    precision_score\n",
    ")\n",
    "from matplotlib.colors import ListedColormap \n",
    "\n",
    "from matplotlib import pyplot as plt\n",
    "iris_dataset = load_iris()\n",
    "\n",
    "data = np.hstack([iris_dataset.data, iris_dataset.target.reshape(-1, 1)])\n",
    "\n",
    "x_train, x_test, y_train, y_test = train_test_split(data[data[:, -1] != 2, 0:2], data[data[:, -1] != 2, -1],test_size=0.3, random_state=0)"
   ]
  },
  {
   "cell_type": "code",
   "execution_count": 2,
   "id": "b820797a",
   "metadata": {},
   "outputs": [],
   "source": [
    "class ScratchDecesionTreeClassifierDepth1():\n",
    "    \"\"\"\n",
    "    Depth 1 decision tree classifier scratch implementation\n",
    "\n",
    "    Parameters\n",
    "    ----------\n",
    "    verbose : bool\n",
    "      True to output the learning process\n",
    "    \"\"\"\n",
    "\n",
    "    def __init__(self, verbose=False, max_depth = 1):\n",
    "        # Record hyperparameters as attributes\n",
    "        self.verbose = verbose\n",
    "        self.max_depth = max_depth\n",
    "\n",
    "    def fit(self, X, y):\n",
    "        \"\"\"\n",
    "        Learn the decision tree classifier\n",
    "        Parameters\n",
    "        ----------\n",
    "        X : The following forms of ndarray, shape (n_samples, n_features)\n",
    "            Features of training data\n",
    "        y : The following form of ndarray, shape (n_samples,)\n",
    "            Correct answer value of training data\n",
    "        \"\"\"\n",
    "        \n",
    "        \n",
    "        \n",
    "        for i in range(self.max_depth): \n",
    "            self._calc_information_gain(X, y)\n",
    "\n",
    "\n",
    "\n",
    "        return self\n",
    "\n",
    "      \n",
    "\n",
    "    def predict(self, X):\n",
    "        \"\"\"\n",
    "        Estimate the label using a decision tree classifier\n",
<<<<<<< HEAD
    "       \n",
    "       \"\"\"\n",
=======
    "        \"\"\"\n",
>>>>>>> 0e0458589e53fc97f4cd60a991feb94f9bab1731
    "\n",
    "        y_pred = np.where(X[:, self.best_feature] < self.criteria, self.left_major, self.right_major)\n",
    "        return y_pred\n",
    "    \n",
    "    def _calc_gini(self, y):\n",
    "        classes, counts = np.unique(y, return_counts=True)\n",
    "        total = len(y)\n",
    "\n",
    "        _gini = 0\n",
    "        for i in zip(classes, counts):\n",
    "            _gini += np.power(i[1]/total, 2)\n",
    "        \n",
    "        return 1 - _gini\n",
    "    \n",
    "    def _calc_information_gain(self, features, labels):\n",
    "        total = len(labels)\n",
    "        p_gini = self._calc_gini(labels)\n",
    "        self.entropy = 0\n",
    "        for x in range(features.shape[1]):\n",
    "            criteria = np.unique(features[:, x])\n",
    "\n",
    "            for criterion in criteria:\n",
    "                l_node = labels[features[:, x] < criterion]\n",
    "                r_node = labels[features[:, x] >= criterion]\n",
    "                l_gini = (len(l_node)/total) * self._calc_gini(l_node)\n",
    "                r_gini = (len(r_node)/total) * self._calc_gini(r_node)\n",
    "                _gini = p_gini - l_gini - r_gini\n",
    "\n",
    "                if _gini > self.entropy:\n",
    "                    self.entropy = _gini\n",
    "                    self.best_feature = x\n",
    "                    self.criteria = criterion\n",
    "                    left, left_count = np.unique(l_node, return_counts=True)\n",
    "                    right, right_count = np.unique(r_node, return_counts=True)\n",
    "                    self.right_major = right[right_count.argmax()]\n",
    "                    self.left_major = left[left_count.argmax()]"
   ]
  },
  {
   "cell_type": "code",
   "execution_count": 3,
   "id": "6ae24e70",
   "metadata": {},
   "outputs": [],
   "source": [
    "model = ScratchDecesionTreeClassifierDepth1().fit(x_train, y_train)\n",
    "\n",
    "pred = model.predict(x_test)"
   ]
  },
  {
   "cell_type": "code",
   "execution_count": 4,
   "id": "91ca58de",
   "metadata": {},
   "outputs": [
    {
     "data": {
      "text/plain": [
       "(70, 2)"
      ]
     },
     "execution_count": 4,
     "metadata": {},
     "output_type": "execute_result"
    }
   ],
   "source": [
    "x_train.shape"
   ]
  },
  {
   "cell_type": "code",
   "execution_count": 5,
   "id": "d836fc03",
   "metadata": {},
   "outputs": [
    {
     "name": "stdout",
     "output_type": "stream",
     "text": [
      "Confusion Matrix: \n",
      " [[14  1]\n",
      " [ 1 14]]\n"
     ]
    }
   ],
   "source": [
    "from matplotlib import pyplot as plt\n",
    "from sklearn.metrics import confusion_matrix\n",
    "\n",
    "print(f\"Confusion Matrix: \\n {confusion_matrix(y_test, pred)}\")"
   ]
  },
  {
   "cell_type": "code",
   "execution_count": 6,
   "id": "178b15b5",
   "metadata": {},
   "outputs": [
    {
     "name": "stdout",
     "output_type": "stream",
     "text": [
      "Accuracy: 0.9333333333333333\n",
      "Recall_ score: 0.9333333333333333\n",
      "precision_score: 0.9333333333333333\n"
     ]
    }
   ],
   "source": [
    "print(f\"Accuracy: { accuracy_score(y_test, pred)}\")\n",
    "print(f\"Recall_ score: { recall_score(y_test, pred)}\")\n",
    "print(f\"precision_score: {precision_score(y_test, pred)}\")"
   ]
  },
  {
   "cell_type": "code",
   "execution_count": 7,
   "id": "ee6bca0b",
   "metadata": {},
   "outputs": [],
   "source": [
    "def decision_region(X,y,slr, xlabel=\"xlabe\", ylabel=\"ylabel\", label=[0, 1]):\n",
    "    mesh_f0, mesh_f1  = np.meshgrid(\n",
    "        np.arange(np.min(X[:,0]), np.max(X[:,0]), 0.01), \n",
    "        np.arange(np.min(X[:,1]), np.max(X[:,1]), 0.01)\n",
    "    )\n",
    "    mesh = np.c_[np.ravel(mesh_f0),np.ravel(mesh_f1)]\n",
    "    print(mesh.shape)\n",
    "    y_pred = slr.predict(mesh).reshape(mesh_f0.shape)\n",
    "    \n",
    "    plt.title('decision region')\n",
    "    plt.xlabel(xlabel)\n",
    "    plt.ylabel(ylabel)\n",
    "    plt.contourf(mesh_f0, mesh_f1, y_pred,cmap=ListedColormap(['pink', 'skyblue']))\n",
    "    plt.contour(mesh_f0, mesh_f1, y_pred,colors='red')\n",
    "    plt.scatter(X[y==0][:, 0], X[y==0][:, 1],label=label[0])\n",
    "    plt.scatter(X[y==1][:, 0], X[y==1][:, 1],label=label[1])\n",
    "    plt.legend()\n",
    "    plt.show()"
   ]
  },
  {
   "cell_type": "code",
   "execution_count": 8,
   "id": "03c145a8",
   "metadata": {},
   "outputs": [
    {
     "name": "stdout",
     "output_type": "stream",
     "text": [
      "(50000, 2)\n"
     ]
    },
    {
     "data": {
      "image/png": "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",
      "text/plain": [
       "<Figure size 640x480 with 1 Axes>"
      ]
     },
     "metadata": {},
     "output_type": "display_data"
    }
   ],
   "source": [
    "decision_region(x_test, y_test, model, \"Sepal lenght\", \"Petal length\", ['setosa' ,'versicolor'] )"
   ]
  },
  {
   "cell_type": "code",
   "execution_count": null,
   "id": "6634c8dc",
   "metadata": {},
   "outputs": [],
   "source": []
  }
 ],
 "metadata": {
  "kernelspec": {
   "display_name": "Python 3 (ipykernel)",
   "language": "python",
   "name": "python3"
  },
  "language_info": {
   "codemirror_mode": {
    "name": "ipython",
    "version": 3
   },
   "file_extension": ".py",
   "mimetype": "text/x-python",
   "name": "python",
   "nbconvert_exporter": "python",
   "pygments_lexer": "ipython3",
<<<<<<< HEAD
   "version": "3.11.8"
=======
   "version": "3.11.5"
>>>>>>> 0e0458589e53fc97f4cd60a991feb94f9bab1731
  }
 },
 "nbformat": 4,
 "nbformat_minor": 5
}
