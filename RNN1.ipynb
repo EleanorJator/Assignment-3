{
  "nbformat": 4,
  "nbformat_minor": 0,
  "metadata": {
    "colab": {
      "provenance": [],
      "authorship_tag": "ABX9TyP3Ptj/0pbeVBPJKMXDFAgJ",
      "include_colab_link": true
    },
    "kernelspec": {
      "name": "python3",
      "display_name": "Python 3"
    },
    "language_info": {
      "name": "python"
    }
  },
  "cells": [
    {
      "cell_type": "markdown",
      "metadata": {
        "id": "view-in-github",
        "colab_type": "text"
      },
      "source": [
        "<a href=\"https://colab.research.google.com/github/EleanorJator/Dpro_Assignments-/blob/main/RNN1.ipynb\" target=\"_parent\"><img src=\"https://colab.research.google.com/assets/colab-badge.svg\" alt=\"Open In Colab\"/></a>"
      ]
    },
    {
      "cell_type": "code",
      "source": [
        "import numpy as np"
      ],
      "metadata": {
        "id": "7xEzz8utNyCi"
      },
      "execution_count": 1,
      "outputs": []
    },
    {
      "cell_type": "code",
      "source": [
        "def forward(x,h):\n",
        "    for n in range(n_sequences):\n",
        "        h = np.tanh(x[:, n, :] @ w_x + h @ w_h + b)\n",
        "    return h"
      ],
      "metadata": {
        "id": "BMfmUAacN6S3"
      },
      "execution_count": 2,
      "outputs": []
    },
    {
      "cell_type": "markdown",
      "source": [
        "PROBLEM 2"
      ],
      "metadata": {
        "id": "QvsvGlQ2OEGb"
      }
    },
    {
      "cell_type": "code",
      "source": [
        "x = np.array([[[1, 2], [2, 3], [3, 4]]])/100 # (batch_size, n_sequences, n_features)\n",
        "w_x = np.array([[1, 3, 5, 7], [3, 5, 7, 8]])/100 # (n_features, n_nodes)\n",
        "w_h = np.array([[1, 3, 5, 7], [2, 4, 6, 8], [3, 5, 7, 8], [4, 6, 8, 10]])/100 # (n_nodes, n_nodes)\n",
        "batch_size = x.shape[0] # 1\n",
        "n_sequences = x.shape[1] # 3\n",
        "n_features = x.shape[2] # 2\n",
        "n_nodes = w_x.shape[1] # 4\n",
        "h = np.zeros((batch_size, n_nodes)) # (batch_size, n_nodes)\n",
        "b = np.array([1, 1, 1, 1]) # (n_nodes,)"
      ],
      "metadata": {
        "id": "qMgm1YkzN-Jg"
      },
      "execution_count": 3,
      "outputs": []
    },
    {
      "cell_type": "code",
      "source": [
        "forward(x,h)"
      ],
      "metadata": {
        "colab": {
          "base_uri": "https://localhost:8080/"
        },
        "id": "VQlT6YKtOKxp",
        "outputId": "df30fe37-386b-4185-edd6-7fe5cae7ef88"
      },
      "execution_count": 4,
      "outputs": [
        {
          "output_type": "execute_result",
          "data": {
            "text/plain": [
              "array([[0.79494228, 0.81839002, 0.83939649, 0.85584174]])"
            ]
          },
          "metadata": {},
          "execution_count": 4
        }
      ]
    },
    {
      "cell_type": "markdown",
      "source": [
        "PROBLEM 3"
      ],
      "metadata": {
        "id": "YXmaoqkUOcvJ"
      }
    },
    {
      "cell_type": "code",
      "source": [
        "class SimpleInitializer:\n",
        "\n",
        "    def __init__(self, sigma):\n",
        "        self.sigma = sigma\n",
        "    def W(self, n_nodes1, n_nodes2):\n",
        "        W = self.sigma * np.random.randn(n_nodes1, n_nodes2)\n",
        "        return W\n",
        "    def B(self, n_nodes2):\n",
        "        B = self.sigma * np.random.randn(1, n_nodes2)\n",
        "        return B"
      ],
      "metadata": {
        "id": "ukNlPwGDOPQx"
      },
      "execution_count": 5,
      "outputs": []
    },
    {
      "cell_type": "code",
      "source": [
        "class SGD:\n",
        "\n",
        "    def __init__(self, lr):\n",
        "        self.lr = lr\n",
        "    def update(self, layer):\n",
        "        layer.W_x-= self.lr * layer.dWx\n",
        "        layer.W_h-= self.lr * layer.dWh\n",
        "        layer.B -= self.lr + layer.dB\n",
        "        return layer"
      ],
      "metadata": {
        "id": "PbiAThapO1YK"
      },
      "execution_count": 6,
      "outputs": []
    },
    {
      "cell_type": "code",
      "source": [
        "class Tanh:\n",
        "    def forward(self, A):\n",
        "        self.A = A\n",
        "        Z = np.tanh(self.A)\n",
        "        return Z\n",
        "    def backward (self, dZ):\n",
        "        dA = dZ * (1-np.tanh(self.A)**2)\n",
        "        return dA"
      ],
      "metadata": {
        "id": "6zpZuYAXO49I"
      },
      "execution_count": 7,
      "outputs": []
    },
    {
      "cell_type": "code",
      "source": [
        "class ScratchDeepNeuralNetworkClassifier():\n",
        "    def __init__(self):\n",
        "        self.Wx = np.array([[1, 3, 5, 7], [3, 5, 7, 8]])/100 # (n_features, n_nodes)\n",
        "        self.Wh = np.array([[1, 3, 5, 7], [2, 4, 6, 8], [3, 5, 7, 8], [4, 6, 8, 10]])/100 # (n_nodes, n_nodes)\n",
        "        self.b = np.array([1, 1, 1, 1]) # (n_nodes,)\n",
        "        self.db = 0\n",
        "        self.dwh =0\n",
        "        self.dwx =0\n",
        "        self.activator = Tanh()\n",
        "        self.optimizer = SGD(lr=0.001)\n",
        "        self.h_his =[]\n",
        "\n",
        "    def forward (self, X):\n",
        "      self.X = X\n",
        "      batch_size = X.shape[0] # 1\n",
        "      n_sequences = X.shape[1] # 3\n",
        "      n_features = X.shape[2] # 2\n",
        "      n_nodes = self.Wx.shape[1] # 4\n",
        "      h= np.zeros((batch_size, n_nodes)) # (batch_size, n_nodes)\n",
        "      for n in range(n_sequences):\n",
        "        A=x[:, n, :] @ self.Wx + h @ self.Wh + self.b\n",
        "        h = self.activator.forward(A)\n",
        "        self.h_his.append(h)\n",
        "      return h\n",
        "    def backward(self, dh):\n",
        "      dA = self.activator.backward(dh)\n",
        "      for n in range(self.n_features)[::-1]:\n",
        "        self.db+=np.sum(dA, axis=0)\n",
        "        self.dwx+=x[:,n, :].T @ dA\n",
        "        self.dwh+=h[n].T @ dA\n",
        "\n",
        "\n",
        "        dx= dA @ Wx\n",
        "        dh= dA @ Wh\n",
        "      return dx, dh"
      ],
      "metadata": {
        "id": "mezYvJgpO81g"
      },
      "execution_count": 8,
      "outputs": []
    },
    {
      "cell_type": "code",
      "source": [
        "test = ScratchDeepNeuralNetworkClassifier()\n",
        "test.forward(x)\n"
      ],
      "metadata": {
        "colab": {
          "base_uri": "https://localhost:8080/"
        },
        "id": "e-oG29BGPBaL",
        "outputId": "aab250ee-d7cb-4686-a557-04ef8fd9dc00"
      },
      "execution_count": 9,
      "outputs": [
        {
          "output_type": "execute_result",
          "data": {
            "text/plain": [
              "array([[0.79494228, 0.81839002, 0.83939649, 0.85584174]])"
            ]
          },
          "metadata": {},
          "execution_count": 9
        }
      ]
    }
  ]
}