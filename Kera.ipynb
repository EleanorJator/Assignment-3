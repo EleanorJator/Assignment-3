{
 "cells": [
  {
   "cell_type": "code",
   "execution_count": 1,
   "id": "f21bc1d1-ac21-4ac2-b959-38e241afbcb9",
   "metadata": {},
   "outputs": [
    {
     "name": "stdout",
     "output_type": "stream",
     "text": [
      "WARNING:tensorflow:From C:\\Users\\cbt04\\AppData\\Local\\Programs\\Python\\Python311\\Lib\\site-packages\\keras\\src\\losses.py:2976: The name tf.losses.sparse_softmax_cross_entropy is deprecated. Please use tf.compat.v1.losses.sparse_softmax_cross_entropy instead.\n",
      "\n"
     ]
    }
   ],
   "source": [
    "import tensorflow as tf\n",
    "import keras\n",
    "from sklearn.datasets import load_iris\n",
    "from matplotlib import pyplot as plt\n",
    "import pandas as pd\n",
    "from sklearn.model_selection import train_test_split \n",
    "import numpy as np\n",
    "from sklearn.preprocessing import OneHotEncoder \n",
    "import seaborn as sns"
   ]
  },
  {
   "cell_type": "markdown",
   "id": "065d9106-c169-44f7-ae63-8789066e3043",
   "metadata": {},
   "source": [
    "Problem 1 & 2"
   ]
  },
  {
   "cell_type": "code",
   "execution_count": 4,
   "id": "aa032153-fd84-4b7a-ba42-b2fbb91d3a89",
   "metadata": {},
   "outputs": [],
   "source": [
    "iris_data = load_iris(as_frame=True)\n",
    "\n",
    "features = iris_data[\"data\"]\n",
    "target = iris_data[\"target\"]\n",
    "\n",
    "\n",
    "data = pd.concat([features, target], axis=1)\n",
    "\n",
    "interest = data.query(\"target != 2\").iloc[:, ::2].to_numpy().astype(np.float32)"
   ]
  },
  {
   "cell_type": "code",
   "execution_count": 5,
   "id": "e9c36f1a-a8ec-4830-8ded-184e7b19fec6",
   "metadata": {},
   "outputs": [],
   "source": [
    "x_train, x_test, y_train, y_test = train_test_split(interest[:, :2], interest[:, -1], test_size=0.2)\n",
    "\n",
    "x_input = x_train.shape[1]"
   ]
  },
  {
   "cell_type": "markdown",
   "id": "fcca89d5-785c-4009-9d65-c50d79f7f617",
   "metadata": {},
   "source": [
    "problem 3"
   ]
  },
  {
   "cell_type": "code",
   "execution_count": 7,
   "id": "85ae63aa-1b78-4a18-b385-f652fa23f733",
   "metadata": {},
   "outputs": [
    {
     "name": "stdout",
     "output_type": "stream",
     "text": [
      "WARNING:tensorflow:From C:\\Users\\cbt04\\AppData\\Local\\Programs\\Python\\Python311\\Lib\\site-packages\\keras\\src\\backend.py:873: The name tf.get_default_graph is deprecated. Please use tf.compat.v1.get_default_graph instead.\n",
      "\n",
      "WARNING:tensorflow:From C:\\Users\\cbt04\\AppData\\Local\\Programs\\Python\\Python311\\Lib\\site-packages\\keras\\src\\optimizers\\__init__.py:309: The name tf.train.Optimizer is deprecated. Please use tf.compat.v1.train.Optimizer instead.\n",
      "\n",
      "Epoch 1/20\n",
      "WARNING:tensorflow:From C:\\Users\\cbt04\\AppData\\Local\\Programs\\Python\\Python311\\Lib\\site-packages\\keras\\src\\utils\\tf_utils.py:492: The name tf.ragged.RaggedTensorValue is deprecated. Please use tf.compat.v1.ragged.RaggedTensorValue instead.\n",
      "\n",
      "WARNING:tensorflow:From C:\\Users\\cbt04\\AppData\\Local\\Programs\\Python\\Python311\\Lib\\site-packages\\keras\\src\\engine\\base_layer_utils.py:384: The name tf.executing_eagerly_outside_functions is deprecated. Please use tf.compat.v1.executing_eagerly_outside_functions instead.\n",
      "\n",
      "3/3 [==============================] - 7s 49ms/step - loss: 0.6012 - accuracy: 0.5750\n",
      "Epoch 2/20\n",
      "3/3 [==============================] - 0s 0s/step - loss: 0.5646 - accuracy: 0.5750\n",
      "Epoch 3/20\n",
      "3/3 [==============================] - 0s 12ms/step - loss: 0.5319 - accuracy: 0.5750\n",
      "Epoch 4/20\n",
      "3/3 [==============================] - 0s 5ms/step - loss: 0.5012 - accuracy: 0.5750\n",
      "Epoch 5/20\n",
      "3/3 [==============================] - 0s 18ms/step - loss: 0.4765 - accuracy: 0.6125\n",
      "Epoch 6/20\n",
      "3/3 [==============================] - 0s 54ms/step - loss: 0.4513 - accuracy: 0.6875\n",
      "Epoch 7/20\n",
      "3/3 [==============================] - 0s 33ms/step - loss: 0.4253 - accuracy: 0.9125\n",
      "Epoch 8/20\n",
      "3/3 [==============================] - 0s 18ms/step - loss: 0.3990 - accuracy: 0.9750\n",
      "Epoch 9/20\n",
      "3/3 [==============================] - 0s 8ms/step - loss: 0.3734 - accuracy: 0.9875\n",
      "Epoch 10/20\n",
      "3/3 [==============================] - 0s 16ms/step - loss: 0.3495 - accuracy: 1.0000\n",
      "Epoch 11/20\n",
      "3/3 [==============================] - 0s 3ms/step - loss: 0.3245 - accuracy: 1.0000\n",
      "Epoch 12/20\n",
      "3/3 [==============================] - 0s 9ms/step - loss: 0.2996 - accuracy: 1.0000\n",
      "Epoch 13/20\n",
      "3/3 [==============================] - 0s 17ms/step - loss: 0.2756 - accuracy: 1.0000\n",
      "Epoch 14/20\n",
      "3/3 [==============================] - 0s 10ms/step - loss: 0.2550 - accuracy: 1.0000\n",
      "Epoch 15/20\n",
      "3/3 [==============================] - 0s 12ms/step - loss: 0.2368 - accuracy: 1.0000\n",
      "Epoch 16/20\n",
      "3/3 [==============================] - 0s 13ms/step - loss: 0.2170 - accuracy: 1.0000\n",
      "Epoch 17/20\n",
      "3/3 [==============================] - 0s 13ms/step - loss: 0.1993 - accuracy: 1.0000\n",
      "Epoch 18/20\n",
      "3/3 [==============================] - 0s 11ms/step - loss: 0.1821 - accuracy: 1.0000\n",
      "Epoch 19/20\n",
      "3/3 [==============================] - 0s 20ms/step - loss: 0.1684 - accuracy: 1.0000\n",
      "Epoch 20/20\n",
      "3/3 [==============================] - 0s 15ms/step - loss: 0.1529 - accuracy: 1.0000\n"
     ]
    },
    {
     "data": {
      "text/plain": [
       "<keras.src.callbacks.History at 0x155b5a95a10>"
      ]
     },
     "execution_count": 7,
     "metadata": {},
     "output_type": "execute_result"
    }
   ],
   "source": [
    "model = keras.Sequential()\n",
    "\n",
    "model.add(keras.layers.Input((x_input,), 20))\n",
    "model.add(keras.layers.Dense(100, activation=\"relu\"))\n",
    "model.add(keras.layers.Dense(50, keras.activations.relu))\n",
    "model.add(keras.layers.Dense(1, activation=tf.nn.sigmoid))\n",
    "\n",
    "model.compile(optimizer=\"adam\", loss=keras.losses.binary_crossentropy, metrics=[\"accuracy\"])\n",
    "\n",
    "model.fit(x_train, y_train, epochs=20)"
   ]
  },
  {
   "cell_type": "code",
   "execution_count": 8,
   "id": "e326ca99-1e10-46d3-b61e-ca623d24b64a",
   "metadata": {},
   "outputs": [
    {
     "name": "stdout",
     "output_type": "stream",
     "text": [
      "Epoch 1/20\n",
      "3/3 [==============================] - 2s 8ms/step - loss: 0.6113 - accuracy: 0.5750\n",
      "Epoch 2/20\n",
      "3/3 [==============================] - 0s 5ms/step - loss: 0.5610 - accuracy: 0.5750\n",
      "Epoch 3/20\n",
      "3/3 [==============================] - 0s 8ms/step - loss: 0.5274 - accuracy: 0.5750\n",
      "Epoch 4/20\n",
      "3/3 [==============================] - 0s 8ms/step - loss: 0.4928 - accuracy: 0.5750\n",
      "Epoch 5/20\n",
      "3/3 [==============================] - 0s 9ms/step - loss: 0.4591 - accuracy: 0.7625\n",
      "Epoch 6/20\n",
      "3/3 [==============================] - 0s 4ms/step - loss: 0.4328 - accuracy: 0.9750\n",
      "Epoch 7/20\n",
      "3/3 [==============================] - 0s 7ms/step - loss: 0.4016 - accuracy: 1.0000\n",
      "Epoch 8/20\n",
      "3/3 [==============================] - 0s 8ms/step - loss: 0.3730 - accuracy: 1.0000\n",
      "Epoch 9/20\n",
      "3/3 [==============================] - 0s 9ms/step - loss: 0.3454 - accuracy: 1.0000\n",
      "Epoch 10/20\n",
      "3/3 [==============================] - 0s 7ms/step - loss: 0.3181 - accuracy: 1.0000\n",
      "Epoch 11/20\n",
      "3/3 [==============================] - 0s 6ms/step - loss: 0.2929 - accuracy: 1.0000\n",
      "Epoch 12/20\n",
      "3/3 [==============================] - 0s 7ms/step - loss: 0.2692 - accuracy: 1.0000\n",
      "Epoch 13/20\n",
      "3/3 [==============================] - 0s 10ms/step - loss: 0.2447 - accuracy: 1.0000\n",
      "Epoch 14/20\n",
      "3/3 [==============================] - 0s 7ms/step - loss: 0.2215 - accuracy: 1.0000\n",
      "Epoch 15/20\n",
      "3/3 [==============================] - 0s 8ms/step - loss: 0.2005 - accuracy: 1.0000\n",
      "Epoch 16/20\n",
      "3/3 [==============================] - 0s 9ms/step - loss: 0.1815 - accuracy: 1.0000\n",
      "Epoch 17/20\n",
      "3/3 [==============================] - 0s 10ms/step - loss: 0.1640 - accuracy: 1.0000\n",
      "Epoch 18/20\n",
      "3/3 [==============================] - 0s 12ms/step - loss: 0.1479 - accuracy: 1.0000\n",
      "Epoch 19/20\n",
      "3/3 [==============================] - 0s 15ms/step - loss: 0.1327 - accuracy: 1.0000\n",
      "Epoch 20/20\n",
      "3/3 [==============================] - 0s 11ms/step - loss: 0.1195 - accuracy: 1.0000\n"
     ]
    },
    {
     "data": {
      "text/plain": [
       "<keras.src.callbacks.History at 0x155b5c30ad0>"
      ]
     },
     "execution_count": 8,
     "metadata": {},
     "output_type": "execute_result"
    }
   ],
   "source": [
    "model = keras.Sequential()\n",
    "\n",
    "model.add(keras.layers.Input((x_input,), 20))\n",
    "model.add(keras.layers.Dense(100, activation=\"relu\"))\n",
    "model.add(keras.layers.Dense(50, keras.activations.relu))\n",
    "model.add(keras.layers.Dense(1, activation=tf.nn.sigmoid))\n",
    "\n",
    "model.compile(optimizer=\"adam\", loss=keras.losses.binary_crossentropy, metrics=[\"accuracy\"])\n",
    "\n",
    "model.fit(x_train, y_train, epochs=20)"
   ]
  },
  {
   "cell_type": "code",
   "execution_count": 9,
   "id": "282c8a54-9f8f-480a-b95b-f2572c4df5b2",
   "metadata": {},
   "outputs": [
    {
     "name": "stdout",
     "output_type": "stream",
     "text": [
      "1/1 - 1s - loss: 0.1331 - accuracy: 1.0000 - 506ms/epoch - 506ms/step\n",
      "1/1 [==============================] - 0s 234ms/step\n"
     ]
    },
    {
     "data": {
      "text/plain": [
       "<matplotlib.collections.PathCollection at 0x155b7e3f810>"
      ]
     },
     "execution_count": 9,
     "metadata": {},
     "output_type": "execute_result"
    },
    {
     "data": {
      "image/png": "[encoded data removed]",
      "text/plain": [
       "<Figure size 640x480 with 1 Axes>"
      ]
     },
     "metadata": {},
     "output_type": "display_data"
    }
   ],
   "source": [
    "model.evaluate(x_test, y_test, verbose=2)\n",
    "\n",
    "pred = model.predict(x_test)\n",
    "\n",
    "plt.scatter(np.where(pred > 0.5, 1, 0), y_test)"
   ]
  },
  {
   "cell_type": "markdown",
   "id": "9537bb7d-180d-4548-958b-b1dbf2cd6f05",
   "metadata": {},
   "source": [
    "Problem 4"
   ]
  },
  {
   "cell_type": "code",
   "execution_count": 11,
   "id": "cbf3b96a-c103-4571-a6ea-5d168f9fb667",
   "metadata": {},
   "outputs": [],
   "source": [
    "class MultiClassification(keras.Model):\n",
    "    def __init__(self, n_class):\n",
    "        super().__init__()\n",
    "        \n",
    "        self.dense1 = keras.layers.Dense(100, activation=\"relu\")\n",
    "        self.dense2 = keras.layers.Dense(50, activation=\"relu\")\n",
    "        self.out = keras.layers.Dense(n_class, activation= \"softmax\")\n",
    "    \n",
    "    def call(self, input, training=False):\n",
    "        x = self.dense1(input)\n",
    "        x = self.dense2(x)\n",
    "\n",
    "        return self.out(x)"
   ]
  },
  {
   "cell_type": "code",
   "execution_count": 12,
   "id": "57e9fdaa-a9e1-4b8a-8893-3633e094ebd6",
   "metadata": {},
   "outputs": [],
   "source": [
    "x = features.to_numpy()\n",
    "onv = OneHotEncoder(sparse_output=False)\n",
    "\n",
    "target = target.to_numpy().reshape(-1, 1)\n",
    "target = onv.fit_transform(target)\n",
    "x_train, x_test, y_train, y_test = train_test_split(features.to_numpy(), target, test_size=0.2)\n",
    "\n",
    "\n",
    "\n",
    "x_train, x_val, y_train, y_val = train_test_split(x_train, y_train,test_size=0.2)"
   ]
  },
  {
   "cell_type": "code",
   "execution_count": 14,
   "id": "fd6b8faa-064a-4186-afad-d22a86d6c211",
   "metadata": {},
   "outputs": [
    {
     "name": "stdout",
     "output_type": "stream",
     "text": [
      "Epoch 1/40\n",
      "5/5 [==============================] - 4s 153ms/step - loss: 1.1159 - accuracy: 0.3438 - val_loss: 0.9959 - val_accuracy: 0.3750\n",
      "Epoch 2/40\n",
      "5/5 [==============================] - 0s 45ms/step - loss: 0.9244 - accuracy: 0.6146 - val_loss: 0.8543 - val_accuracy: 0.7083\n",
      "Epoch 3/40\n",
      "5/5 [==============================] - 0s 34ms/step - loss: 0.8002 - accuracy: 0.9375 - val_loss: 0.7273 - val_accuracy: 0.8750\n",
      "Epoch 4/40\n",
      "5/5 [==============================] - 0s 35ms/step - loss: 0.7137 - accuracy: 0.6771 - val_loss: 0.6336 - val_accuracy: 0.7500\n",
      "Epoch 5/40\n",
      "5/5 [==============================] - 0s 37ms/step - loss: 0.6333 - accuracy: 0.6458 - val_loss: 0.5745 - val_accuracy: 0.8333\n",
      "Epoch 6/40\n",
      "5/5 [==============================] - 0s 35ms/step - loss: 0.5712 - accuracy: 0.8333 - val_loss: 0.5232 - val_accuracy: 0.8750\n",
      "Epoch 7/40\n",
      "5/5 [==============================] - 0s 32ms/step - loss: 0.5248 - accuracy: 0.8542 - val_loss: 0.4752 - val_accuracy: 0.8750\n",
      "Epoch 8/40\n",
      "5/5 [==============================] - 0s 32ms/step - loss: 0.4856 - accuracy: 0.8646 - val_loss: 0.4517 - val_accuracy: 0.9583\n",
      "Epoch 9/40\n",
      "5/5 [==============================] - 0s 33ms/step - loss: 0.4549 - accuracy: 0.9375 - val_loss: 0.4251 - val_accuracy: 0.9583\n",
      "Epoch 10/40\n",
      "5/5 [==============================] - 0s 37ms/step - loss: 0.4283 - accuracy: 0.9479 - val_loss: 0.3987 - val_accuracy: 0.9583\n",
      "Epoch 11/40\n",
      "5/5 [==============================] - 0s 46ms/step - loss: 0.4075 - accuracy: 0.9688 - val_loss: 0.3789 - val_accuracy: 0.9583\n",
      "Epoch 12/40\n",
      "5/5 [==============================] - 0s 43ms/step - loss: 0.3877 - accuracy: 0.9271 - val_loss: 0.3559 - val_accuracy: 0.9583\n",
      "Epoch 13/40\n",
      "5/5 [==============================] - 0s 44ms/step - loss: 0.3747 - accuracy: 0.8854 - val_loss: 0.3425 - val_accuracy: 0.9583\n",
      "Epoch 14/40\n",
      "5/5 [==============================] - 0s 37ms/step - loss: 0.3561 - accuracy: 0.9375 - val_loss: 0.3499 - val_accuracy: 0.9167\n",
      "Epoch 15/40\n",
      "5/5 [==============================] - 0s 39ms/step - loss: 0.3399 - accuracy: 0.9479 - val_loss: 0.3240 - val_accuracy: 1.0000\n",
      "Epoch 16/40\n",
      "5/5 [==============================] - 0s 38ms/step - loss: 0.3244 - accuracy: 0.9688 - val_loss: 0.2994 - val_accuracy: 0.9583\n",
      "Epoch 17/40\n",
      "5/5 [==============================] - 0s 39ms/step - loss: 0.3100 - accuracy: 0.9479 - val_loss: 0.2997 - val_accuracy: 1.0000\n",
      "Epoch 18/40\n",
      "5/5 [==============================] - 0s 42ms/step - loss: 0.2951 - accuracy: 0.9688 - val_loss: 0.2888 - val_accuracy: 1.0000\n",
      "Epoch 19/40\n",
      "5/5 [==============================] - 0s 32ms/step - loss: 0.2856 - accuracy: 0.9688 - val_loss: 0.2761 - val_accuracy: 1.0000\n",
      "Epoch 20/40\n",
      "5/5 [==============================] - 0s 39ms/step - loss: 0.2726 - accuracy: 0.9688 - val_loss: 0.2611 - val_accuracy: 0.9583\n",
      "Epoch 21/40\n",
      "5/5 [==============================] - 0s 34ms/step - loss: 0.2595 - accuracy: 0.9792 - val_loss: 0.2667 - val_accuracy: 1.0000\n",
      "Epoch 22/40\n",
      "5/5 [==============================] - 0s 35ms/step - loss: 0.2537 - accuracy: 0.9792 - val_loss: 0.2444 - val_accuracy: 1.0000\n",
      "Epoch 23/40\n",
      "5/5 [==============================] - 0s 35ms/step - loss: 0.2384 - accuracy: 0.9688 - val_loss: 0.2420 - val_accuracy: 1.0000\n",
      "Epoch 24/40\n",
      "5/5 [==============================] - 0s 33ms/step - loss: 0.2501 - accuracy: 0.9271 - val_loss: 0.2525 - val_accuracy: 0.8750\n",
      "Epoch 25/40\n",
      "5/5 [==============================] - 0s 34ms/step - loss: 0.2264 - accuracy: 0.9583 - val_loss: 0.2127 - val_accuracy: 0.9583\n",
      "Epoch 26/40\n",
      "5/5 [==============================] - 0s 33ms/step - loss: 0.2220 - accuracy: 0.9688 - val_loss: 0.2246 - val_accuracy: 1.0000\n",
      "Epoch 27/40\n",
      "5/5 [==============================] - 0s 30ms/step - loss: 0.2056 - accuracy: 0.9792 - val_loss: 0.2178 - val_accuracy: 1.0000\n",
      "Epoch 28/40\n",
      "5/5 [==============================] - 0s 29ms/step - loss: 0.2012 - accuracy: 0.9688 - val_loss: 0.2030 - val_accuracy: 1.0000\n",
      "Epoch 29/40\n",
      "5/5 [==============================] - 0s 30ms/step - loss: 0.1912 - accuracy: 0.9688 - val_loss: 0.2059 - val_accuracy: 1.0000\n",
      "Epoch 30/40\n",
      "5/5 [==============================] - 0s 33ms/step - loss: 0.1949 - accuracy: 0.9479 - val_loss: 0.2195 - val_accuracy: 0.8750\n",
      "Epoch 31/40\n",
      "5/5 [==============================] - 0s 58ms/step - loss: 0.1899 - accuracy: 0.9375 - val_loss: 0.1785 - val_accuracy: 0.9583\n",
      "Epoch 32/40\n",
      "5/5 [==============================] - 0s 36ms/step - loss: 0.1775 - accuracy: 0.9688 - val_loss: 0.2027 - val_accuracy: 0.9583\n",
      "Epoch 33/40\n",
      "5/5 [==============================] - 0s 36ms/step - loss: 0.1735 - accuracy: 0.9479 - val_loss: 0.1902 - val_accuracy: 0.9583\n",
      "Epoch 34/40\n",
      "5/5 [==============================] - 0s 34ms/step - loss: 0.1607 - accuracy: 0.9792 - val_loss: 0.1677 - val_accuracy: 1.0000\n",
      "Epoch 35/40\n",
      "5/5 [==============================] - 0s 31ms/step - loss: 0.1659 - accuracy: 0.9688 - val_loss: 0.1798 - val_accuracy: 1.0000\n",
      "Epoch 36/40\n",
      "5/5 [==============================] - 0s 36ms/step - loss: 0.1542 - accuracy: 0.9792 - val_loss: 0.1760 - val_accuracy: 1.0000\n",
      "Epoch 37/40\n",
      "5/5 [==============================] - 0s 32ms/step - loss: 0.1515 - accuracy: 0.9688 - val_loss: 0.1643 - val_accuracy: 1.0000\n",
      "Epoch 38/40\n",
      "5/5 [==============================] - 0s 31ms/step - loss: 0.1465 - accuracy: 0.9688 - val_loss: 0.1704 - val_accuracy: 0.9583\n",
      "Epoch 39/40\n",
      "5/5 [==============================] - 0s 31ms/step - loss: 0.1488 - accuracy: 0.9479 - val_loss: 0.1743 - val_accuracy: 0.9583\n",
      "Epoch 40/40\n",
      "5/5 [==============================] - 0s 34ms/step - loss: 0.1550 - accuracy: 0.9583 - val_loss: 0.1438 - val_accuracy: 0.9583\n"
     ]
    },
    {
     "data": {
      "text/plain": [
       "<keras.src.callbacks.History at 0x155b59f7cd0>"
      ]
     },
     "execution_count": 14,
     "metadata": {},
     "output_type": "execute_result"
    }
   ],
   "source": [
    "model = MultiClassification(3)\n",
    "\n",
    "model.compile(optimizer=\"Adam\", loss=keras.losses.categorical_crossentropy, metrics=[\"accuracy\"])\n",
    "\n",
    "model.fit(x_train, y_train, epochs=40, batch_size=20, validation_data=[x_val, y_val])"
   ]
  },
  {
   "cell_type": "code",
   "execution_count": 15,
   "id": "1615ac6d-ca15-4352-b5e3-0e1f625b49e2",
   "metadata": {},
   "outputs": [
    {
     "name": "stdout",
     "output_type": "stream",
     "text": [
      "1/1 [==============================] - 0s 73ms/step - loss: 0.0782 - accuracy: 1.0000\n"
     ]
    },
    {
     "data": {
      "text/plain": [
       "[0.07819619029760361, 1.0]"
      ]
     },
     "execution_count": 15,
     "metadata": {},
     "output_type": "execute_result"
    }
   ],
   "source": [
    "model.evaluate(x_test, y_test)"
   ]
  },
  {
   "cell_type": "code",
   "execution_count": 16,
   "id": "6ea7bdd4-1ac5-4a4e-842f-57d1193053b0",
   "metadata": {},
   "outputs": [
    {
     "name": "stdout",
     "output_type": "stream",
     "text": [
      "1/1 [==============================] - 0s 149ms/step\n"
     ]
    },
    {
     "data": {
      "text/plain": [
       "Text(0.5, 0, ' prediction')"
      ]
     },
     "execution_count": 16,
     "metadata": {},
     "output_type": "execute_result"
    },
    {
     "data": {
      "image/png": "[encoded data removed]",
      "text/plain": [
       "<Figure size 640x480 with 1 Axes>"
      ]
     },
     "metadata": {},
     "output_type": "display_data"
    }
   ],
   "source": [
    "pred = np.argmax(model.predict(x_test), 1)\n",
    "\n",
    "plt.scatter(pred, np.argmax(y_test, 1))\n",
    "plt.ylabel(\"true value\")\n",
    "plt.xlabel(\" prediction\")"
   ]
  },
  {
   "cell_type": "markdown",
   "id": "7f404261-4706-458f-9862-98fa7022517a",
   "metadata": {},
   "source": [
    "Problem 5"
   ]
  },
  {
   "cell_type": "code",
   "execution_count": 17,
   "id": "1a75120e-2288-4ebc-b1c3-10a3215a8a98",
   "metadata": {
    "scrolled": true
   },
   "outputs": [
    {
     "data": {
      "image/png": "[encoded data removed]",
      "text/plain": [
       "<Figure size 640x480 with 1 Axes>"
      ]
     },
     "metadata": {},
     "output_type": "display_data"
    }
   ],
   "source": [
    "houseData = pd.read_csv(\"./data/train.csv\")\n",
    "\n",
    "potential = houseData.corr(numeric_only=True)[\"SalePrice\"]\n",
    "potential = potential[potential > 0.65]\n",
    "\n",
    "sns.barplot(potential)\n",
    "\n",
    "features = potential.keys()\n",
    "\n",
    "x_train, x_test, y_train, y_test = train_test_split(houseData[features].to_numpy(), houseData[\"SalePrice\"], test_size=0.2)\n",
    "\n",
    "x_train, x_val, y_train, y_val = train_test_split(x_train, y_train, test_size=0.2)"
   ]
  },
  {
   "cell_type": "code",
   "execution_count": 18,
   "id": "53651318-7402-4153-b71b-3c6dcb6056f9",
   "metadata": {},
   "outputs": [],
   "source": [
    "class LinearRegression(keras.Model):\n",
    "    def __init__(self):\n",
    "        super().__init__()\n",
    "        self.layer1 = keras.layers.Dense(500)\n",
    "        self.layer2 = keras.layers.Dense(250)\n",
    "        self.layer3 = keras.layers.Dense(125)\n",
    "        self.layer4 = keras.layers.Dense(20)\n",
    "        self.out = keras.layers.Dense(1)\n",
    "    \n",
    "    def call(self, x_input):\n",
    "        x = self.layer1(x_input)\n",
    "        x = self.layer2(x)\n",
    "        x = self.layer3(x)\n",
    "        x = self.layer4(x)\n",
    "        return self.out(x)"
   ]
  },
  {
   "cell_type": "code",
   "execution_count": 19,
   "id": "1821a70e-3f70-4bb2-9309-570238adf962",
   "metadata": {},
   "outputs": [
    {
     "name": "stdout",
     "output_type": "stream",
     "text": [
      "Epoch 1/50\n",
      "47/47 [==============================] - 4s 20ms/step - loss: 0.1507 - val_loss: 0.0071\n",
      "Epoch 2/50\n",
      "47/47 [==============================] - 0s 10ms/step - loss: 8.3584e-04 - val_loss: 3.1727e-06\n",
      "Epoch 3/50\n",
      "47/47 [==============================] - 1s 12ms/step - loss: 8.3240e-06 - val_loss: 7.3528e-07\n",
      "Epoch 4/50\n",
      "47/47 [==============================] - 1s 12ms/step - loss: 2.2644e-07 - val_loss: 2.8996e-07\n",
      "Epoch 5/50\n",
      "47/47 [==============================] - 1s 12ms/step - loss: 1.5926e-07 - val_loss: 2.9102e-07\n",
      "Epoch 6/50\n",
      "47/47 [==============================] - 1s 15ms/step - loss: 1.5843e-07 - val_loss: 2.8784e-07\n",
      "Epoch 7/50\n",
      "47/47 [==============================] - 1s 11ms/step - loss: 1.6004e-07 - val_loss: 2.8902e-07\n",
      "Epoch 8/50\n",
      "47/47 [==============================] - 1s 11ms/step - loss: 1.5771e-07 - val_loss: 2.9063e-07\n",
      "Epoch 9/50\n",
      "47/47 [==============================] - 1s 11ms/step - loss: 1.5815e-07 - val_loss: 2.8929e-07\n",
      "Epoch 10/50\n",
      "47/47 [==============================] - 1s 12ms/step - loss: 1.6069e-07 - val_loss: 2.8672e-07\n",
      "Epoch 11/50\n",
      "47/47 [==============================] - 1s 15ms/step - loss: 1.5798e-07 - val_loss: 2.8800e-07\n",
      "Epoch 12/50\n",
      "47/47 [==============================] - 1s 14ms/step - loss: 1.5731e-07 - val_loss: 2.8511e-07\n",
      "Epoch 13/50\n",
      "47/47 [==============================] - 1s 11ms/step - loss: 1.5702e-07 - val_loss: 2.8818e-07\n",
      "Epoch 14/50\n",
      "47/47 [==============================] - 1s 11ms/step - loss: 1.5838e-07 - val_loss: 2.8398e-07\n",
      "Epoch 15/50\n",
      "47/47 [==============================] - 1s 11ms/step - loss: 1.5756e-07 - val_loss: 2.8638e-07\n",
      "Epoch 16/50\n",
      "47/47 [==============================] - 1s 11ms/step - loss: 1.5634e-07 - val_loss: 2.9191e-07\n",
      "Epoch 17/50\n",
      "47/47 [==============================] - 1s 11ms/step - loss: 1.5743e-07 - val_loss: 2.8267e-07\n",
      "Epoch 18/50\n",
      "47/47 [==============================] - 1s 11ms/step - loss: 1.5549e-07 - val_loss: 2.8363e-07\n",
      "Epoch 19/50\n",
      "47/47 [==============================] - 1s 11ms/step - loss: 1.5560e-07 - val_loss: 2.8093e-07\n",
      "Epoch 20/50\n",
      "47/47 [==============================] - 1s 11ms/step - loss: 1.5770e-07 - val_loss: 2.8017e-07\n",
      "Epoch 21/50\n",
      "47/47 [==============================] - 1s 12ms/step - loss: 1.5601e-07 - val_loss: 2.7945e-07\n",
      "Epoch 22/50\n",
      "47/47 [==============================] - 1s 11ms/step - loss: 1.5372e-07 - val_loss: 2.8065e-07\n",
      "Epoch 23/50\n",
      "47/47 [==============================] - 1s 14ms/step - loss: 1.5415e-07 - val_loss: 2.7779e-07\n",
      "Epoch 24/50\n",
      "47/47 [==============================] - 0s 10ms/step - loss: 1.5354e-07 - val_loss: 2.9116e-07\n",
      "Epoch 25/50\n",
      "47/47 [==============================] - 1s 11ms/step - loss: 1.5498e-07 - val_loss: 2.7665e-07\n",
      "Epoch 26/50\n",
      "47/47 [==============================] - 1s 11ms/step - loss: 1.5446e-07 - val_loss: 2.8207e-07\n",
      "Epoch 27/50\n",
      "47/47 [==============================] - 1s 11ms/step - loss: 1.5313e-07 - val_loss: 2.7554e-07\n",
      "Epoch 28/50\n",
      "47/47 [==============================] - 0s 11ms/step - loss: 1.5337e-07 - val_loss: 2.7325e-07\n",
      "Epoch 29/50\n",
      "47/47 [==============================] - 0s 10ms/step - loss: 1.5137e-07 - val_loss: 2.7421e-07\n",
      "Epoch 30/50\n",
      "47/47 [==============================] - 0s 10ms/step - loss: 1.5014e-07 - val_loss: 2.7168e-07\n",
      "Epoch 31/50\n",
      "47/47 [==============================] - 1s 12ms/step - loss: 1.5037e-07 - val_loss: 2.8665e-07\n",
      "Epoch 32/50\n",
      "47/47 [==============================] - 0s 11ms/step - loss: 1.5104e-07 - val_loss: 2.7283e-07\n",
      "Epoch 33/50\n",
      "47/47 [==============================] - 1s 12ms/step - loss: 1.4860e-07 - val_loss: 2.7053e-07\n",
      "Epoch 34/50\n",
      "47/47 [==============================] - 1s 11ms/step - loss: 1.4760e-07 - val_loss: 2.6750e-07\n",
      "Epoch 35/50\n",
      "47/47 [==============================] - 0s 10ms/step - loss: 1.4941e-07 - val_loss: 2.8029e-07\n",
      "Epoch 36/50\n",
      "47/47 [==============================] - 1s 11ms/step - loss: 1.4682e-07 - val_loss: 2.6618e-07\n",
      "Epoch 37/50\n",
      "47/47 [==============================] - 1s 11ms/step - loss: 1.4979e-07 - val_loss: 2.7555e-07\n",
      "Epoch 38/50\n",
      "47/47 [==============================] - 1s 12ms/step - loss: 1.4663e-07 - val_loss: 2.6862e-07\n",
      "Epoch 39/50\n",
      "47/47 [==============================] - 1s 11ms/step - loss: 1.4652e-07 - val_loss: 2.6228e-07\n",
      "Epoch 40/50\n",
      "47/47 [==============================] - 1s 12ms/step - loss: 1.4539e-07 - val_loss: 2.6247e-07\n",
      "Epoch 41/50\n",
      "47/47 [==============================] - 1s 11ms/step - loss: 1.4482e-07 - val_loss: 2.7000e-07\n",
      "Epoch 42/50\n",
      "47/47 [==============================] - 1s 13ms/step - loss: 1.4420e-07 - val_loss: 2.5753e-07\n",
      "Epoch 43/50\n",
      "47/47 [==============================] - 1s 12ms/step - loss: 1.4388e-07 - val_loss: 2.5961e-07\n",
      "Epoch 44/50\n",
      "47/47 [==============================] - 1s 11ms/step - loss: 1.4144e-07 - val_loss: 2.6187e-07\n",
      "Epoch 45/50\n",
      "47/47 [==============================] - 1s 12ms/step - loss: 1.4152e-07 - val_loss: 2.5317e-07\n",
      "Epoch 46/50\n",
      "47/47 [==============================] - 0s 10ms/step - loss: 1.3999e-07 - val_loss: 2.6454e-07\n",
      "Epoch 47/50\n",
      "47/47 [==============================] - 0s 11ms/step - loss: 1.4000e-07 - val_loss: 2.5016e-07\n",
      "Epoch 48/50\n",
      "47/47 [==============================] - 1s 11ms/step - loss: 1.4519e-07 - val_loss: 2.4948e-07\n",
      "Epoch 49/50\n",
      "47/47 [==============================] - 0s 10ms/step - loss: 1.4080e-07 - val_loss: 2.4884e-07\n",
      "Epoch 50/50\n",
      "47/47 [==============================] - 1s 12ms/step - loss: 1.3751e-07 - val_loss: 2.5084e-07\n"
     ]
    },
    {
     "data": {
      "text/plain": [
       "<keras.src.callbacks.History at 0x155bd019290>"
      ]
     },
     "execution_count": 19,
     "metadata": {},
     "output_type": "execute_result"
    }
   ],
   "source": [
    "linear = LinearRegression()\n",
    "\n",
    "linear.compile(optimizer=keras.optimizers.Adam(1e-4), loss=keras.losses.mean_squared_logarithmic_error)\n",
    "linear.fit(x_train, y_train, epochs=50, batch_size=20, validation_data=[x_val, y_val])"
   ]
  },
  {
   "cell_type": "code",
   "execution_count": 20,
   "id": "8997f8a7-9306-46cf-8802-f601e741e4de",
   "metadata": {},
   "outputs": [
    {
     "name": "stdout",
     "output_type": "stream",
     "text": [
      "10/10 [==============================] - 0s 7ms/step\n"
     ]
    },
    {
     "data": {
      "text/plain": [
       "Text(0, 0.5, 'True value')"
      ]
     },
     "execution_count": 20,
     "metadata": {},
     "output_type": "execute_result"
    },
    {
     "data": {
      "image/png": "[encoded data removed]",
      "text/plain": [
       "<Figure size 640x480 with 1 Axes>"
      ]
     },
     "metadata": {},
     "output_type": "display_data"
    }
   ],
   "source": [
    "pred = linear.predict(x_test)\n",
    "\n",
    "plt.scatter(pred, y_test)\n",
    "plt.xlabel(\"Prediction\")\n",
    "plt.ylabel(\"True value\")"
   ]
  },
  {
   "cell_type": "code",
   "execution_count": 21,
   "id": "68600f1e-e2e5-4d1b-b9c7-a15c9a2ffb7f",
   "metadata": {},
   "outputs": [],
   "source": [
    "from keras.datasets.mnist import load_data"
   ]
  },
  {
   "cell_type": "code",
   "execution_count": 22,
   "id": "23a04742-68ce-4aa2-ac04-ba3846cd4cea",
   "metadata": {},
   "outputs": [],
   "source": [
    "(x_train, y_train), (x_test, y_test) = load_data()\n",
    "\n",
    "x_train, x_test = x_train.reshape(-1, 784), x_test.reshape(-1, 784)\n",
    "x_train, x_test = x_train/255, x_test/255\n",
    "\n",
    "\n",
    "y_train = y_train.reshape(-1, 1)\n",
    "y_train = onv.fit_transform(y_train)"
   ]
  },
  {
   "cell_type": "code",
   "execution_count": 23,
   "id": "005f9bba-54c9-408b-9b36-49651d18e251",
   "metadata": {},
   "outputs": [
    {
     "name": "stdout",
     "output_type": "stream",
     "text": [
      "Epoch 1/50\n",
      "500/500 [==============================] - 6s 7ms/step - loss: 0.5070 - accuracy: 0.8576 - recall: 0.7771\n",
      "Epoch 2/50\n",
      "500/500 [==============================] - 3s 6ms/step - loss: 0.2088 - accuracy: 0.9386 - recall: 0.9234\n",
      "Epoch 3/50\n",
      "500/500 [==============================] - 3s 6ms/step - loss: 0.1436 - accuracy: 0.9565 - recall: 0.9489\n",
      "Epoch 4/50\n",
      "500/500 [==============================] - 3s 6ms/step - loss: 0.0976 - accuracy: 0.9701 - recall: 0.9646\n",
      "Epoch 5/50\n",
      "500/500 [==============================] - 3s 6ms/step - loss: 0.0774 - accuracy: 0.9772 - recall: 0.9740\n",
      "Epoch 6/50\n",
      "500/500 [==============================] - 3s 7ms/step - loss: 0.0586 - accuracy: 0.9825 - recall: 0.9792\n",
      "Epoch 7/50\n",
      "500/500 [==============================] - 3s 6ms/step - loss: 0.0428 - accuracy: 0.9884 - recall: 0.9857\n",
      "Epoch 8/50\n",
      "500/500 [==============================] - 3s 7ms/step - loss: 0.0324 - accuracy: 0.9905 - recall: 0.9891\n",
      "Epoch 9/50\n",
      "500/500 [==============================] - 3s 6ms/step - loss: 0.0282 - accuracy: 0.9922 - recall: 0.9910\n",
      "Epoch 10/50\n",
      "500/500 [==============================] - 3s 7ms/step - loss: 0.0198 - accuracy: 0.9943 - recall: 0.9936\n",
      "Epoch 11/50\n",
      "500/500 [==============================] - 3s 6ms/step - loss: 0.0090 - accuracy: 0.9984 - recall: 0.9983\n",
      "Epoch 12/50\n",
      "500/500 [==============================] - 3s 6ms/step - loss: 0.0123 - accuracy: 0.9966 - recall: 0.9963\n",
      "Epoch 13/50\n",
      "500/500 [==============================] - 3s 6ms/step - loss: 0.0148 - accuracy: 0.9951 - recall: 0.9947\n",
      "Epoch 14/50\n",
      "500/500 [==============================] - 3s 6ms/step - loss: 0.0276 - accuracy: 0.9906 - recall: 0.9901\n",
      "Epoch 15/50\n",
      "500/500 [==============================] - 3s 6ms/step - loss: 0.0093 - accuracy: 0.9969 - recall: 0.9968\n",
      "Epoch 16/50\n",
      "500/500 [==============================] - 3s 6ms/step - loss: 0.0021 - accuracy: 1.0000 - recall: 1.0000\n",
      "Epoch 17/50\n",
      "500/500 [==============================] - 3s 6ms/step - loss: 6.7358e-04 - accuracy: 1.0000 - recall: 1.0000\n",
      "Epoch 18/50\n",
      "500/500 [==============================] - 3s 6ms/step - loss: 4.0137e-04 - accuracy: 1.0000 - recall: 1.0000\n",
      "Epoch 19/50\n",
      "500/500 [==============================] - 3s 6ms/step - loss: 3.1066e-04 - accuracy: 1.0000 - recall: 1.0000\n",
      "Epoch 20/50\n",
      "500/500 [==============================] - 3s 6ms/step - loss: 2.4741e-04 - accuracy: 1.0000 - recall: 1.0000\n",
      "Epoch 21/50\n",
      "500/500 [==============================] - 3s 6ms/step - loss: 2.0203e-04 - accuracy: 1.0000 - recall: 1.0000\n",
      "Epoch 22/50\n",
      "500/500 [==============================] - 3s 5ms/step - loss: 1.6335e-04 - accuracy: 1.0000 - recall: 1.0000\n",
      "Epoch 23/50\n",
      "500/500 [==============================] - 3s 6ms/step - loss: 1.3269e-04 - accuracy: 1.0000 - recall: 1.0000\n",
      "Epoch 24/50\n",
      "500/500 [==============================] - 3s 6ms/step - loss: 1.0725e-04 - accuracy: 1.0000 - recall: 1.0000\n",
      "Epoch 25/50\n",
      "500/500 [==============================] - 3s 6ms/step - loss: 8.8007e-05 - accuracy: 1.0000 - recall: 1.0000\n",
      "Epoch 26/50\n",
      "500/500 [==============================] - 3s 6ms/step - loss: 0.0478 - accuracy: 0.9890 - recall: 0.9889\n",
      "Epoch 27/50\n",
      "500/500 [==============================] - 3s 6ms/step - loss: 0.0257 - accuracy: 0.9910 - recall: 0.9904\n",
      "Epoch 28/50\n",
      "500/500 [==============================] - 3s 5ms/step - loss: 0.0037 - accuracy: 0.9991 - recall: 0.9990\n",
      "Epoch 29/50\n",
      "500/500 [==============================] - 3s 6ms/step - loss: 5.7785e-04 - accuracy: 1.0000 - recall: 1.0000\n",
      "Epoch 30/50\n",
      "500/500 [==============================] - 3s 6ms/step - loss: 3.2734e-04 - accuracy: 1.0000 - recall: 1.0000\n",
      "Epoch 31/50\n",
      "500/500 [==============================] - 3s 6ms/step - loss: 2.3492e-04 - accuracy: 1.0000 - recall: 1.0000\n",
      "Epoch 32/50\n",
      "500/500 [==============================] - 3s 6ms/step - loss: 1.8365e-04 - accuracy: 1.0000 - recall: 1.0000\n",
      "Epoch 33/50\n",
      "500/500 [==============================] - 3s 5ms/step - loss: 1.4512e-04 - accuracy: 1.0000 - recall: 1.0000\n",
      "Epoch 34/50\n",
      "500/500 [==============================] - 3s 6ms/step - loss: 1.1769e-04 - accuracy: 1.0000 - recall: 1.0000\n",
      "Epoch 35/50\n",
      "500/500 [==============================] - 3s 5ms/step - loss: 9.5999e-05 - accuracy: 1.0000 - recall: 1.0000\n",
      "Epoch 36/50\n",
      "500/500 [==============================] - 3s 6ms/step - loss: 7.7048e-05 - accuracy: 1.0000 - recall: 1.0000\n",
      "Epoch 37/50\n",
      "500/500 [==============================] - 3s 5ms/step - loss: 6.3241e-05 - accuracy: 1.0000 - recall: 1.0000\n",
      "Epoch 38/50\n",
      "500/500 [==============================] - 3s 6ms/step - loss: 5.0012e-05 - accuracy: 1.0000 - recall: 1.0000\n",
      "Epoch 39/50\n",
      "500/500 [==============================] - 3s 6ms/step - loss: 4.0649e-05 - accuracy: 1.0000 - recall: 1.0000\n",
      "Epoch 40/50\n",
      "500/500 [==============================] - 3s 5ms/step - loss: 3.2818e-05 - accuracy: 1.0000 - recall: 1.0000\n",
      "Epoch 41/50\n",
      "500/500 [==============================] - 3s 6ms/step - loss: 2.6230e-05 - accuracy: 1.0000 - recall: 1.0000\n",
      "Epoch 42/50\n",
      "500/500 [==============================] - 3s 6ms/step - loss: 2.0803e-05 - accuracy: 1.0000 - recall: 1.0000\n",
      "Epoch 43/50\n",
      "500/500 [==============================] - 3s 5ms/step - loss: 1.8113e-05 - accuracy: 1.0000 - recall: 1.0000\n",
      "Epoch 44/50\n",
      "500/500 [==============================] - 3s 5ms/step - loss: 1.3320e-05 - accuracy: 1.0000 - recall: 1.0000\n",
      "Epoch 45/50\n",
      "500/500 [==============================] - 3s 6ms/step - loss: 1.0227e-05 - accuracy: 1.0000 - recall: 1.0000\n",
      "Epoch 46/50\n",
      "500/500 [==============================] - 3s 6ms/step - loss: 8.2029e-06 - accuracy: 1.0000 - recall: 1.0000\n",
      "Epoch 47/50\n",
      "500/500 [==============================] - 3s 6ms/step - loss: 7.2489e-06 - accuracy: 1.0000 - recall: 1.0000\n",
      "Epoch 48/50\n",
      "500/500 [==============================] - 3s 6ms/step - loss: 5.6784e-06 - accuracy: 1.0000 - recall: 1.0000\n",
      "Epoch 49/50\n",
      "500/500 [==============================] - 3s 6ms/step - loss: 3.8078e-06 - accuracy: 1.0000 - recall: 1.0000\n",
      "Epoch 50/50\n",
      "500/500 [==============================] - 3s 6ms/step - loss: 2.7857e-06 - accuracy: 1.0000 - recall: 1.0000\n"
     ]
    },
    {
     "data": {
      "text/plain": [
       "<keras.src.callbacks.History at 0x155bf83f290>"
      ]
     },
     "execution_count": 23,
     "metadata": {},
     "output_type": "execute_result"
    }
   ],
   "source": [
    "import tensorflow as tf\n",
    "from tensorflow import keras\n",
    "\n",
    "model = MultiClassification(10)\n",
    "\n",
    "model.compile(\n",
    "    optimizer=\"Adam\", \n",
    "    loss=keras.losses.categorical_crossentropy, \n",
    "    metrics=[\"accuracy\", tf.keras.metrics.Recall()]\n",
    ")\n",
    "\n",
    "model.fit(x_train[:10000], y_train[:10000], epochs=50, batch_size=20)"
   ]
  },
  {
   "cell_type": "code",
   "execution_count": 24,
   "id": "b1fc5e22-7777-4418-b81f-b311bd00f37d",
   "metadata": {},
   "outputs": [
    {
     "name": "stdout",
     "output_type": "stream",
     "text": [
      "313/313 [==============================] - 1s 4ms/step\n"
     ]
    },
    {
     "data": {
      "text/plain": [
       "array([7, 2, 1, ..., 4, 5, 6], dtype=uint8)"
      ]
     },
     "execution_count": 24,
     "metadata": {},
     "output_type": "execute_result"
    }
   ],
   "source": [
    "pred = np.argmax(model.predict(x_test), 1)\n",
    "\n",
    "y_test"
   ]
  },
  {
   "cell_type": "code",
   "execution_count": 25,
   "id": "9ea3c5ed-d6c2-4fc0-b733-f0a8dc8fc1de",
   "metadata": {},
   "outputs": [],
   "source": [
    "c = sum(pred == y_test * 1)"
   ]
  },
  {
   "cell_type": "code",
   "execution_count": 26,
   "id": "a7656e5a-62a5-4ff2-8f76-23ebbb8e1f8a",
   "metadata": {},
   "outputs": [
    {
     "name": "stdout",
     "output_type": "stream",
     "text": [
      "Accuracy: 0.96\n"
     ]
    }
   ],
   "source": [
    "accuracy = c/pred.shape[0]\n",
    "\n",
    "print(f\"Accuracy: {accuracy:.2f}\")"
   ]
  },
  {
   "cell_type": "code",
   "execution_count": 27,
   "id": "fb456217-ba99-4e4b-a3fd-629b494fee68",
   "metadata": {},
   "outputs": [
    {
     "data": {
      "image/png": "[encoded data removed]",
      "text/plain": [
       "<Figure size 1500x1500 with 25 Axes>"
      ]
     },
     "metadata": {},
     "output_type": "display_data"
    }
   ],
   "source": [
    "fig = plt.figure(figsize=(15, 15))\n",
    "x_test = x_test.reshape(-1, 28, 28)\n",
    "for i in range(1, 26):\n",
    "    axes = plt.subplot(5, 5, i)\n",
    "    axes.imshow(x_test[i], \"grey\")\n",
    "    axes.set_title(pred[i])"
   ]
  },
  {
   "cell_type": "code",
   "execution_count": null,
   "id": "ef73c85c-30df-4ee7-a9c7-209912ba8e93",
   "metadata": {},
   "outputs": [],
   "source": []
  }
 ],
 "metadata": {
  "kernelspec": {
   "display_name": "Python 3 (ipykernel)",
   "language": "python",
   "name": "python3"
  },
  "language_info": {
   "codemirror_mode": {
    "name": "ipython",
    "version": 3
   },
   "file_extension": ".py",
   "mimetype": "text/x-python",
   "name": "python",
   "nbconvert_exporter": "python",
   "pygments_lexer": "ipython3",
   "version": "3.11.8"
  }
 },
 "nbformat": 4,
 "nbformat_minor": 5
}
