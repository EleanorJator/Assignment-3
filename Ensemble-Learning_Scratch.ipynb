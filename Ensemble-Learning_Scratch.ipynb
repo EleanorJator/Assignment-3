{
 "cells": [
  {
   "cell_type": "code",
   "execution_count": 1,
   "id": "02a53849",
   "metadata": {},
   "outputs": [],
   "source": [
    "from sklearn.linear_model import LinearRegression\n",
    "from sklearn.svm import SVR\n",
    "from sklearn.tree import DecisionTreeRegressor\n",
    "from sklearn.ensemble import VotingRegressor\n",
    "import pandas as pd \n",
    "import numpy as np\n",
    "from sklearn.model_selection import train_test_split\n",
    "from sklearn.preprocessing import StandardScaler"
   ]
  },
  {
   "cell_type": "code",
   "execution_count": 4,
   "id": "04065fbc",
   "metadata": {},
   "outputs": [],
   "source": [
    "houseData = pd.read_csv(\"C:\\\\Users\\\\cbt04\\\\Desktop\\\\train (1).csv\")\n",
    "\n",
    "features = houseData[[\"GrLivArea\", \"YearBuilt\"]]\n",
    "target = houseData[\"SalePrice\"]\n",
    "features = StandardScaler().fit_transform(features, target)\n",
    "x_train, x_test, y_train, y_test = train_test_split(features, target, test_size=0.3)"
   ]
  },
  {
   "cell_type": "markdown",
   "id": "ae8a9cb2",
   "metadata": {},
   "source": [
    "Blending\n",
    "\n",
    "Regression analysis using blending"
   ]
  },
  {
   "cell_type": "code",
   "execution_count": 6,
   "id": "3acccf88",
   "metadata": {},
   "outputs": [
    {
     "name": "stdout",
     "output_type": "stream",
     "text": [
      "LinearRegression: 0.6080748218426015\n",
      "SVR: -0.025083232136626554\n",
      "DecisionTreeRegressor: 0.6229412717961806\n",
      "VotingRegressor: 0.7734193739965904\n"
     ]
    }
   ],
   "source": [
    "model1, model2, model3 = LinearRegression(), SVR(kernel=\"linear\", C=0.8), DecisionTreeRegressor(criterion=\"squared_error\", max_depth=5)\n",
    "\n",
    "models = [model1, model2, model3]\n",
    "\n",
    "for model in models:\n",
    "    model.fit(x_train, y_train)\n",
    "\n",
    "pred1 = model1.predict(x_test)\n",
    "pred2 = model2.predict(x_test)\n",
    "pred3 = model3.predict(x_test)\n",
    "\n",
    "x_merge = np.concatenate([pred1.reshape(-1, 1), pred2.reshape(-1, 1), pred3.reshape(-1, 1)], axis=1)\n",
    "\n",
    "\n",
    "model4 = VotingRegressor([(\"Linear Regression\", model1), (\"SVR\", model2), (\"DT\", model3)])\n",
    "pred4 = model4.fit(x_merge, y_test).predict(x_merge)\n",
    "\n",
    "\n",
    "for model in models:\n",
    "    print(f\"{model.__class__.__name__}: {model.score(x_test, y_test)}\")\n",
    "\n",
    "print(f\"{model4.__class__.__name__}: {model4.score(x_merge, y_test)}\")"
   ]
  },
  {
   "cell_type": "markdown",
   "id": "22cbd6b7",
   "metadata": {},
   "source": [
    "Classification analysis using blending"
   ]
  },
  {
   "cell_type": "code",
   "execution_count": 7,
   "id": "b4faa988",
   "metadata": {},
   "outputs": [],
   "source": [
    "from sklearn.linear_model import LogisticRegression\n",
    "from sklearn.svm import SVC\n",
    "from sklearn.tree import DecisionTreeClassifier\n",
    "from sklearn.ensemble import VotingClassifier\n",
    "from sklearn.datasets import load_iris"
   ]
  },
  {
   "cell_type": "code",
   "execution_count": 8,
   "id": "fc71195d",
   "metadata": {},
   "outputs": [],
   "source": [
    "features= load_iris(as_frame=True).data\n",
    "target = load_iris(as_frame=True).target\n",
    "\n",
    "data = pd.concat([features, target], axis=1)\n",
    "\n",
    "data = data[data[\"target\"] != 2]\n",
    "\n",
    "features = data[[\"sepal length (cm)\", \"petal length (cm)\"]]\n",
    "target = data[\"target\"]\n",
    "\n",
    "features = StandardScaler().fit_transform(features, target)\n",
    "x_train, x_test, y_train, y_test = train_test_split(features, target, test_size=0.3)"
   ]
  },
  {
   "cell_type": "code",
   "execution_count": 10,
   "id": "6b84bee6",
   "metadata": {},
   "outputs": [
    {
     "name": "stdout",
     "output_type": "stream",
     "text": [
      "LogisticRegression: 1.0\n",
      "SVC: 1.0\n",
      "DecisionTreeClassifier: 1.0\n",
      "VotingClassifier: 1.0\n"
     ]
    }
   ],
   "source": [
    "model1, model2, model3 = LogisticRegression(), SVC(kernel=\"linear\", C=0.8, probability=True), DecisionTreeClassifier(criterion=\"gini\", max_depth=5)\n",
    "\n",
    "models = [model1, model2, model3]\n",
    "\n",
    "for model in models:\n",
    "    model.fit(x_train, y_train)\n",
    "\n",
    "pred1 = model1.predict_proba(x_test)[:, 0]\n",
    "pred2 = model2.predict_proba(x_test)[:, 0]\n",
    "pred3 = model3.predict_proba(x_test)[:, 0]\n",
    "\n",
    "x_merge = np.concatenate([pred1.reshape(-1, 1), pred2.reshape(-1, 1), pred3.reshape(-1, 1)], axis=1)\n",
    "\n",
    "model4 = VotingClassifier([(\"Linear Regression\", model1), (\"SVR\", model2), (\"DT\", model3)], voting=\"hard\")\n",
    "pred4 = model4.fit(x_merge, y_test).predict(x_merge)\n",
    "\n",
    "\n",
    "for model in models:\n",
    "    print(f\"{model.__class__.__name__}: {model.score(x_test, y_test)}\")\n",
    "\n",
    "print(f\"{model4.__class__.__name__}: {model4.score(x_merge, y_test)}\")"
   ]
  },
  {
   "cell_type": "markdown",
   "id": "f814385b",
   "metadata": {},
   "source": [
    "\n",
    "Bagging"
   ]
  },
  {
   "cell_type": "code",
   "execution_count": 11,
   "id": "58eccd39",
   "metadata": {},
   "outputs": [
    {
     "name": "stdout",
     "output_type": "stream",
     "text": [
      "BaggingClassifier: 1.0\n",
      "KNeighborsClassifier: 1.0\n"
     ]
    }
   ],
   "source": [
    "from sklearn.ensemble import BaggingClassifier\n",
    "from sklearn.metrics import confusion_matrix\n",
    "from sklearn.neighbors import KNeighborsClassifier\n",
    "\n",
    "dtc = DecisionTreeClassifier(criterion=\"entropy\")\n",
    "model = BaggingClassifier(dtc, 20).fit(x_train, y_train)\n",
    "knn = KNeighborsClassifier(n_neighbors= 7).fit(x_train, y_train)\n",
    "\n",
    "print(f\"{model.__class__.__name__}: {model.score(x_test, y_test)}\")\n",
    "print(f\"{knn.__class__.__name__}: {knn.score(x_test, y_test)}\")"
   ]
  },
  {
   "cell_type": "code",
   "execution_count": 12,
   "id": "1add2c38",
   "metadata": {},
   "outputs": [
    {
     "data": {
      "text/plain": [
       "array([[13,  0],\n",
       "       [ 0, 17]], dtype=int64)"
      ]
     },
     "execution_count": 12,
     "metadata": {},
     "output_type": "execute_result"
    }
   ],
   "source": [
    "confusion_matrix(knn.predict(x_test), y_test)"
   ]
  },
  {
   "cell_type": "markdown",
   "id": "f2fca5ee",
   "metadata": {},
   "source": [
    "\n",
    "Stacking"
   ]
  },
  {
   "cell_type": "code",
   "execution_count": 15,
   "id": "fd6d2169",
   "metadata": {},
   "outputs": [
    {
     "name": "stdout",
     "output_type": "stream",
     "text": [
      "Scratch stacked accuracy: 1.0\n"
     ]
    }
   ],
   "source": [
    "from sklearn.ensemble import StackingClassifier\n",
    "from sklearn.metrics import accuracy_score\n",
    "\n",
    "svc = SVC(C=0.6, kernel=\"poly\")\n",
    "tree = DecisionTreeClassifier(criterion=\"log_loss\")\n",
    "knn = KNeighborsClassifier(n_neighbors=7)\n",
    "\n",
    "\n",
    "svc.fit(x_train, y_train)\n",
    "tree.fit(x_train, y_train)\n",
    "knn.fit(x_train, y_train)\n",
    "\n",
    "svc_pred = svc.predict(x_test)\n",
    "tree_pred = tree.predict(x_test)\n",
    "knn_pred = knn.predict(x_test)\n",
    "\n",
    "meta_train = np.column_stack([svc_pred, tree_pred, knn_pred])\n",
    "\n",
    "meta = LogisticRegression().fit(meta_train, y_test)\n",
    "meta_new = meta.predict(meta_train)\n",
    "\n",
    "\n",
    "print(f\"Scratch stacked accuracy: {accuracy_score(y_test, meta_new)}\")"
   ]
  },
  {
   "cell_type": "code",
   "execution_count": 16,
   "id": "2aaf6c11",
   "metadata": {},
   "outputs": [
    {
     "name": "stdout",
     "output_type": "stream",
     "text": [
      "Sklearn stacked accuracy: 1.0\n"
     ]
    }
   ],
   "source": [
    "svc = SVC(C=0.6, kernel=\"poly\")\n",
    "tree = DecisionTreeClassifier(criterion=\"log_loss\")\n",
    "knn = KNeighborsClassifier(n_neighbors=7)\n",
    "\n",
    "mod = StackingClassifier([(\"svc\", svc), (\"tree\", tree), (\"knn\", knn)], final_estimator=LogisticRegression())\n",
    "\n",
    "mod.fit(x_train, y_train)\n",
    "\n",
    "score = mod.score(x_test, y_test)\n",
    "\n",
    "print(f\"Sklearn stacked accuracy: {score}\")"
   ]
  },
  {
   "cell_type": "code",
   "execution_count": null,
   "id": "1ca75a7a",
   "metadata": {},
   "outputs": [],
   "source": []
  }
 ],
 "metadata": {
  "kernelspec": {
   "display_name": "Python 3 (ipykernel)",
   "language": "python",
   "name": "python3"
  },
  "language_info": {
   "codemirror_mode": {
    "name": "ipython",
    "version": 3
   },
   "file_extension": ".py",
   "mimetype": "text/x-python",
   "name": "python",
   "nbconvert_exporter": "python",
   "pygments_lexer": "ipython3",
   "version": "3.11.5"
  }
 },
 "nbformat": 4,
 "nbformat_minor": 5
}
