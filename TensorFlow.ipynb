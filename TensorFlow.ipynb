{
 "cells": [
  {
   "cell_type": "code",
   "execution_count": null,
   "metadata": {},
   "outputs": [],
   "source": [
    "import numpy as np\n",
    "import tensorflow as tf\n",
    "import pandas as pd\n",
    "from matplotlib import pyplot as plt\n",
    "from sklearn.datasets import load_iris\n",
    "from sklearn.preprocessing import OneHotEncoder\n",
    "from sklearn.model_selection import train_test_split\n",
    "from keras.datasets import mnist"
   ]
  },
  {
   "cell_type": "markdown",
   "metadata": {},
   "source": [
    "Problem 1:Looking back on scratch\n",
    "To implment for deep learing;\n",
    "\n",
    "I had to initialize weights and baises\n",
    "I needed an epoch loop to train over data multiple times \n",
    "I had to  initialize the nodes of each hidden layer of the network\n",
    "I performed forward propagation for each layer\n",
    "I needed to implement an activation function and applied it on the output of each layer\n",
    "I had to implement a loss function\n",
    "I had to implement back propagaiton method for the network\n",
    "I had to train the model using a fit method\n",
    "I had to implement an optimizer to update the values of weights and baises\n",
    "I also had to implement a predict method"
   ]
  },
  {
   "cell_type": "markdown",
   "metadata": {},
   "source": [
    "Problem 2:Considering  the correspondence between scratch and TensorFlow\n",
    " \n",
    "The sample code begins by performing feature selection and data processing on the iris dataset, followed by the definition of the mini batch class. Further down, the paramters for the layers in the class were initilized and assigned values. The exmaple_net function defines the forward propagation operation for the network. Loss_op, train_op, optimizer, and accuracy are used to calculate the loss, forward, backward propagation, and accuracy of the model respectively.\n",
    "The sample code is a deep learning logistic regression model implemented using tensor flow version 1. The model is trained to learn to distinguish between species of flowers, specifically iris flowers of the versicolor and virginica class.\n",
    "  \n",
    "  TensorFlow version one by default uses graph computation, therefore a session has to be created for the training of the model. This session was created using the tf.session method. Within this session, the model is trained."
   ]
  },
  {
   "cell_type": "code",
   "execution_count": null,
   "metadata": {},
   "outputs": [],
   "source": [
    "class GetMiniBatch:\n",
    "    \"\"\"\n",
    "Iterator to get a mini-batch\n",
    "\n",
    "    Parameters\n",
    "    ----------\n",
    "    X : The following forms of ndarray, shape (n_samples, n_features)\n",
    "      Training data\n",
    "    y : The following form of ndarray, shape (n_samples, 1)\n",
    "      Correct answer value\n",
    "    batch_size : int\n",
    "      Batch size\n",
    "    seed : int\n",
    "      NumPy random seed\n",
    "    \"\"\"\n",
    "    def __init__(self, X, y, batch_size = 20, seed=0):\n",
    "        self.batch_size = batch_size\n",
    "        np.random.seed(seed)\n",
    "        shuffle_index = np.random.permutation(np.arange(X.shape[0]))\n",
    "        self._X = X[shuffle_index]\n",
    "        self._y = y[shuffle_index]\n",
    "        self._stop = np.ceil(X.shape[0]/self.batch_size).astype(np.int_)\n",
    "\n",
    "    def __len__(self):\n",
    "        return self._stop\n",
    "\n",
    "    def __getitem__(self,item):\n",
    "        p0 = item*self.batch_size\n",
    "        p1 = item*self.batch_size + self.batch_size\n",
    "        return self._X[p0:p1], self._y[p0:p1]\n",
    "\n",
    "    def __iter__(self):\n",
    "        self._counter = 0\n",
    "        return self\n",
    "\n",
    "    def __next__(self):\n",
    "        if self._counter >= self._stop:\n",
    "            raise StopIteration()\n",
    "        p0 = self._counter*self.batch_size\n",
    "        p1 = self._counter*self.batch_size + self.batch_size\n",
    "        self._counter += 1\n",
    "        return self._X[p0:p1], self._y[p0:p1]"
   ]
  },
  {
   "cell_type": "code",
   "execution_count": null,
   "metadata": {},
   "outputs": [],
   "source": [
    "iris = load_iris()\n",
    "features = iris[\"data\"]\n",
    "target = iris[\"target\"]\n",
    "\n",
    "x_train, x_test, y_train, y_test = train_test_split(features, target, test_size=0.2)\n",
    "\n",
    "x_train, y_train, x_test, y_test = x_train.astype(np.float32), y_train.astype(np.float32), x_test.astype(np.float32), y_test.astype(np.float32)\n",
    "y_train = y_train.reshape(-1, 1)\n",
    "onv = OneHotEncoder(sparse_output=False)\n",
    "y_train = onv.fit_transform(y_train)\n",
    "\n",
    "x_train, x_val, y_train, y_val = train_test_split(x_train, y_train, test_size=0.2)"
   ]
  },
  {
   "cell_type": "markdown",
   "metadata": {},
   "source": [
    "Problem 3:Creating a model of Iris using all three types of objective variables"
   ]
  },
  {
   "cell_type": "code",
   "execution_count": null,
   "metadata": {},
   "outputs": [],
   "source": [
    "\n",
    "\n",
    "\n",
    "class Layer(tf.Module):\n",
    "    def __init__(self, n_input, n_output, activation=None, name=None):\n",
    "        super().__init__(name=name)\n",
    "        self.weight = tf.Variable(tf.random.normal([n_input, n_output]))\n",
    "        self.bais = tf.Variable(tf.random.normal([n_output]))\n",
    "        self.activation = activation\n",
    "\n",
    "    def __call__(self, x):\n",
    "        y = tf.add(tf.matmul(x, self.weight), self.bais)\n",
    "        if self.activation == None:\n",
    "            return y\n",
    "        return self.activation(y)\n",
    "\n",
    "\n",
    "class LogisticRegression:\n",
    "    def __init__(self, n_input = 4, n_classes=3,  lr=0.01, epoch=100, batch_size = 20):\n",
    "        self.lr = lr\n",
    "        self.epoch = epoch\n",
    "        self.batch = batch_size\n",
    "        self.optimizer = tf.keras.optimizers.Adam(learning_rate=self.lr)\n",
    "        self.inputlayer = Layer(n_input, 100, tf.nn.relu, \"InputLayer\")\n",
    "        self.hidden1 = Layer(100, 50, tf.nn.relu, \"hidden1\")\n",
    "        self.output = Layer(50,n_classes , name=\"outputLayer\")\n",
    "\n",
    "    #@tf.function\n",
    "    def forward(self, x):\n",
    "        logit = self.inputlayer(x)\n",
    "        logit = self.hidden1(logit)\n",
    "        logit = self.output(logit)\n",
    "\n",
    "        return logit\n",
    "\n",
    "    def fit(self, x_train, y_train, x_val=None, y_val=None):\n",
    "        if x_val is None:\n",
    "            x_val = x_train\n",
    "            y_val = y_train\n",
    "        for i in range(self.epoch):\n",
    "            total_loss = 0\n",
    "            for mini_x, mini_y in GetMiniBatch(x_train, y_train, self.batch):\n",
    "                with tf.GradientTape() as tape:\n",
    "                    logit = self.forward(mini_x)\n",
    "                    loss = tf.reduce_mean(tf.nn.softmax_cross_entropy_with_logits(mini_y, logit))\n",
    "\n",
    "                gradient = tape.gradient(loss, tape.watched_variables())\n",
    "                self.optimizer.apply_gradients(zip(gradient, tape.watched_variables()))\n",
    "                total_loss+= loss\n",
    "            total_loss/=self.batch\n",
    "\n",
    "            with tf.GradientTape() as tape:\n",
    "                logit = self.forward(x_val)\n",
    "                loss_val = tf.reduce_mean(tf.nn.softmax_cross_entropy_with_logits(y_val, logit))\n",
    "            accuracy = accuracy_score(np.argmax(y_train, 1), self.predict(x_train))\n",
    "            gradient = tape.gradient(loss_val, tape.watched_variables())\n",
    "            self.optimizer.apply_gradients(zip(gradient, tape.watched_variables()))\n",
    "\n",
    "            print(f\"Num epoch: {i} loss: {total_loss}: loss_val: {loss_val} accuracy: {accuracy}\")\n",
    "        return self\n",
    "\n",
    "    def predict(self, x):\n",
    "        y = tf.nn.softmax(self.forward(x)).numpy()\n",
    "\n",
    "        return np.argmax(y, 1)\n",
    "\n",
    "\n",
    "def accuracy_score(y_true, pred):\n",
    "    correct = np.sum(np.round(y_true) == np.round(pred))\n",
    "    total = y_true.shape[0]\n",
    "    return correct/total"
   ]
  },
  {
   "cell_type": "code",
   "execution_count": null,
   "metadata": {},
   "outputs": [
    {
     "name": "stdout",
     "output_type": "stream",
     "text": [
      "Num epoch: 0 loss: 22.22698974609375: loss_val: 22.45050811767578 accuracy: 0.59375\n",
      "Num epoch: 1 loss: 9.427495956420898: loss_val: 35.029335021972656 accuracy: 0.65625\n",
      "Num epoch: 2 loss: 2.692002534866333: loss_val: 15.996060371398926 accuracy: 0.6979166666666666\n",
      "Num epoch: 3 loss: 1.9227867126464844: loss_val: 3.5300543308258057 accuracy: 0.8125\n",
      "Num epoch: 4 loss: 0.9897440075874329: loss_val: 0.0006869095377624035 accuracy: 0.96875\n",
      "Num epoch: 5 loss: 0.4860326647758484: loss_val: 2.3807318210601807 accuracy: 0.90625\n",
      "Num epoch: 6 loss: 0.21040944755077362: loss_val: 0.022190146148204803 accuracy: 0.9583333333333334\n",
      "Num epoch: 7 loss: 0.24463710188865662: loss_val: 0.002115904586389661 accuracy: 0.96875\n",
      "Num epoch: 8 loss: 0.1550915241241455: loss_val: 0.4997902810573578 accuracy: 0.9375\n",
      "Num epoch: 9 loss: 0.174977108836174: loss_val: 2.155679430870805e-05 accuracy: 0.9583333333333334\n",
      "Num epoch: 10 loss: 0.07464854419231415: loss_val: 0.6683877110481262 accuracy: 0.9375\n",
      "Num epoch: 11 loss: 0.08736202865839005: loss_val: 0.0016292253276333213 accuracy: 0.9791666666666666\n",
      "Num epoch: 12 loss: 0.06639306992292404: loss_val: 0.37384167313575745 accuracy: 0.9479166666666666\n",
      "Num epoch: 13 loss: 0.07620689272880554: loss_val: 0.005437670275568962 accuracy: 0.9791666666666666\n",
      "Num epoch: 14 loss: 0.06709087640047073: loss_val: 0.0025119527708739042 accuracy: 0.9791666666666666\n",
      "Num epoch: 15 loss: 0.05421656370162964: loss_val: 0.1281701773405075 accuracy: 0.9583333333333334\n",
      "Num epoch: 16 loss: 0.06088735908269882: loss_val: 0.048163801431655884 accuracy: 0.9583333333333334\n",
      "Num epoch: 17 loss: 0.07521224021911621: loss_val: 1.9218774468754418e-05 accuracy: 0.96875\n",
      "Num epoch: 18 loss: 0.05706552416086197: loss_val: 0.5472585558891296 accuracy: 0.9375\n",
      "Num epoch: 19 loss: 0.07885892689228058: loss_val: 1.3170841157261748e-05 accuracy: 0.96875\n",
      "Num epoch: 20 loss: 0.06470859795808792: loss_val: 0.49351072311401367 accuracy: 0.9375\n",
      "Num epoch: 21 loss: 0.07816100865602493: loss_val: 1.960059853445273e-05 accuracy: 0.96875\n",
      "Num epoch: 22 loss: 0.063975490629673: loss_val: 0.4753495156764984 accuracy: 0.9375\n",
      "Num epoch: 23 loss: 0.07585620880126953: loss_val: 2.0151628632447682e-05 accuracy: 0.96875\n",
      "Num epoch: 24 loss: 0.05750175565481186: loss_val: 0.56633460521698 accuracy: 0.9375\n",
      "Num epoch: 25 loss: 0.07796573638916016: loss_val: 7.905028905952349e-05 accuracy: 0.96875\n",
      "Num epoch: 26 loss: 0.06456173956394196: loss_val: 0.4571492671966553 accuracy: 0.9375\n",
      "Num epoch: 27 loss: 0.079363152384758: loss_val: 0.0002740037743933499 accuracy: 0.96875\n",
      "Num epoch: 28 loss: 0.0755549892783165: loss_val: 0.4388073980808258 accuracy: 0.9375\n",
      "Num epoch: 29 loss: 0.11014582961797714: loss_val: 0.09757093340158463 accuracy: 0.9479166666666666\n",
      "Num epoch: 30 loss: 0.11654709279537201: loss_val: 0.10844216495752335 accuracy: 0.9479166666666666\n",
      "Num epoch: 31 loss: 0.13162215054035187: loss_val: 0.13221551477909088 accuracy: 0.9479166666666666\n",
      "Num epoch: 32 loss: 0.14087846875190735: loss_val: 0.030321450904011726 accuracy: 0.96875\n",
      "Num epoch: 33 loss: 0.15742357075214386: loss_val: 0.22188395261764526 accuracy: 0.9479166666666666\n",
      "Num epoch: 34 loss: 0.15871362388134003: loss_val: 0.08881727606058121 accuracy: 0.9479166666666666\n",
      "Num epoch: 35 loss: 0.14342106878757477: loss_val: 0.1290598213672638 accuracy: 0.9479166666666666\n",
      "Num epoch: 36 loss: 0.1462537795305252: loss_val: 0.03511946648359299 accuracy: 0.9791666666666666\n",
      "Num epoch: 37 loss: 0.129686176776886: loss_val: 0.0002820707450155169 accuracy: 0.96875\n",
      "Num epoch: 38 loss: 0.16884386539459229: loss_val: 0.0006208450649864972 accuracy: 0.9791666666666666\n",
      "Num epoch: 39 loss: 0.1580568552017212: loss_val: 0.056922975927591324 accuracy: 0.9479166666666666\n",
      "Num epoch: 40 loss: 0.1990395486354828: loss_val: 0.0015350704779848456 accuracy: 0.9791666666666666\n",
      "Num epoch: 41 loss: 0.17651058733463287: loss_val: 0.11550727486610413 accuracy: 0.9479166666666666\n",
      "Num epoch: 42 loss: 0.2606774568557739: loss_val: 0.03575615957379341 accuracy: 0.9791666666666666\n",
      "Num epoch: 43 loss: 0.12040424346923828: loss_val: 0.041142795234918594 accuracy: 0.9791666666666666\n",
      "Num epoch: 44 loss: 0.09107819199562073: loss_val: 0.3897865116596222 accuracy: 0.9583333333333334\n",
      "Num epoch: 45 loss: 0.06299126148223877: loss_val: 0.03209957480430603 accuracy: 0.9791666666666666\n",
      "Num epoch: 46 loss: 0.021540243178606033: loss_val: 0.6366832852363586 accuracy: 0.9479166666666666\n",
      "Num epoch: 47 loss: 0.06711769104003906: loss_val: 0.01008868683129549 accuracy: 0.9791666666666666\n",
      "Num epoch: 48 loss: 0.04290191829204559: loss_val: 0.05520966649055481 accuracy: 0.9791666666666666\n",
      "Num epoch: 49 loss: 0.023408155888319016: loss_val: 0.5752753019332886 accuracy: 0.9479166666666666\n",
      "Num epoch: 50 loss: 0.08814594894647598: loss_val: 3.223505927962833e-06 accuracy: 0.9791666666666666\n",
      "Num epoch: 51 loss: 0.021375805139541626: loss_val: 0.42927446961402893 accuracy: 0.9479166666666666\n",
      "Num epoch: 52 loss: 0.09458132833242416: loss_val: 7.354187255259603e-05 accuracy: 0.9791666666666666\n",
      "Num epoch: 53 loss: 0.06821364164352417: loss_val: 2.836103476511198e-06 accuracy: 0.9791666666666666\n",
      "Num epoch: 54 loss: 0.05880005285143852: loss_val: 0.44671010971069336 accuracy: 0.9479166666666666\n",
      "Num epoch: 55 loss: 0.07187287509441376: loss_val: 0.002124293940141797 accuracy: 0.9791666666666666\n",
      "Num epoch: 56 loss: 0.01088324747979641: loss_val: 0.38735613226890564 accuracy: 0.9479166666666666\n",
      "Num epoch: 57 loss: 0.03846827149391174: loss_val: 0.30866628885269165 accuracy: 0.9479166666666666\n",
      "Num epoch: 58 loss: 0.06120450422167778: loss_val: 0.0024163604248315096 accuracy: 0.9791666666666666\n",
      "Num epoch: 59 loss: 0.0428936704993248: loss_val: 0.0009587525855749846 accuracy: 0.9791666666666666\n",
      "Num epoch: 60 loss: 0.010466903448104858: loss_val: 0.2360902577638626 accuracy: 0.9583333333333334\n",
      "Num epoch: 61 loss: 0.08480997383594513: loss_val: 0.11026100069284439 accuracy: 0.9895833333333334\n",
      "Num epoch: 62 loss: 0.034612663090229034: loss_val: 0.21116387844085693 accuracy: 0.9791666666666666\n",
      "Num epoch: 63 loss: 0.024319028481841087: loss_val: 0.35483431816101074 accuracy: 0.9479166666666666\n",
      "Num epoch: 64 loss: 0.0652773380279541: loss_val: 0.000153581248014234 accuracy: 0.9791666666666666\n",
      "Num epoch: 65 loss: 0.02774723246693611: loss_val: 0.05027170479297638 accuracy: 0.9895833333333334\n",
      "Num epoch: 66 loss: 0.010503903031349182: loss_val: 0.18101529777050018 accuracy: 0.9791666666666666\n",
      "Num epoch: 67 loss: 0.06934389472007751: loss_val: 0.105439692735672 accuracy: 0.9791666666666666\n",
      "Num epoch: 68 loss: 0.04437748342752457: loss_val: 0.019326580688357353 accuracy: 0.9895833333333334\n",
      "Num epoch: 69 loss: 0.02329782210290432: loss_val: 0.16887027025222778 accuracy: 0.9479166666666666\n",
      "Num epoch: 70 loss: 0.02443159744143486: loss_val: 0.23366403579711914 accuracy: 0.9479166666666666\n",
      "Num epoch: 71 loss: 0.05193197727203369: loss_val: 0.0007080459618009627 accuracy: 0.9791666666666666\n",
      "Num epoch: 72 loss: 0.0648529976606369: loss_val: 0.009254337288439274 accuracy: 0.96875\n",
      "Num epoch: 73 loss: 0.03883538022637367: loss_val: 0.3479588031768799 accuracy: 0.9479166666666666\n",
      "Num epoch: 74 loss: 0.04910511523485184: loss_val: 0.0026294058188796043 accuracy: 0.9791666666666666\n",
      "Num epoch: 75 loss: 0.05135652422904968: loss_val: 3.919662776752375e-05 accuracy: 0.9791666666666666\n",
      "Num epoch: 76 loss: 0.02208034321665764: loss_val: 0.18254058063030243 accuracy: 0.96875\n",
      "Num epoch: 77 loss: 0.05998123809695244: loss_val: 0.24345381557941437 accuracy: 0.9479166666666666\n",
      "Num epoch: 78 loss: 0.060552626848220825: loss_val: 7.946896403154824e-06 accuracy: 0.9791666666666666\n",
      "Num epoch: 79 loss: 0.004642060957849026: loss_val: 0.015131532214581966 accuracy: 0.9895833333333334\n",
      "Num epoch: 80 loss: 0.03339458256959915: loss_val: 0.22803331911563873 accuracy: 0.9479166666666666\n",
      "Num epoch: 81 loss: 0.05501663684844971: loss_val: 2.5722072678036056e-05 accuracy: 0.9791666666666666\n",
      "Num epoch: 82 loss: 0.028934914618730545: loss_val: 0.00011534529039636254 accuracy: 0.9791666666666666\n",
      "Num epoch: 83 loss: 0.009268185123801231: loss_val: 0.09700287133455276 accuracy: 0.96875\n",
      "Num epoch: 84 loss: 0.0051657287403941154: loss_val: 0.09843193739652634 accuracy: 0.96875\n",
      "Num epoch: 85 loss: 0.012113865464925766: loss_val: 0.1407446265220642 accuracy: 0.9479166666666666\n",
      "Num epoch: 86 loss: 0.009371417574584484: loss_val: 0.07398346811532974 accuracy: 0.96875\n",
      "Num epoch: 87 loss: 0.009571840986609459: loss_val: 0.01964854635298252 accuracy: 0.9791666666666666\n",
      "Num epoch: 88 loss: 0.009548239409923553: loss_val: 0.0069460198283195496 accuracy: 1.0\n",
      "Num epoch: 89 loss: 0.011147947050631046: loss_val: 0.047553446143865585 accuracy: 0.96875\n",
      "Num epoch: 90 loss: 0.011992460116744041: loss_val: 0.1659439355134964 accuracy: 0.9479166666666666\n",
      "Num epoch: 91 loss: 0.014277076348662376: loss_val: 0.06770438700914383 accuracy: 0.96875\n",
      "Num epoch: 92 loss: 0.02523268200457096: loss_val: 0.0004609863681253046 accuracy: 0.9895833333333334\n",
      "Num epoch: 93 loss: 0.05101894214749336: loss_val: 0.014822307042777538 accuracy: 0.96875\n",
      "Num epoch: 94 loss: 0.02743307687342167: loss_val: 0.0848202034831047 accuracy: 0.96875\n",
      "Num epoch: 95 loss: 0.08917608112096786: loss_val: 0.43337181210517883 accuracy: 0.9166666666666666\n",
      "Num epoch: 96 loss: 0.09733784198760986: loss_val: 0.19221270084381104 accuracy: 0.9583333333333334\n",
      "Num epoch: 97 loss: 0.023879384621977806: loss_val: 0.060625091195106506 accuracy: 0.9583333333333334\n",
      "Num epoch: 98 loss: 0.08626701682806015: loss_val: 0.22922737896442413 accuracy: 0.9479166666666666\n",
      "Num epoch: 99 loss: 0.12402079254388809: loss_val: 0.485850065946579 accuracy: 0.9479166666666666\n"
     ]
    },
    {
     "data": {
      "text/plain": [
       "<__main__.LogisticRegression at 0x11ea43ec610>"
      ]
     },
     "execution_count": 7,
     "metadata": {},
     "output_type": "execute_result"
    }
   ],
   "source": [
    "model = LogisticRegression()\n",
    "model.fit(x_train, y_train, x_val, y_val)"
   ]
  },
  {
   "cell_type": "code",
   "execution_count": null,
   "metadata": {},
   "outputs": [
    {
     "data": {
      "text/plain": [
       "1.0"
      ]
     },
     "execution_count": 8,
     "metadata": {},
     "output_type": "execute_result"
    }
   ],
   "source": [
    "pred = model.predict(x_test)\n",
    "\n",
    "accuracy_score(y_test, pred)"
   ]
  },
  {
   "cell_type": "code",
   "execution_count": null,
   "metadata": {},
   "outputs": [
    {
     "data": {
      "text/plain": [
       "Text(0, 0.5, 'True value')"
      ]
     },
     "execution_count": 9,
     "metadata": {},
     "output_type": "execute_result"
    },
    {
     "data": {
      "image/png": "[encoded data removed]",
      "text/plain": [
       "<Figure size 640x480 with 1 Axes>"
      ]
     },
     "metadata": {},
     "output_type": "display_data"
    }
   ],
   "source": [
    "plt.scatter(pred, y_test)\n",
    "plt.xlabel(\"prediction\")\n",
    "plt.ylabel(\"True value\")"
   ]
  },
  {
   "cell_type": "markdown",
   "metadata": {},
   "source": [
    "Problem 4:Creating a model of House Prices"
   ]
  },
  {
   "cell_type": "code",
   "execution_count": null,
   "metadata": {},
   "outputs": [],
   "source": [
    "house_train = pd.read_csv(\"C:\\Users\\cbt04\\Dpro_Assignments-\\Dpro_Assignments-\\train.csv\")"
   ]
  }
 ],
 "metadata": {
  "kernelspec": {
   "display_name": "Python 3",
   "language": "python",
   "name": "python3"
  },
  "language_info": {
   "codemirror_mode": {
    "name": "ipython",
    "version": 3
   },
   "file_extension": ".py",
   "mimetype": "text/x-python",
   "name": "python",
   "nbconvert_exporter": "python",
   "pygments_lexer": "ipython3",
   "version": "3.11.8"
  }
 },
 "nbformat": 4,
 "nbformat_minor": 2
}
