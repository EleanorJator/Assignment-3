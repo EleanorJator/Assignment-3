{
 "cells": [
  {
   "cell_type": "code",
   "execution_count": 1,
   "id": "261911a1",
   "metadata": {},
   "outputs": [],
   "source": [
    "import numpy as np\n",
    "\n",
    "import numpy as np\n",
    "a = np.array([[-1, 2, 3], [4, -5, 6], [7, 8, -9]])\n",
    "b = np.array([[0, 2, 1], [0, 2, -8], [2, 9, -1]])"
   ]
  },
  {
   "cell_type": "markdown",
   "id": "a95bfd72",
   "metadata": {},
   "source": [
    "problem 1\n",
    "\n",
    "# To Solve the matrix product of A and B by hand\n",
    "\n",
    "a. To find the matrix product of A and B, the number of columns of A should be equal to the number of columns in B\n",
    "\n",
    "b. Multiplying each value in row in A by each value in column in B\n",
    "\n",
    "A.B = {\n",
    "(-1*0) + (2*0) + (3*2)     (-1*2) + (2*2) + (3*9)    (-1*1) + (2*8) + (3*-1)\n",
    "(1*0) + (-5*0) + (6*2)     (4*2) + (-5*2) + (6*9)     (4*1) + (-5*-8) + (6*-1)\n",
    "(7*0) + (8*0) + (-9*2)      (7*2) + (8*2) + (-9*9)     (7*1) + (8*-8) + (-9*-1)\n",
    "}\n",
    "\n",
    "A.B = {\n",
    "0+0+6       -2+4+27     -1-16-3\n",
    "0+0+12       8-10+27     4+40-6\n",
    "0+0-18       14+16-81    7-64+9\n",
    "}\n",
    "\n",
    "A.B = {\n",
    "6   29  -20\n",
    "12  52   38\n",
    "-18 -51  48\n",
    "}"
   ]
  },
  {
   "cell_type": "markdown",
   "id": "d4447efe",
   "metadata": {},
   "source": [
    "problem 2\n",
    ":Calculation by NumPy function"
   ]
  },
  {
   "cell_type": "code",
   "execution_count": 6,
   "id": "a7324c78",
   "metadata": {
    "scrolled": true
   },
   "outputs": [
    {
     "name": "stdout",
     "output_type": "stream",
     "text": [
      "Using np.matmul: \n",
      " [[  6  29 -20]\n",
      " [ 12  52  38]\n",
      " [-18 -51 -48]]\n",
      "\n",
      "Using dot method: \n",
      " [[  6  29 -20]\n",
      " [ 12  52  38]\n",
      " [-18 -51 -48]]\n",
      "\n",
      "Using @:\n",
      " [[  6  29 -20]\n",
      " [ 12  52  38]\n",
      " [-18 -51 -48]]\n"
     ]
    }
   ],
   "source": [
    "matmul = np.matmul(a, b)\n",
    "\n",
    "dot_product = np.dot(a, b)\n",
    "\n",
    "at = a @ b\n",
    "\n",
    "print(\"Using np.matmul: \\n {}\\n\".format(matmul))\n",
    "\n",
    "print(\"Using dot method: \\n {}\\n\".format(dot_product))\n",
    "\n",
    "print(\"Using @:\\n {}\".format(at))"
   ]
  },
  {
   "cell_type": "markdown",
   "id": "35d4d13d",
   "metadata": {},
   "source": [
    "problem 3\n",
    ":Implementation of calculation of a certain element"
   ]
  },
  {
   "cell_type": "code",
   "execution_count": 8,
   "id": "3fcab5d3",
   "metadata": {},
   "outputs": [
    {
     "name": "stdout",
     "output_type": "stream",
     "text": [
      "[[  6  29 -20]\n",
      " [ 12  52  38]\n",
      " [-18 -51 -48]]\n",
      "Verifying my solution by comparing output using numpy inbuilt function \n",
      " [[ True  True  True]\n",
      " [ True  True  True]\n",
      " [ True  True  True]]\n"
     ]
    }
   ],
   "source": [
    "result = []\n",
    "c = b.T #tranposing b \n",
    "outer = 0\n",
    "columns = a.shape[0] #each row of a multiplies each column of b\n",
    "\n",
    "while outer < columns:\n",
    "    inner = 0\n",
    "    rows = c.shape[0] # number of columns in transposed b\n",
    "    while inner < rows:\n",
    "        result.append((a[outer] * c[inner]).sum())\n",
    "        inner += 1\n",
    "    outer += 1\n",
    "#The shape of the new array is (row a, row b), this is due to the transpose in the ln 2\n",
    "result = np.array(result).reshape((a.shape[0], c.shape[0])) \n",
    "print(result)\n",
    "\n",
    "print(\"Verifying my solution by comparing output using numpy inbuilt function \\n {}\".format(result == a @ b))"
   ]
  },
  {
   "cell_type": "markdown",
   "id": "753cae32",
   "metadata": {},
   "source": [
    "problem 4:\n",
    "Implementation of calculation of a certain element"
   ]
  },
  {
   "cell_type": "code",
   "execution_count": 20,
   "id": "3ed9686d",
   "metadata": {},
   "outputs": [
    {
     "name": "stdout",
     "output_type": "stream",
     "text": [
      "[[  6  29 -20]\n",
      " [ 12  52  38]\n",
      " [-18 -51 -48]]\n"
     ]
    }
   ],
   "source": [
    "#To Perform a matrix multiplication of a and b\n",
    "\n",
    "import numpy as np\n",
    "\n",
    "import numpy as np\n",
    "a = np.array([[-1, 2, 3], [4, -5, 6], [7, 8, -9]])\n",
    "b = np.array([[0, 2, 1], [0, 2, -8], [2, 9, -1]])\n",
    "\n",
    "\n",
    "def mat_multiply(a, b):\n",
    "    #Performs a matrix multiplication between a and b\n",
    "    result = []\n",
    "    b = b.T #tranposing b to make selection of column values easy\n",
    "    outer = 0\n",
    "    columns = a.shape[0]\n",
    "    \"\"\"The while loop runs (row a * row b.T) times, which is same\n",
    "    as (row a * column b) times because each row of a multiplies each column of b\"\"\"\n",
    "    while outer < columns:\n",
    "        inner = 0\n",
    "        rows = b.shape[0] # number of columns in transposed b\n",
    "        while inner < rows:\n",
    "            result.append((a[outer] * b[inner]).sum())\n",
    "            inner += 1\n",
    "        outer += 1\n",
    "   #The transposition of b makes the shape of the new array different; (row a, row b) \n",
    "    result = np.array(result).reshape((a.shape[0], b.shape[0])) \n",
    "    return result\n",
    "print(mat_multiply(a, b))"
   ]
  },
  {
   "cell_type": "markdown",
   "id": "d7bf783c",
   "metadata": {},
   "source": [
    "Problem 5: \n",
    "Creating a function that performs matrix multiplication \n"
   ]
  },
  {
   "cell_type": "code",
   "execution_count": 17,
   "id": "2b2946f2",
   "metadata": {},
   "outputs": [
    {
     "name": "stdout",
     "output_type": "stream",
     "text": [
      "Number of columns in A: 3 must be equal to number of rows in B: 4\n"
     ]
    }
   ],
   "source": [
    "def mat_multiply(a, b):\n",
    "    \"\"\"Performs a matrix multiplication between a and b\"\"\"\n",
    "    result = []\n",
    "    c = b.T #tranposing b to make selection of column values easy\n",
    "    outer = 0\n",
    "    columns = a.shape[0]\n",
    "    \"\"\"The while loop runs (row a * row b.T) times, which is same\n",
    "    as (row a * column b) times because each row of a multiplies each column of b\"\"\"\n",
    "    try:\n",
    "        if a.shape[1] != b.shape[0]:\n",
    "            raise ValueError\n",
    "    except ValueError:\n",
    "        \n",
    "        print(f\"Number of columns in A: {a.shape[1]} must be equal to number of rows in B: {b.shape[0]}\")\n",
    "    #The transposition of b makes the shape of the new array different; (row a, row b) \n",
    "    else:\n",
    "        while outer < columns:\n",
    "            inner = 0\n",
    "            rows = c.shape[0] # number of columns in transposed b\n",
    "            while inner < rows:\n",
    "                result.append((a[outer] * c[inner]).sum())\n",
    "                inner += 1\n",
    "            outer += 1\n",
    "        result = np.array(result).reshape((a.shape[0], b.shape[0])) \n",
    "        return result\n",
    "\n",
    "test = np.random.randint(3, 10, (4, 6))\n",
    "\n",
    "mat_multiply(a, test)"
   ]
  },
  {
   "cell_type": "markdown",
   "id": "41530354",
   "metadata": {},
   "source": [
    "Problem 6:\n",
    "Transposition\n",
    "    "
   ]
  },
  {
   "cell_type": "code",
   "execution_count": 13,
   "id": "2771cf66",
   "metadata": {},
   "outputs": [
    {
     "name": "stdout",
     "output_type": "stream",
     "text": [
      "[[ 15 -48  27]\n",
      " [ -2 -74 -49]\n",
      " [  3  84  69]] \n",
      "\n",
      "[[ True  True  True]\n",
      " [ True  True  True]\n",
      " [ True  True  True]]\n"
     ]
    }
   ],
   "source": [
    "a = a.T\n",
    "b = b.T\n",
    "\n",
    "print(mat_multiply(a, b), \"\\n\")\n",
    "\n",
    "#Confirmation\n",
    "print(mat_multiply(a, b) == a@b)\n"
   ]
  },
  {
   "cell_type": "code",
   "execution_count": null,
   "id": "cb13edf1",
   "metadata": {},
   "outputs": [],
   "source": []
  }
 ],
 "metadata": {
  "kernelspec": {
   "display_name": "Python 3 (ipykernel)",
   "language": "python",
   "name": "python3"
  },
  "language_info": {
   "codemirror_mode": {
    "name": "ipython",
    "version": 3
   },
   "file_extension": ".py",
   "mimetype": "text/x-python",
   "name": "python",
   "nbconvert_exporter": "python",
   "pygments_lexer": "ipython3",
   "version": "3.11.5"
  }
 },
 "nbformat": 4,
 "nbformat_minor": 5
}
