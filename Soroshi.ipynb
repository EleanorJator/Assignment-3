{
 "cells": [
  {
   "cell_type": "code",
   "execution_count": 16,
   "id": "606e0cdc",
   "metadata": {},
   "outputs": [
    {
     "data": {
      "image/png": "[encoded data removed]",
      "text/plain": [
       "<Figure size 640x480 with 1 Axes>"
      ]
     },
     "metadata": {},
     "output_type": "display_data"
    }
   ],
   "source": [
    "# to calculate number of grains received on the 100th day at 1grain per day.\n",
    "# specify coordinates\n",
    "# gpd = grainsperday\n",
    "# nog = number of grains\n",
    "# nod = number of days \n",
    "\n",
    "import matplotlib.pyplot as plt\n",
    "\n",
    "gpd = []\n",
    "\n",
    "for x in range (100):\n",
    "    nog = 1 *(2**x) #number of grains of rice for each day\n",
    "    gpd.append(nog)\n",
    "    \n",
    "plt.title(\"sorori problem\")\n",
    "plt.xlabel(\"nod\")\n",
    "plt.ylabel(\"nog\")\n",
    "plt.tick_params(labelsize=15) # Scale values\n",
    "plt.plot(gpd)\n",
    "plt.show()\n",
    "    "
   ]
  },
  {
   "cell_type": "code",
   "execution_count": 17,
   "id": "7c1b4008",
   "metadata": {},
   "outputs": [],
   "source": [
    "# A function that calculates the number of rice grains per day in the rice anecdote\n",
    "# specify coordinates\n",
    "# gpd = grainsperday\n",
    "# nog = number of grains\n",
    "# nod = number of days\n",
    "# tgpd = totalgrainsperday\n",
    "# t = total\n",
    "\n",
    "def sorori(nod =100):\n",
    "    gpd = []\n",
    "    tgpd = []\n",
    "    for x in range (nod):\n",
    "        nog = 1 * (2**x) # line 12 above \n",
    "        gpd.append(nog)\n",
    "        t = sum(gpd[:x]) # total no. of grains from day 1 till date\n",
    "        tgpd.append(t)\n",
    "        \n",
    "    return gpd, tgpd\n",
    "\n",
    "list_n_grains, t_n_grains = soroshi(100)\n",
    "        \n",
    "        "
   ]
  },
  {
   "cell_type": "code",
   "execution_count": 15,
   "id": "25ea314c",
   "metadata": {},
   "outputs": [
    {
     "name": "stdout",
     "output_type": "stream",
     "text": [
      " 100 Students will live for 0 days on 0 grains of rice\n",
      " 100 Students will live for 0 days on 31 grains of rice\n",
      " 100 Students will live for 0 days on 1023 grains of rice\n",
      " 100 Students will live for 0 days on 32767 grains of rice\n",
      " 100 Students will live for 4 days on 1048575 grains of rice\n",
      " 100 Students will live for 134 days on 33554431 grains of rice\n",
      " 100 Students will live for 4294 days on 1073741823 grains of rice\n",
      " 100 Students will live for 137438 days on 34359738367 grains of rice\n",
      " 100 Students will live for 4398046 days on 1099511627775 grains of rice\n",
      " 100 Students will live for 140737488 days on 35184372088831 grains of rice\n",
      " 100 Students will live for 4503599627 days on 1125899906842623 grains of rice\n",
      " 100 Students will live for 144115188075 days on 36028797018963967 grains of rice\n",
      " 100 Students will live for 4611686018427 days on 1152921504606846975 grains of rice\n",
      " 100 Students will live for 147573952589676 days on 36893488147419103231 grains of rice\n",
      " 100 Students will live for 4722366482869645 days on 1180591620717411303423 grains of rice\n",
      " 100 Students will live for 151115727451828640 days on 37778931862957161709567 grains of rice\n",
      " 100 Students will live for 4835703278458516480 days on 1208925819614629174706175 grains of rice\n",
      " 100 Students will live for 154742504910672527360 days on 38685626227668133590597631 grains of rice\n",
      " 100 Students will live for 4951760157141520875520 days on 1237940039285380274899124223 grains of rice\n",
      " 100 Students will live for 158456325028528668016640 days on 39614081257132168796771975167 grains of rice\n"
     ]
    }
   ],
   "source": [
    "# A function that calculates the number of days 100 students can survive on rice\n",
    "\n",
    "\"\"\"\"\n",
    "a.Research shows that, an average person can eat 1/2 cup of rice per serving.\n",
    "b.10 cups can serve 20 people. \n",
    "c.1 cup of rice contains approx 5000 grains of rice ie 2500 in 1/2.\n",
    "\"\"\"\n",
    "# specify coordinates\n",
    "# gpd = grainsperday\n",
    "# nog = number of grains\n",
    "# nod = number of days\n",
    "# tgpd = totalgrainsperday\n",
    "# t = total\n",
    "# nos = number of students\n",
    "# tnr = total number of rice \n",
    "# ndtl = number of days to live \n",
    "# qnt = quantity\n",
    "\n",
    "def qnt_rice(nog):\n",
    "    \n",
    "    nos = 100\n",
    "    tnr = nos*2500 # no. of grians in half cup * number of students\n",
    "    ndtl = int(nog/tnr)\n",
    "    return ndtl\n",
    "\n",
    "for grains in t_n_grains [::5]:\n",
    "    print(f\" 100 Students will live for {qnt_rice(grains)} days on {grains} grains of rice\")"
   ]
  },
  {
   "cell_type": "code",
   "execution_count": null,
   "id": "f2294f28",
   "metadata": {},
   "outputs": [],
   "source": []
  }
 ],
 "metadata": {
  "kernelspec": {
   "display_name": "Python 3 (ipykernel)",
   "language": "python",
   "name": "python3"
  },
  "language_info": {
   "codemirror_mode": {
    "name": "ipython",
    "version": 3
   },
   "file_extension": ".py",
   "mimetype": "text/x-python",
   "name": "python",
   "nbconvert_exporter": "python",
   "pygments_lexer": "ipython3",
   "version": "3.11.5"
  }
 },
 "nbformat": 4,
 "nbformat_minor": 5
}
